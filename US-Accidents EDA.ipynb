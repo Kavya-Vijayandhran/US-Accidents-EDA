{
 "cells": [
  {
   "cell_type": "markdown",
   "id": "cb853653",
   "metadata": {},
   "source": [
    "US-Accidents can be used for numerous applications such as real-time car accident prediction, studying car accidents hotspot locations, casualty analysis and extracting cause and effect rules to predict car accidents, and studying the impact of precipitation or other environmental stimuli on accident occurrence.\n",
    "\n",
    "This is a countrywide car accident dataset, which covers 49 states of the USA. The accident data are collected from February 2016 to Dec 2020"
   ]
  },
  {
   "cell_type": "markdown",
   "id": "cca7bc3e",
   "metadata": {},
   "source": [
    "## Data Preparation and Cleaning\n",
    "\n",
    "1) Open using Pandas \n",
    "\n",
    " 2) Look at some information about the data and the columns\n",
    " \n",
    " 3) Fix and missing or incorrect values\n",
    "\n"
   ]
  },
  {
   "cell_type": "code",
   "execution_count": 1,
   "id": "5932d63d",
   "metadata": {},
   "outputs": [],
   "source": [
    "import pandas as pd"
   ]
  },
  {
   "cell_type": "code",
   "execution_count": 2,
   "id": "14ff411d",
   "metadata": {},
   "outputs": [],
   "source": [
    "df = pd.read_csv(\"US_Accidents_Dec20_updated.csv\")"
   ]
  },
  {
   "cell_type": "code",
   "execution_count": 6,
   "id": "58f291e0",
   "metadata": {},
   "outputs": [
    {
     "data": {
      "text/html": [
       "<div>\n",
       "<style scoped>\n",
       "    .dataframe tbody tr th:only-of-type {\n",
       "        vertical-align: middle;\n",
       "    }\n",
       "\n",
       "    .dataframe tbody tr th {\n",
       "        vertical-align: top;\n",
       "    }\n",
       "\n",
       "    .dataframe thead th {\n",
       "        text-align: right;\n",
       "    }\n",
       "</style>\n",
       "<table border=\"1\" class=\"dataframe\">\n",
       "  <thead>\n",
       "    <tr style=\"text-align: right;\">\n",
       "      <th></th>\n",
       "      <th>ID</th>\n",
       "      <th>Severity</th>\n",
       "      <th>Start_Time</th>\n",
       "      <th>End_Time</th>\n",
       "      <th>Start_Lat</th>\n",
       "      <th>Start_Lng</th>\n",
       "      <th>End_Lat</th>\n",
       "      <th>End_Lng</th>\n",
       "      <th>Distance(mi)</th>\n",
       "      <th>Description</th>\n",
       "      <th>...</th>\n",
       "      <th>Roundabout</th>\n",
       "      <th>Station</th>\n",
       "      <th>Stop</th>\n",
       "      <th>Traffic_Calming</th>\n",
       "      <th>Traffic_Signal</th>\n",
       "      <th>Turning_Loop</th>\n",
       "      <th>Sunrise_Sunset</th>\n",
       "      <th>Civil_Twilight</th>\n",
       "      <th>Nautical_Twilight</th>\n",
       "      <th>Astronomical_Twilight</th>\n",
       "    </tr>\n",
       "  </thead>\n",
       "  <tbody>\n",
       "    <tr>\n",
       "      <th>0</th>\n",
       "      <td>A-2716600</td>\n",
       "      <td>3</td>\n",
       "      <td>2016-02-08 00:37:08</td>\n",
       "      <td>2016-02-08 06:37:08</td>\n",
       "      <td>40.10891</td>\n",
       "      <td>-83.09286</td>\n",
       "      <td>40.11206</td>\n",
       "      <td>-83.03187</td>\n",
       "      <td>3.230</td>\n",
       "      <td>Between Sawmill Rd/Exit 20 and OH-315/Olentang...</td>\n",
       "      <td>...</td>\n",
       "      <td>False</td>\n",
       "      <td>False</td>\n",
       "      <td>False</td>\n",
       "      <td>False</td>\n",
       "      <td>False</td>\n",
       "      <td>False</td>\n",
       "      <td>Night</td>\n",
       "      <td>Night</td>\n",
       "      <td>Night</td>\n",
       "      <td>Night</td>\n",
       "    </tr>\n",
       "    <tr>\n",
       "      <th>1</th>\n",
       "      <td>A-2716601</td>\n",
       "      <td>2</td>\n",
       "      <td>2016-02-08 05:56:20</td>\n",
       "      <td>2016-02-08 11:56:20</td>\n",
       "      <td>39.86542</td>\n",
       "      <td>-84.06280</td>\n",
       "      <td>39.86501</td>\n",
       "      <td>-84.04873</td>\n",
       "      <td>0.747</td>\n",
       "      <td>At OH-4/OH-235/Exit 41 - Accident.</td>\n",
       "      <td>...</td>\n",
       "      <td>False</td>\n",
       "      <td>False</td>\n",
       "      <td>False</td>\n",
       "      <td>False</td>\n",
       "      <td>False</td>\n",
       "      <td>False</td>\n",
       "      <td>Night</td>\n",
       "      <td>Night</td>\n",
       "      <td>Night</td>\n",
       "      <td>Night</td>\n",
       "    </tr>\n",
       "    <tr>\n",
       "      <th>2</th>\n",
       "      <td>A-2716602</td>\n",
       "      <td>2</td>\n",
       "      <td>2016-02-08 06:15:39</td>\n",
       "      <td>2016-02-08 12:15:39</td>\n",
       "      <td>39.10266</td>\n",
       "      <td>-84.52468</td>\n",
       "      <td>39.10209</td>\n",
       "      <td>-84.52396</td>\n",
       "      <td>0.055</td>\n",
       "      <td>At I-71/US-50/Exit 1 - Accident.</td>\n",
       "      <td>...</td>\n",
       "      <td>False</td>\n",
       "      <td>False</td>\n",
       "      <td>False</td>\n",
       "      <td>False</td>\n",
       "      <td>False</td>\n",
       "      <td>False</td>\n",
       "      <td>Night</td>\n",
       "      <td>Night</td>\n",
       "      <td>Night</td>\n",
       "      <td>Day</td>\n",
       "    </tr>\n",
       "    <tr>\n",
       "      <th>3</th>\n",
       "      <td>A-2716603</td>\n",
       "      <td>2</td>\n",
       "      <td>2016-02-08 06:15:39</td>\n",
       "      <td>2016-02-08 12:15:39</td>\n",
       "      <td>39.10148</td>\n",
       "      <td>-84.52341</td>\n",
       "      <td>39.09841</td>\n",
       "      <td>-84.52241</td>\n",
       "      <td>0.219</td>\n",
       "      <td>At I-71/US-50/Exit 1 - Accident.</td>\n",
       "      <td>...</td>\n",
       "      <td>False</td>\n",
       "      <td>False</td>\n",
       "      <td>False</td>\n",
       "      <td>False</td>\n",
       "      <td>False</td>\n",
       "      <td>False</td>\n",
       "      <td>Night</td>\n",
       "      <td>Night</td>\n",
       "      <td>Night</td>\n",
       "      <td>Day</td>\n",
       "    </tr>\n",
       "    <tr>\n",
       "      <th>4</th>\n",
       "      <td>A-2716604</td>\n",
       "      <td>2</td>\n",
       "      <td>2016-02-08 06:51:45</td>\n",
       "      <td>2016-02-08 12:51:45</td>\n",
       "      <td>41.06213</td>\n",
       "      <td>-81.53784</td>\n",
       "      <td>41.06217</td>\n",
       "      <td>-81.53547</td>\n",
       "      <td>0.123</td>\n",
       "      <td>At Dart Ave/Exit 21 - Accident.</td>\n",
       "      <td>...</td>\n",
       "      <td>False</td>\n",
       "      <td>False</td>\n",
       "      <td>False</td>\n",
       "      <td>False</td>\n",
       "      <td>False</td>\n",
       "      <td>False</td>\n",
       "      <td>Night</td>\n",
       "      <td>Night</td>\n",
       "      <td>Day</td>\n",
       "      <td>Day</td>\n",
       "    </tr>\n",
       "  </tbody>\n",
       "</table>\n",
       "<p>5 rows × 47 columns</p>\n",
       "</div>"
      ],
      "text/plain": [
       "          ID  Severity           Start_Time             End_Time  Start_Lat  \\\n",
       "0  A-2716600         3  2016-02-08 00:37:08  2016-02-08 06:37:08   40.10891   \n",
       "1  A-2716601         2  2016-02-08 05:56:20  2016-02-08 11:56:20   39.86542   \n",
       "2  A-2716602         2  2016-02-08 06:15:39  2016-02-08 12:15:39   39.10266   \n",
       "3  A-2716603         2  2016-02-08 06:15:39  2016-02-08 12:15:39   39.10148   \n",
       "4  A-2716604         2  2016-02-08 06:51:45  2016-02-08 12:51:45   41.06213   \n",
       "\n",
       "   Start_Lng   End_Lat   End_Lng  Distance(mi)  \\\n",
       "0  -83.09286  40.11206 -83.03187         3.230   \n",
       "1  -84.06280  39.86501 -84.04873         0.747   \n",
       "2  -84.52468  39.10209 -84.52396         0.055   \n",
       "3  -84.52341  39.09841 -84.52241         0.219   \n",
       "4  -81.53784  41.06217 -81.53547         0.123   \n",
       "\n",
       "                                         Description  ...  Roundabout Station  \\\n",
       "0  Between Sawmill Rd/Exit 20 and OH-315/Olentang...  ...       False   False   \n",
       "1                 At OH-4/OH-235/Exit 41 - Accident.  ...       False   False   \n",
       "2                   At I-71/US-50/Exit 1 - Accident.  ...       False   False   \n",
       "3                   At I-71/US-50/Exit 1 - Accident.  ...       False   False   \n",
       "4                    At Dart Ave/Exit 21 - Accident.  ...       False   False   \n",
       "\n",
       "    Stop Traffic_Calming Traffic_Signal Turning_Loop Sunrise_Sunset  \\\n",
       "0  False           False          False        False          Night   \n",
       "1  False           False          False        False          Night   \n",
       "2  False           False          False        False          Night   \n",
       "3  False           False          False        False          Night   \n",
       "4  False           False          False        False          Night   \n",
       "\n",
       "  Civil_Twilight Nautical_Twilight Astronomical_Twilight  \n",
       "0          Night             Night                 Night  \n",
       "1          Night             Night                 Night  \n",
       "2          Night             Night                   Day  \n",
       "3          Night             Night                   Day  \n",
       "4          Night               Day                   Day  \n",
       "\n",
       "[5 rows x 47 columns]"
      ]
     },
     "execution_count": 6,
     "metadata": {},
     "output_type": "execute_result"
    }
   ],
   "source": [
    "df.head()\n",
    "#There are approxmiately 1 million rows and 47 columns"
   ]
  },
  {
   "cell_type": "code",
   "execution_count": 10,
   "id": "1a108996",
   "metadata": {},
   "outputs": [
    {
     "name": "stdout",
     "output_type": "stream",
     "text": [
      "<class 'pandas.core.frame.DataFrame'>\n",
      "RangeIndex: 1516064 entries, 0 to 1516063\n",
      "Data columns (total 47 columns):\n",
      " #   Column                 Non-Null Count    Dtype  \n",
      "---  ------                 --------------    -----  \n",
      " 0   ID                     1516064 non-null  object \n",
      " 1   Severity               1516064 non-null  int64  \n",
      " 2   Start_Time             1516064 non-null  object \n",
      " 3   End_Time               1516064 non-null  object \n",
      " 4   Start_Lat              1516064 non-null  float64\n",
      " 5   Start_Lng              1516064 non-null  float64\n",
      " 6   End_Lat                1516064 non-null  float64\n",
      " 7   End_Lng                1516064 non-null  float64\n",
      " 8   Distance(mi)           1516064 non-null  float64\n",
      " 9   Description            1516064 non-null  object \n",
      " 10  Number                 469969 non-null   float64\n",
      " 11  Street                 1516064 non-null  object \n",
      " 12  Side                   1516064 non-null  object \n",
      " 13  City                   1515981 non-null  object \n",
      " 14  County                 1516064 non-null  object \n",
      " 15  State                  1516064 non-null  object \n",
      " 16  Zipcode                1515129 non-null  object \n",
      " 17  Country                1516064 non-null  object \n",
      " 18  Timezone               1513762 non-null  object \n",
      " 19  Airport_Code           1511816 non-null  object \n",
      " 20  Weather_Timestamp      1485800 non-null  object \n",
      " 21  Temperature(F)         1473031 non-null  float64\n",
      " 22  Wind_Chill(F)          1066748 non-null  float64\n",
      " 23  Humidity(%)            1470555 non-null  float64\n",
      " 24  Pressure(in)           1479790 non-null  float64\n",
      " 25  Visibility(mi)         1471853 non-null  float64\n",
      " 26  Wind_Direction         1474206 non-null  object \n",
      " 27  Wind_Speed(mph)        1387202 non-null  float64\n",
      " 28  Precipitation(in)      1005515 non-null  float64\n",
      " 29  Weather_Condition      1472057 non-null  object \n",
      " 30  Amenity                1516064 non-null  bool   \n",
      " 31  Bump                   1516064 non-null  bool   \n",
      " 32  Crossing               1516064 non-null  bool   \n",
      " 33  Give_Way               1516064 non-null  bool   \n",
      " 34  Junction               1516064 non-null  bool   \n",
      " 35  No_Exit                1516064 non-null  bool   \n",
      " 36  Railway                1516064 non-null  bool   \n",
      " 37  Roundabout             1516064 non-null  bool   \n",
      " 38  Station                1516064 non-null  bool   \n",
      " 39  Stop                   1516064 non-null  bool   \n",
      " 40  Traffic_Calming        1516064 non-null  bool   \n",
      " 41  Traffic_Signal         1516064 non-null  bool   \n",
      " 42  Turning_Loop           1516064 non-null  bool   \n",
      " 43  Sunrise_Sunset         1515981 non-null  object \n",
      " 44  Civil_Twilight         1515981 non-null  object \n",
      " 45  Nautical_Twilight      1515981 non-null  object \n",
      " 46  Astronomical_Twilight  1515981 non-null  object \n",
      "dtypes: bool(13), float64(13), int64(1), object(20)\n",
      "memory usage: 412.1+ MB\n"
     ]
    }
   ],
   "source": [
    "df.info()"
   ]
  },
  {
   "cell_type": "code",
   "execution_count": 11,
   "id": "9bfadea0",
   "metadata": {},
   "outputs": [
    {
     "data": {
      "text/html": [
       "<div>\n",
       "<style scoped>\n",
       "    .dataframe tbody tr th:only-of-type {\n",
       "        vertical-align: middle;\n",
       "    }\n",
       "\n",
       "    .dataframe tbody tr th {\n",
       "        vertical-align: top;\n",
       "    }\n",
       "\n",
       "    .dataframe thead th {\n",
       "        text-align: right;\n",
       "    }\n",
       "</style>\n",
       "<table border=\"1\" class=\"dataframe\">\n",
       "  <thead>\n",
       "    <tr style=\"text-align: right;\">\n",
       "      <th></th>\n",
       "      <th>Severity</th>\n",
       "      <th>Start_Lat</th>\n",
       "      <th>Start_Lng</th>\n",
       "      <th>End_Lat</th>\n",
       "      <th>End_Lng</th>\n",
       "      <th>Distance(mi)</th>\n",
       "      <th>Number</th>\n",
       "      <th>Temperature(F)</th>\n",
       "      <th>Wind_Chill(F)</th>\n",
       "      <th>Humidity(%)</th>\n",
       "      <th>Pressure(in)</th>\n",
       "      <th>Visibility(mi)</th>\n",
       "      <th>Wind_Speed(mph)</th>\n",
       "      <th>Precipitation(in)</th>\n",
       "    </tr>\n",
       "  </thead>\n",
       "  <tbody>\n",
       "    <tr>\n",
       "      <th>count</th>\n",
       "      <td>1.516064e+06</td>\n",
       "      <td>1.516064e+06</td>\n",
       "      <td>1.516064e+06</td>\n",
       "      <td>1.516064e+06</td>\n",
       "      <td>1.516064e+06</td>\n",
       "      <td>1.516064e+06</td>\n",
       "      <td>4.699690e+05</td>\n",
       "      <td>1.473031e+06</td>\n",
       "      <td>1.066748e+06</td>\n",
       "      <td>1.470555e+06</td>\n",
       "      <td>1.479790e+06</td>\n",
       "      <td>1.471853e+06</td>\n",
       "      <td>1.387202e+06</td>\n",
       "      <td>1.005515e+06</td>\n",
       "    </tr>\n",
       "    <tr>\n",
       "      <th>mean</th>\n",
       "      <td>2.238630e+00</td>\n",
       "      <td>3.690056e+01</td>\n",
       "      <td>-9.859919e+01</td>\n",
       "      <td>3.690061e+01</td>\n",
       "      <td>-9.859901e+01</td>\n",
       "      <td>5.872617e-01</td>\n",
       "      <td>8.907533e+03</td>\n",
       "      <td>5.958460e+01</td>\n",
       "      <td>5.510976e+01</td>\n",
       "      <td>6.465960e+01</td>\n",
       "      <td>2.955495e+01</td>\n",
       "      <td>9.131755e+00</td>\n",
       "      <td>7.630812e+00</td>\n",
       "      <td>8.477855e-03</td>\n",
       "    </tr>\n",
       "    <tr>\n",
       "      <th>std</th>\n",
       "      <td>6.081481e-01</td>\n",
       "      <td>5.165653e+00</td>\n",
       "      <td>1.849602e+01</td>\n",
       "      <td>5.165629e+00</td>\n",
       "      <td>1.849590e+01</td>\n",
       "      <td>1.632659e+00</td>\n",
       "      <td>2.242190e+04</td>\n",
       "      <td>1.827316e+01</td>\n",
       "      <td>2.112735e+01</td>\n",
       "      <td>2.325986e+01</td>\n",
       "      <td>1.016756e+00</td>\n",
       "      <td>2.889112e+00</td>\n",
       "      <td>5.637364e+00</td>\n",
       "      <td>1.293168e-01</td>\n",
       "    </tr>\n",
       "    <tr>\n",
       "      <th>min</th>\n",
       "      <td>1.000000e+00</td>\n",
       "      <td>2.457022e+01</td>\n",
       "      <td>-1.244976e+02</td>\n",
       "      <td>2.457011e+01</td>\n",
       "      <td>-1.244978e+02</td>\n",
       "      <td>0.000000e+00</td>\n",
       "      <td>0.000000e+00</td>\n",
       "      <td>-8.900000e+01</td>\n",
       "      <td>-8.900000e+01</td>\n",
       "      <td>1.000000e+00</td>\n",
       "      <td>0.000000e+00</td>\n",
       "      <td>0.000000e+00</td>\n",
       "      <td>0.000000e+00</td>\n",
       "      <td>0.000000e+00</td>\n",
       "    </tr>\n",
       "    <tr>\n",
       "      <th>25%</th>\n",
       "      <td>2.000000e+00</td>\n",
       "      <td>3.385422e+01</td>\n",
       "      <td>-1.182076e+02</td>\n",
       "      <td>3.385420e+01</td>\n",
       "      <td>-1.182077e+02</td>\n",
       "      <td>0.000000e+00</td>\n",
       "      <td>1.212000e+03</td>\n",
       "      <td>4.700000e+01</td>\n",
       "      <td>4.080000e+01</td>\n",
       "      <td>4.800000e+01</td>\n",
       "      <td>2.944000e+01</td>\n",
       "      <td>1.000000e+01</td>\n",
       "      <td>4.600000e+00</td>\n",
       "      <td>0.000000e+00</td>\n",
       "    </tr>\n",
       "    <tr>\n",
       "      <th>50%</th>\n",
       "      <td>2.000000e+00</td>\n",
       "      <td>3.735113e+01</td>\n",
       "      <td>-9.438100e+01</td>\n",
       "      <td>3.735134e+01</td>\n",
       "      <td>-9.437987e+01</td>\n",
       "      <td>1.780000e-01</td>\n",
       "      <td>4.000000e+03</td>\n",
       "      <td>6.100000e+01</td>\n",
       "      <td>5.700000e+01</td>\n",
       "      <td>6.800000e+01</td>\n",
       "      <td>2.988000e+01</td>\n",
       "      <td>1.000000e+01</td>\n",
       "      <td>7.000000e+00</td>\n",
       "      <td>0.000000e+00</td>\n",
       "    </tr>\n",
       "    <tr>\n",
       "      <th>75%</th>\n",
       "      <td>2.000000e+00</td>\n",
       "      <td>4.072593e+01</td>\n",
       "      <td>-8.087469e+01</td>\n",
       "      <td>4.072593e+01</td>\n",
       "      <td>-8.087449e+01</td>\n",
       "      <td>5.940000e-01</td>\n",
       "      <td>1.010000e+04</td>\n",
       "      <td>7.300000e+01</td>\n",
       "      <td>7.100000e+01</td>\n",
       "      <td>8.400000e+01</td>\n",
       "      <td>3.004000e+01</td>\n",
       "      <td>1.000000e+01</td>\n",
       "      <td>1.040000e+01</td>\n",
       "      <td>0.000000e+00</td>\n",
       "    </tr>\n",
       "    <tr>\n",
       "      <th>max</th>\n",
       "      <td>4.000000e+00</td>\n",
       "      <td>4.900058e+01</td>\n",
       "      <td>-6.711317e+01</td>\n",
       "      <td>4.907500e+01</td>\n",
       "      <td>-6.710924e+01</td>\n",
       "      <td>1.551860e+02</td>\n",
       "      <td>9.999997e+06</td>\n",
       "      <td>1.706000e+02</td>\n",
       "      <td>1.130000e+02</td>\n",
       "      <td>1.000000e+02</td>\n",
       "      <td>5.804000e+01</td>\n",
       "      <td>1.400000e+02</td>\n",
       "      <td>9.840000e+02</td>\n",
       "      <td>2.400000e+01</td>\n",
       "    </tr>\n",
       "  </tbody>\n",
       "</table>\n",
       "</div>"
      ],
      "text/plain": [
       "           Severity     Start_Lat     Start_Lng       End_Lat       End_Lng  \\\n",
       "count  1.516064e+06  1.516064e+06  1.516064e+06  1.516064e+06  1.516064e+06   \n",
       "mean   2.238630e+00  3.690056e+01 -9.859919e+01  3.690061e+01 -9.859901e+01   \n",
       "std    6.081481e-01  5.165653e+00  1.849602e+01  5.165629e+00  1.849590e+01   \n",
       "min    1.000000e+00  2.457022e+01 -1.244976e+02  2.457011e+01 -1.244978e+02   \n",
       "25%    2.000000e+00  3.385422e+01 -1.182076e+02  3.385420e+01 -1.182077e+02   \n",
       "50%    2.000000e+00  3.735113e+01 -9.438100e+01  3.735134e+01 -9.437987e+01   \n",
       "75%    2.000000e+00  4.072593e+01 -8.087469e+01  4.072593e+01 -8.087449e+01   \n",
       "max    4.000000e+00  4.900058e+01 -6.711317e+01  4.907500e+01 -6.710924e+01   \n",
       "\n",
       "       Distance(mi)        Number  Temperature(F)  Wind_Chill(F)  \\\n",
       "count  1.516064e+06  4.699690e+05    1.473031e+06   1.066748e+06   \n",
       "mean   5.872617e-01  8.907533e+03    5.958460e+01   5.510976e+01   \n",
       "std    1.632659e+00  2.242190e+04    1.827316e+01   2.112735e+01   \n",
       "min    0.000000e+00  0.000000e+00   -8.900000e+01  -8.900000e+01   \n",
       "25%    0.000000e+00  1.212000e+03    4.700000e+01   4.080000e+01   \n",
       "50%    1.780000e-01  4.000000e+03    6.100000e+01   5.700000e+01   \n",
       "75%    5.940000e-01  1.010000e+04    7.300000e+01   7.100000e+01   \n",
       "max    1.551860e+02  9.999997e+06    1.706000e+02   1.130000e+02   \n",
       "\n",
       "        Humidity(%)  Pressure(in)  Visibility(mi)  Wind_Speed(mph)  \\\n",
       "count  1.470555e+06  1.479790e+06    1.471853e+06     1.387202e+06   \n",
       "mean   6.465960e+01  2.955495e+01    9.131755e+00     7.630812e+00   \n",
       "std    2.325986e+01  1.016756e+00    2.889112e+00     5.637364e+00   \n",
       "min    1.000000e+00  0.000000e+00    0.000000e+00     0.000000e+00   \n",
       "25%    4.800000e+01  2.944000e+01    1.000000e+01     4.600000e+00   \n",
       "50%    6.800000e+01  2.988000e+01    1.000000e+01     7.000000e+00   \n",
       "75%    8.400000e+01  3.004000e+01    1.000000e+01     1.040000e+01   \n",
       "max    1.000000e+02  5.804000e+01    1.400000e+02     9.840000e+02   \n",
       "\n",
       "       Precipitation(in)  \n",
       "count       1.005515e+06  \n",
       "mean        8.477855e-03  \n",
       "std         1.293168e-01  \n",
       "min         0.000000e+00  \n",
       "25%         0.000000e+00  \n",
       "50%         0.000000e+00  \n",
       "75%         0.000000e+00  \n",
       "max         2.400000e+01  "
      ]
     },
     "execution_count": 11,
     "metadata": {},
     "output_type": "execute_result"
    }
   ],
   "source": [
    "df.describe()"
   ]
  },
  {
   "cell_type": "code",
   "execution_count": 12,
   "id": "72804686",
   "metadata": {},
   "outputs": [
    {
     "data": {
      "text/plain": [
       "14"
      ]
     },
     "execution_count": 12,
     "metadata": {},
     "output_type": "execute_result"
    }
   ],
   "source": [
    "#No. of numerical data\n",
    "numerics = ['int16', 'int32', 'int64', 'float16', 'float32', 'float64']\n",
    "numeric_df = df.select_dtypes(include=numerics)\n",
    "len(numeric_df.columns)"
   ]
  },
  {
   "cell_type": "code",
   "execution_count": 18,
   "id": "3d1d26ee",
   "metadata": {},
   "outputs": [
    {
     "data": {
      "text/plain": [
       "Number                   0.690007\n",
       "Precipitation(in)        0.336760\n",
       "Wind_Chill(F)            0.296370\n",
       "Wind_Speed(mph)          0.084998\n",
       "Humidity(%)              0.030018\n",
       "Visibility(mi)           0.029162\n",
       "Weather_Condition        0.029027\n",
       "Temperature(F)           0.028385\n",
       "Wind_Direction           0.027610\n",
       "Pressure(in)             0.023926\n",
       "Weather_Timestamp        0.019962\n",
       "Airport_Code             0.002802\n",
       "Timezone                 0.001518\n",
       "Zipcode                  0.000617\n",
       "Sunrise_Sunset           0.000055\n",
       "Civil_Twilight           0.000055\n",
       "Nautical_Twilight        0.000055\n",
       "Astronomical_Twilight    0.000055\n",
       "City                     0.000055\n",
       "Country                  0.000000\n",
       "Give_Way                 0.000000\n",
       "Start_Time               0.000000\n",
       "End_Time                 0.000000\n",
       "Start_Lat                0.000000\n",
       "Turning_Loop             0.000000\n",
       "Traffic_Signal           0.000000\n",
       "Traffic_Calming          0.000000\n",
       "Stop                     0.000000\n",
       "Station                  0.000000\n",
       "Roundabout               0.000000\n",
       "Railway                  0.000000\n",
       "No_Exit                  0.000000\n",
       "Junction                 0.000000\n",
       "Crossing                 0.000000\n",
       "State                    0.000000\n",
       "Bump                     0.000000\n",
       "Amenity                  0.000000\n",
       "Start_Lng                0.000000\n",
       "End_Lat                  0.000000\n",
       "End_Lng                  0.000000\n",
       "Distance(mi)             0.000000\n",
       "Description              0.000000\n",
       "Street                   0.000000\n",
       "Severity                 0.000000\n",
       "Side                     0.000000\n",
       "County                   0.000000\n",
       "ID                       0.000000\n",
       "dtype: float64"
      ]
     },
     "execution_count": 18,
     "metadata": {},
     "output_type": "execute_result"
    }
   ],
   "source": [
    "#Percentage of missing values per column\n",
    "missing_percentage = df.isna().sum().sort_values(ascending=False)/len(df)\n",
    "missing_percentage"
   ]
  },
  {
   "cell_type": "code",
   "execution_count": 19,
   "id": "106c3b9f",
   "metadata": {},
   "outputs": [
    {
     "data": {
      "text/plain": [
       "pandas.core.series.Series"
      ]
     },
     "execution_count": 19,
     "metadata": {},
     "output_type": "execute_result"
    }
   ],
   "source": [
    "type(missing_percentage)"
   ]
  },
  {
   "cell_type": "code",
   "execution_count": 23,
   "id": "002a1b7c",
   "metadata": {},
   "outputs": [
    {
     "data": {
      "text/plain": [
       "Number                   0.690007\n",
       "Precipitation(in)        0.336760\n",
       "Wind_Chill(F)            0.296370\n",
       "Wind_Speed(mph)          0.084998\n",
       "Humidity(%)              0.030018\n",
       "Visibility(mi)           0.029162\n",
       "Weather_Condition        0.029027\n",
       "Temperature(F)           0.028385\n",
       "Wind_Direction           0.027610\n",
       "Pressure(in)             0.023926\n",
       "Weather_Timestamp        0.019962\n",
       "Airport_Code             0.002802\n",
       "Timezone                 0.001518\n",
       "Zipcode                  0.000617\n",
       "Sunrise_Sunset           0.000055\n",
       "Civil_Twilight           0.000055\n",
       "Nautical_Twilight        0.000055\n",
       "Astronomical_Twilight    0.000055\n",
       "City                     0.000055\n",
       "dtype: float64"
      ]
     },
     "execution_count": 23,
     "metadata": {},
     "output_type": "execute_result"
    }
   ],
   "source": [
    "missing_percentage[missing_percentage!=0]"
   ]
  },
  {
   "cell_type": "code",
   "execution_count": 24,
   "id": "e60d5877",
   "metadata": {},
   "outputs": [
    {
     "data": {
      "text/plain": [
       "<AxesSubplot:>"
      ]
     },
     "execution_count": 24,
     "metadata": {},
     "output_type": "execute_result"
    },
    {
     "data": {
      "image/png": "[encoded data removed]",
      "text/plain": [
       "<Figure size 432x288 with 1 Axes>"
      ]
     },
     "metadata": {
      "needs_background": "light"
     },
     "output_type": "display_data"
    }
   ],
   "source": [
    "missing_percentage[missing_percentage!=0].plot(kind=\"barh\")"
   ]
  },
  {
   "cell_type": "markdown",
   "id": "58c801b3",
   "metadata": {},
   "source": [
    "## Exploratory Analysis & Visualizations\n",
    "1) Analyzing city\n",
    "\n",
    "2) start time, start_lat, start_lng\n"
   ]
  },
  {
   "cell_type": "code",
   "execution_count": 25,
   "id": "5f790d6d",
   "metadata": {},
   "outputs": [
    {
     "data": {
      "text/plain": [
       "Index(['ID', 'Severity', 'Start_Time', 'End_Time', 'Start_Lat', 'Start_Lng',\n",
       "       'End_Lat', 'End_Lng', 'Distance(mi)', 'Description', 'Number', 'Street',\n",
       "       'Side', 'City', 'County', 'State', 'Zipcode', 'Country', 'Timezone',\n",
       "       'Airport_Code', 'Weather_Timestamp', 'Temperature(F)', 'Wind_Chill(F)',\n",
       "       'Humidity(%)', 'Pressure(in)', 'Visibility(mi)', 'Wind_Direction',\n",
       "       'Wind_Speed(mph)', 'Precipitation(in)', 'Weather_Condition', 'Amenity',\n",
       "       'Bump', 'Crossing', 'Give_Way', 'Junction', 'No_Exit', 'Railway',\n",
       "       'Roundabout', 'Station', 'Stop', 'Traffic_Calming', 'Traffic_Signal',\n",
       "       'Turning_Loop', 'Sunrise_Sunset', 'Civil_Twilight', 'Nautical_Twilight',\n",
       "       'Astronomical_Twilight'],\n",
       "      dtype='object')"
      ]
     },
     "execution_count": 25,
     "metadata": {},
     "output_type": "execute_result"
    }
   ],
   "source": [
    "df.columns"
   ]
  },
  {
   "cell_type": "code",
   "execution_count": 28,
   "id": "67d48c52",
   "metadata": {},
   "outputs": [
    {
     "data": {
      "text/plain": [
       "0               Dublin\n",
       "1               Dayton\n",
       "2           Cincinnati\n",
       "3           Cincinnati\n",
       "4                Akron\n",
       "              ...     \n",
       "1516059      Riverside\n",
       "1516060      San Diego\n",
       "1516061         Orange\n",
       "1516062    Culver City\n",
       "1516063       Highland\n",
       "Name: City, Length: 1516064, dtype: object"
      ]
     },
     "execution_count": 28,
     "metadata": {},
     "output_type": "execute_result"
    }
   ],
   "source": [
    "#Analyzing city column\n",
    "df.City"
   ]
  },
  {
   "cell_type": "code",
   "execution_count": 30,
   "id": "b8b7878d",
   "metadata": {},
   "outputs": [
    {
     "data": {
      "text/plain": [
       "10658"
      ]
     },
     "execution_count": 30,
     "metadata": {},
     "output_type": "execute_result"
    }
   ],
   "source": [
    "#Unique cities\n",
    "cities = df.City.unique()\n",
    "len(cities)"
   ]
  },
  {
   "cell_type": "code",
   "execution_count": 32,
   "id": "342d0864",
   "metadata": {},
   "outputs": [
    {
     "data": {
      "text/plain": [
       "Los Angeles                     39984\n",
       "Miami                           36233\n",
       "Charlotte                       22203\n",
       "Houston                         20843\n",
       "Dallas                          19497\n",
       "                                ...  \n",
       "Manzanita                           1\n",
       "West Brooklyn                       1\n",
       "Garfield Heights                    1\n",
       "Belding                             1\n",
       "American Fork-Pleasant Grove        1\n",
       "Name: City, Length: 10657, dtype: int64"
      ]
     },
     "execution_count": 32,
     "metadata": {},
     "output_type": "execute_result"
    }
   ],
   "source": [
    "cities_by_accident =df.City.value_counts()\n",
    "cities_by_accident"
   ]
  },
  {
   "cell_type": "code",
   "execution_count": 35,
   "id": "4fd8ca04",
   "metadata": {},
   "outputs": [
    {
     "data": {
      "text/plain": [
       "Los Angeles     39984\n",
       "Miami           36233\n",
       "Charlotte       22203\n",
       "Houston         20843\n",
       "Dallas          19497\n",
       "Sacramento      18431\n",
       "Orlando         16169\n",
       "Portland        14805\n",
       "San Diego       14090\n",
       "Minneapolis     12653\n",
       "Atlanta         11854\n",
       "Chicago         11507\n",
       "Saint Paul      10084\n",
       "Phoenix          9934\n",
       "Raleigh          9516\n",
       "San Jose         9362\n",
       "Richmond         8472\n",
       "Nashville        8381\n",
       "Riverside        8201\n",
       "Jacksonville     7815\n",
       "Name: City, dtype: int64"
      ]
     },
     "execution_count": 35,
     "metadata": {},
     "output_type": "execute_result"
    }
   ],
   "source": [
    "cities_by_accident[:20]"
   ]
  },
  {
   "cell_type": "code",
   "execution_count": 38,
   "id": "f79df610",
   "metadata": {},
   "outputs": [
    {
     "data": {
      "text/plain": [
       "False"
      ]
     },
     "execution_count": 38,
     "metadata": {},
     "output_type": "execute_result"
    }
   ],
   "source": [
    "'New York' in df.City"
   ]
  },
  {
   "cell_type": "code",
   "execution_count": 40,
   "id": "bdc10574",
   "metadata": {},
   "outputs": [
    {
     "data": {
      "text/plain": [
       "False"
      ]
     },
     "execution_count": 40,
     "metadata": {},
     "output_type": "execute_result"
    }
   ],
   "source": [
    "'NY' in df.State"
   ]
  },
  {
   "cell_type": "code",
   "execution_count": 42,
   "id": "c54d6028",
   "metadata": {},
   "outputs": [
    {
     "data": {
      "text/plain": [
       "<AxesSubplot:>"
      ]
     },
     "execution_count": 42,
     "metadata": {},
     "output_type": "execute_result"
    },
    {
     "data": {
      "image/png": "[encoded data removed]",
      "text/plain": [
       "<Figure size 432x288 with 1 Axes>"
      ]
     },
     "metadata": {
      "needs_background": "light"
     },
     "output_type": "display_data"
    }
   ],
   "source": [
    "cities_by_accident[:20].plot(kind=\"barh\")"
   ]
  },
  {
   "cell_type": "code",
   "execution_count": 43,
   "id": "dc6101f5",
   "metadata": {},
   "outputs": [],
   "source": [
    "import seaborn as sns\n",
    "sns.set_style(\"darkgrid\")"
   ]
  },
  {
   "cell_type": "code",
   "execution_count": 45,
   "id": "c3ee56da",
   "metadata": {},
   "outputs": [
    {
     "name": "stderr",
     "output_type": "stream",
     "text": [
      "C:\\Users\\kvijay7\\Anaconda3\\lib\\site-packages\\seaborn\\distributions.py:2619: FutureWarning: `distplot` is a deprecated function and will be removed in a future version. Please adapt your code to use either `displot` (a figure-level function with similar flexibility) or `histplot` (an axes-level function for histograms).\n",
      "  warnings.warn(msg, FutureWarning)\n"
     ]
    },
    {
     "data": {
      "text/plain": [
       "<AxesSubplot:xlabel='City', ylabel='Density'>"
      ]
     },
     "execution_count": 45,
     "metadata": {},
     "output_type": "execute_result"
    },
    {
     "data": {
      "image/png": "[encoded data removed]",
      "text/plain": [
       "<Figure size 432x288 with 1 Axes>"
      ]
     },
     "metadata": {},
     "output_type": "display_data"
    }
   ],
   "source": [
    "sns.distplot(cities_by_accident)"
   ]
  },
  {
   "cell_type": "code",
   "execution_count": 49,
   "id": "af5b64cb",
   "metadata": {},
   "outputs": [
    {
     "data": {
      "text/plain": [
       "0.023550384687558643"
      ]
     },
     "execution_count": 49,
     "metadata": {},
     "output_type": "execute_result"
    }
   ],
   "source": [
    "high_accident_cities = cities_by_accident[cities_by_accident>=1000]\n",
    "low_accident_cities = cities_by_accident[cities_by_accident<1000]\n",
    "len(high_accident_cities)/len(cities)"
   ]
  },
  {
   "cell_type": "code",
   "execution_count": 50,
   "id": "8bb9d390",
   "metadata": {},
   "outputs": [
    {
     "name": "stderr",
     "output_type": "stream",
     "text": [
      "C:\\Users\\kvijay7\\Anaconda3\\lib\\site-packages\\seaborn\\distributions.py:2619: FutureWarning: `distplot` is a deprecated function and will be removed in a future version. Please adapt your code to use either `displot` (a figure-level function with similar flexibility) or `histplot` (an axes-level function for histograms).\n",
      "  warnings.warn(msg, FutureWarning)\n"
     ]
    },
    {
     "data": {
      "text/plain": [
       "<AxesSubplot:xlabel='City', ylabel='Density'>"
      ]
     },
     "execution_count": 50,
     "metadata": {},
     "output_type": "execute_result"
    },
    {
     "data": {
      "image/png": "[encoded data removed]",
      "text/plain": [
       "<Figure size 432x288 with 1 Axes>"
      ]
     },
     "metadata": {},
     "output_type": "display_data"
    }
   ],
   "source": [
    "sns.distplot(high_accident_cities)"
   ]
  },
  {
   "cell_type": "code",
   "execution_count": 52,
   "id": "35e4a1b4",
   "metadata": {},
   "outputs": [
    {
     "data": {
      "text/plain": [
       "<AxesSubplot:xlabel='City', ylabel='Count'>"
      ]
     },
     "execution_count": 52,
     "metadata": {},
     "output_type": "execute_result"
    },
    {
     "data": {
      "image/png": "[encoded data removed]",
      "text/plain": [
       "<Figure size 432x288 with 1 Axes>"
      ]
     },
     "metadata": {},
     "output_type": "display_data"
    }
   ],
   "source": [
    "sns.histplot(low_accident_cities, log_scale=True)"
   ]
  },
  {
   "cell_type": "code",
   "execution_count": 56,
   "id": "c09cd29a",
   "metadata": {},
   "outputs": [
    {
     "data": {
      "text/plain": [
       "South Paris                     1\n",
       "Aberdeen Proving Ground         1\n",
       "Rebecca                         1\n",
       "Hiltons                         1\n",
       "Jeanerette                      1\n",
       "                               ..\n",
       "Manzanita                       1\n",
       "West Brooklyn                   1\n",
       "Garfield Heights                1\n",
       "Belding                         1\n",
       "American Fork-Pleasant Grove    1\n",
       "Name: City, Length: 1167, dtype: int64"
      ]
     },
     "execution_count": 56,
     "metadata": {},
     "output_type": "execute_result"
    }
   ],
   "source": [
    "cities_by_accident[cities_by_accident==1]"
   ]
  },
  {
   "cell_type": "code",
   "execution_count": 58,
   "id": "08df651f",
   "metadata": {},
   "outputs": [
    {
     "data": {
      "text/plain": [
       "0          2016-02-08 00:37:08\n",
       "1          2016-02-08 05:56:20\n",
       "2          2016-02-08 06:15:39\n",
       "3          2016-02-08 06:15:39\n",
       "4          2016-02-08 06:51:45\n",
       "                  ...         \n",
       "1516059    2019-08-23 18:03:25\n",
       "1516060    2019-08-23 19:11:30\n",
       "1516061    2019-08-23 19:00:21\n",
       "1516062    2019-08-23 19:00:21\n",
       "1516063    2019-08-23 18:52:06\n",
       "Name: Start_Time, Length: 1516064, dtype: object"
      ]
     },
     "execution_count": 58,
     "metadata": {},
     "output_type": "execute_result"
    }
   ],
   "source": [
    "## Start time\n",
    "df.Start_Time"
   ]
  },
  {
   "cell_type": "code",
   "execution_count": 60,
   "id": "c47ed21b",
   "metadata": {},
   "outputs": [
    {
     "name": "stderr",
     "output_type": "stream",
     "text": [
      "C:\\Users\\kvijay7\\AppData\\Local\\Temp/ipykernel_15252/2365298395.py:1: UserWarning: Pandas doesn't allow columns to be created via a new attribute name - see https://pandas.pydata.org/pandas-docs/stable/indexing.html#attribute-access\n",
      "  df.Start_time = pd.to_datetime(df.Start_Time)\n"
     ]
    }
   ],
   "source": [
    "df.Start_time = pd.to_datetime(df.Start_Time)"
   ]
  },
  {
   "cell_type": "code",
   "execution_count": 75,
   "id": "83feb4b0",
   "metadata": {},
   "outputs": [
    {
     "data": {
      "text/plain": [
       "0           0\n",
       "1           5\n",
       "2           6\n",
       "3           6\n",
       "4           6\n",
       "           ..\n",
       "1516059    18\n",
       "1516060    19\n",
       "1516061    19\n",
       "1516062    19\n",
       "1516063    18\n",
       "Name: Start_Time, Length: 1516064, dtype: int64"
      ]
     },
     "execution_count": 75,
     "metadata": {},
     "output_type": "execute_result"
    }
   ],
   "source": [
    "df.Start_time = pd.to_datetime(df.Start_time, errors='coerce')\n",
    "df.Start_time\n",
    "df.Start_time.dt.hour"
   ]
  },
  {
   "cell_type": "code",
   "execution_count": 79,
   "id": "e75ca287",
   "metadata": {},
   "outputs": [
    {
     "name": "stderr",
     "output_type": "stream",
     "text": [
      "C:\\Users\\kvijay7\\Anaconda3\\lib\\site-packages\\seaborn\\distributions.py:2619: FutureWarning: `distplot` is a deprecated function and will be removed in a future version. Please adapt your code to use either `displot` (a figure-level function with similar flexibility) or `histplot` (an axes-level function for histograms).\n",
      "  warnings.warn(msg, FutureWarning)\n"
     ]
    },
    {
     "data": {
      "text/plain": [
       "<AxesSubplot:xlabel='Start_Time'>"
      ]
     },
     "execution_count": 79,
     "metadata": {},
     "output_type": "execute_result"
    },
    {
     "data": {
      "image/png": "[encoded data removed]",
      "text/plain": [
       "<Figure size 432x288 with 1 Axes>"
      ]
     },
     "metadata": {},
     "output_type": "display_data"
    }
   ],
   "source": [
    "sns.distplot(df.Start_time.dt.hour, bins=24, kde=False, norm_hist=True)"
   ]
  },
  {
   "cell_type": "markdown",
   "id": "fee618c7",
   "metadata": {},
   "source": [
    "- A high percentage of accident occur between 7-9 am (Probably people in a hurry to get to work)\n",
    "- 3pm to 6pm also there's a high percentage of accidents"
   ]
  },
  {
   "cell_type": "code",
   "execution_count": 81,
   "id": "5d4726b4",
   "metadata": {},
   "outputs": [
    {
     "data": {
      "text/plain": [
       "<AxesSubplot:xlabel='Start_Time'>"
      ]
     },
     "execution_count": 81,
     "metadata": {},
     "output_type": "execute_result"
    },
    {
     "data": {
      "image/png": "[encoded data removed]",
      "text/plain": [
       "<Figure size 432x288 with 1 Axes>"
      ]
     },
     "metadata": {},
     "output_type": "display_data"
    }
   ],
   "source": [
    "sns.distplot(df.Start_time.dt.day_of_week, bins=7, kde=False, norm_hist=True)"
   ]
  },
  {
   "cell_type": "markdown",
   "id": "706e384c",
   "metadata": {},
   "source": [
    "- On weekends, no. of accidents are low"
   ]
  },
  {
   "cell_type": "code",
   "execution_count": null,
   "id": "8c884bcd",
   "metadata": {},
   "outputs": [],
   "source": [
    "## Is the distribution of accidents by hour, the same on weekends as on weekdays"
   ]
  },
  {
   "cell_type": "code",
   "execution_count": 89,
   "id": "6eae85f3",
   "metadata": {},
   "outputs": [
    {
     "data": {
      "text/plain": [
       "158        2016-02-14 03:58:33\n",
       "159        2016-02-14 05:26:58\n",
       "160        2016-02-14 16:30:40\n",
       "161        2016-02-14 16:38:40\n",
       "162        2016-02-14 17:40:17\n",
       "                  ...         \n",
       "1513810    2019-08-18 22:48:14\n",
       "1513811    2019-08-18 23:24:10\n",
       "1513925    2019-08-18 22:56:56\n",
       "1513926    2019-08-18 22:56:56\n",
       "1513965    2019-08-18 22:54:41\n",
       "Name: Start_Time, Length: 123775, dtype: object"
      ]
     },
     "execution_count": 89,
     "metadata": {},
     "output_type": "execute_result"
    }
   ],
   "source": [
    "sundays_start_time"
   ]
  },
  {
   "cell_type": "code",
   "execution_count": 95,
   "id": "86962ed0",
   "metadata": {},
   "outputs": [
    {
     "data": {
      "text/plain": [
       "<AxesSubplot:xlabel='Start_Time'>"
      ]
     },
     "execution_count": 95,
     "metadata": {},
     "output_type": "execute_result"
    },
    {
     "data": {
      "image/png": "[encoded data removed]",
      "text/plain": [
       "<Figure size 432x288 with 1 Axes>"
      ]
     },
     "metadata": {},
     "output_type": "display_data"
    }
   ],
   "source": [
    "sundays_start_time = df.Start_Time[df.Start_time.dt.day_of_week== 6]\n",
    "sundays_start_time = pd.to_datetime(sundays_start_time, errors='coerce')\n",
    "sns.distplot(sundays_start_time.dt.hour, bins=24, kde=False, norm_hist=True)"
   ]
  },
  {
   "cell_type": "markdown",
   "id": "be71837d",
   "metadata": {},
   "source": [
    "- On Sundays the peak occurs between 11 am to 4 pm, unlike weekdays"
   ]
  },
  {
   "cell_type": "code",
   "execution_count": 100,
   "id": "8f1d12ae",
   "metadata": {},
   "outputs": [
    {
     "data": {
      "text/plain": [
       "<AxesSubplot:xlabel='Start_Time'>"
      ]
     },
     "execution_count": 100,
     "metadata": {},
     "output_type": "execute_result"
    },
    {
     "data": {
      "image/png": "[encoded data removed]",
      "text/plain": [
       "<Figure size 432x288 with 1 Axes>"
      ]
     },
     "metadata": {},
     "output_type": "display_data"
    }
   ],
   "source": [
    "sns.distplot(df.Start_time.dt.month, bins=12, kde=False, norm_hist=True)"
   ]
  },
  {
   "cell_type": "markdown",
   "id": "ca99397d",
   "metadata": {},
   "source": [
    "- Monthwise trend of accidents seem to occur more in November/December (During winter)"
   ]
  },
  {
   "cell_type": "markdown",
   "id": "aa165c8b",
   "metadata": {},
   "source": [
    "##### Start Latitude and Longitude"
   ]
  },
  {
   "cell_type": "code",
   "execution_count": 101,
   "id": "f53f8209",
   "metadata": {},
   "outputs": [
    {
     "data": {
      "text/plain": [
       "0          40.10891\n",
       "1          39.86542\n",
       "2          39.10266\n",
       "3          39.10148\n",
       "4          41.06213\n",
       "             ...   \n",
       "1516059    34.00248\n",
       "1516060    32.76696\n",
       "1516061    33.77545\n",
       "1516062    33.99246\n",
       "1516063    34.13393\n",
       "Name: Start_Lat, Length: 1516064, dtype: float64"
      ]
     },
     "execution_count": 101,
     "metadata": {},
     "output_type": "execute_result"
    }
   ],
   "source": [
    "df.Start_Lat"
   ]
  },
  {
   "cell_type": "code",
   "execution_count": 103,
   "id": "120f41b7",
   "metadata": {},
   "outputs": [
    {
     "data": {
      "text/plain": [
       "0          -83.09286\n",
       "1          -84.06280\n",
       "2          -84.52468\n",
       "3          -84.52341\n",
       "4          -81.53784\n",
       "             ...    \n",
       "1516059   -117.37936\n",
       "1516060   -117.14806\n",
       "1516061   -117.84779\n",
       "1516062   -118.40302\n",
       "1516063   -117.23092\n",
       "Name: Start_Lng, Length: 1516064, dtype: float64"
      ]
     },
     "execution_count": 103,
     "metadata": {},
     "output_type": "execute_result"
    }
   ],
   "source": [
    "df.Start_Lng"
   ]
  },
  {
   "cell_type": "code",
   "execution_count": 105,
   "id": "7ff64724",
   "metadata": {},
   "outputs": [
    {
     "data": {
      "text/plain": [
       "<AxesSubplot:xlabel='Start_Lng', ylabel='Start_Lat'>"
      ]
     },
     "execution_count": 105,
     "metadata": {},
     "output_type": "execute_result"
    },
    {
     "data": {
      "image/png": "[encoded data removed]",
      "text/plain": [
       "<Figure size 432x288 with 1 Axes>"
      ]
     },
     "metadata": {},
     "output_type": "display_data"
    }
   ],
   "source": [
    "sns.scatterplot(x=df.Start_Lng, y=df.Start_Lat, size = 0.001)"
   ]
  },
  {
   "cell_type": "code",
   "execution_count": 108,
   "id": "095585b2",
   "metadata": {},
   "outputs": [],
   "source": [
    "#pip install folium"
   ]
  },
  {
   "cell_type": "code",
   "execution_count": 109,
   "id": "b9283b1c",
   "metadata": {},
   "outputs": [],
   "source": [
    "import folium"
   ]
  },
  {
   "cell_type": "code",
   "execution_count": 112,
   "id": "5eeb8fe4",
   "metadata": {},
   "outputs": [
    {
     "data": {
      "text/plain": [
       "(40.10891, -83.09286)"
      ]
     },
     "execution_count": 112,
     "metadata": {},
     "output_type": "execute_result"
    }
   ],
   "source": [
    "lat,lon = df.Start_Lat[0], df.Start_Lng[0]\n",
    "lat,lon"
   ]
  },
  {
   "cell_type": "code",
   "execution_count": 117,
   "id": "0ed592df",
   "metadata": {},
   "outputs": [
    {
     "name": "stdout",
     "output_type": "stream",
     "text": [
      "('Start_Lat', 696901     25.734914\n",
      "967132     36.306130\n",
      "706280     33.969855\n",
      "1324865    33.834590\n",
      "1364461    33.417630\n",
      "             ...    \n",
      "1409859    28.863210\n",
      "1300181    36.845720\n",
      "1401152    25.884928\n",
      "653318     28.404318\n",
      "308517     37.465048\n",
      "Name: Start_Lat, Length: 100, dtype: float64)\n",
      "('Start_Lng', 696901     -80.335873\n",
      "967132     -86.706160\n",
      "706280     -80.923546\n",
      "1324865    -84.428020\n",
      "1364461   -111.891170\n",
      "              ...    \n",
      "1409859    -82.091920\n",
      "1300181    -76.182400\n",
      "1401152    -80.339617\n",
      "653318     -81.576030\n",
      "308517     -77.665039\n",
      "Name: Start_Lng, Length: 100, dtype: float64)\n"
     ]
    }
   ],
   "source": [
    "for x in df[['Start_Lat', 'Start_Lng']].sample(100).iteritems():\n",
    "    print(x.Start_lat)"
   ]
  },
  {
   "cell_type": "code",
   "execution_count": 120,
   "id": "2cfe984c",
   "metadata": {},
   "outputs": [
    {
     "data": {
      "text/plain": [
       "[(-83.09286, -83.09286),\n",
       " (-84.0628, -84.0628),\n",
       " (-84.52468, -84.52468),\n",
       " (-84.52341, -84.52341),\n",
       " (-81.53784, -81.53784),\n",
       " (-84.492792, -84.492792),\n",
       " (-84.03243, -84.03243),\n",
       " (-84.05855, -84.05855),\n",
       " (-84.18603, -84.18603),\n",
       " (-81.82017, -81.82017),\n",
       " (-84.075887, -84.075887),\n",
       " (-82.96849, -82.96849),\n",
       " (-84.47723, -84.47723),\n",
       " (-84.53394, -84.53394),\n",
       " (-81.704233, -81.704233),\n",
       " (-83.677814, -83.677814),\n",
       " (-81.312635, -81.312635),\n",
       " (-81.312682, -81.312682),\n",
       " (-82.84695, -82.84695),\n",
       " (-82.85657, -82.85657),\n",
       " (-82.9944, -82.9944),\n",
       " (-83.573037, -83.573037),\n",
       " (-85.26613, -85.26613),\n",
       " (-84.59243, -84.59243),\n",
       " (-82.99601, -82.99601),\n",
       " (-84.28181, -84.28181),\n",
       " (-84.5395, -84.5395),\n",
       " (-85.95982, -85.95982),\n",
       " (-84.04815, -84.04815),\n",
       " (-83.12306, -83.12306),\n",
       " (-85.82518, -85.82518),\n",
       " (-85.51659, -85.51659),\n",
       " (-85.62516, -85.62516),\n",
       " (-84.14148, -84.14148),\n",
       " (-81.49929, -81.49929),\n",
       " (-85.96623, -85.96623),\n",
       " (-83.67214, -83.67214),\n",
       " (-85.74844, -85.74844),\n",
       " (-83.67214, -83.67214),\n",
       " (-80.06666, -80.06666),\n",
       " (-80.009439, -80.009439),\n",
       " (-83.018431, -83.018431),\n",
       " (-81.71182, -81.71182),\n",
       " (-81.54608, -81.54608),\n",
       " (-85.15048, -85.15048),\n",
       " (-85.14993, -85.14993),\n",
       " (-85.13715, -85.13715),\n",
       " (-85.13749, -85.13749),\n",
       " (-83.020499, -83.020499),\n",
       " (-84.78965, -84.78965),\n",
       " (-85.25847, -85.25847),\n",
       " (-81.75909, -81.75909),\n",
       " (-80.10143, -80.10143),\n",
       " (-84.204939, -84.204939),\n",
       " (-84.22033, -84.22033),\n",
       " (-84.20561, -84.20561),\n",
       " (-84.96444, -84.96444),\n",
       " (-82.99708, -82.99708),\n",
       " (-85.71946, -85.71946),\n",
       " (-85.80678, -85.80678),\n",
       " (-85.80838, -85.80838),\n",
       " (-82.87008, -82.87008),\n",
       " (-81.569917, -81.569917),\n",
       " (-83.68767, -83.68767),\n",
       " (-80.175232, -80.175232),\n",
       " (-82.84849, -82.84849),\n",
       " (-80.1096, -80.1096),\n",
       " (-80.22624, -80.22624),\n",
       " (-83.57063, -83.57063),\n",
       " (-81.66297, -81.66297),\n",
       " (-81.4804, -81.4804),\n",
       " (-82.989106, -82.989106),\n",
       " (-81.24561, -81.24561),\n",
       " (-81.17636, -81.17636),\n",
       " (-81.78485, -81.78485),\n",
       " (-84.1923, -84.1923),\n",
       " (-81.47417, -81.47417),\n",
       " (-80.2029, -80.2029),\n",
       " (-81.7687, -81.7687),\n",
       " (-81.57809, -81.57809),\n",
       " (-81.72095, -81.72095),\n",
       " (-84.80559, -84.80559),\n",
       " (-84.80373, -84.80373),\n",
       " (-81.78573, -81.78573),\n",
       " (-84.808858, -84.808858),\n",
       " (-84.76619, -84.76619),\n",
       " (-84.21426, -84.21426),\n",
       " (-81.69052, -81.69052),\n",
       " (-81.84674, -81.84674),\n",
       " (-84.48273, -84.48273),\n",
       " (-84.49638, -84.49638),\n",
       " (-85.85499, -85.85499),\n",
       " (-81.65623, -81.65623),\n",
       " (-81.65623, -81.65623),\n",
       " (-81.58593, -81.58593),\n",
       " (-85.18716, -85.18716),\n",
       " (-80.667067, -80.667067),\n",
       " (-83.03097, -83.03097),\n",
       " (-81.5139, -81.5139),\n",
       " (-84.49031, -84.49031),\n",
       " (-84.16614, -84.16614),\n",
       " (-84.49031, -84.49031),\n",
       " (-81.65299, -81.65299),\n",
       " (-81.65623, -81.65623),\n",
       " (-81.5, -81.5),\n",
       " (-84.45275, -84.45275),\n",
       " (-83.00883, -83.00883),\n",
       " (-85.75302, -85.75302),\n",
       " (-84.50801, -84.50801),\n",
       " (-81.708409, -81.708409),\n",
       " (-81.565332, -81.565332),\n",
       " (-84.99082, -84.99082),\n",
       " (-84.43965, -84.43965),\n",
       " (-81.81104, -81.81104),\n",
       " (-81.63157, -81.63157),\n",
       " (-80.09885, -80.09885),\n",
       " (-81.49078, -81.49078),\n",
       " (-81.50595, -81.50595),\n",
       " (-84.4873, -84.4873),\n",
       " (-81.60992, -81.60992),\n",
       " (-81.6934, -81.6934),\n",
       " (-80.09885, -80.09885),\n",
       " (-81.64414, -81.64414),\n",
       " (-84.44562, -84.44562),\n",
       " (-84.40073, -84.40073),\n",
       " (-81.89631, -81.89631),\n",
       " (-81.60676, -81.60676),\n",
       " (-84.603, -84.603),\n",
       " (-84.20106, -84.20106),\n",
       " (-83.044, -83.044),\n",
       " (-84.47331, -84.47331),\n",
       " (-84.45364, -84.45364),\n",
       " (-84.44283, -84.44283),\n",
       " (-82.98368, -82.98368),\n",
       " (-80.03596, -80.03596),\n",
       " (-80.03507, -80.03507),\n",
       " (-81.67733, -81.67733),\n",
       " (-81.49079, -81.49079),\n",
       " (-84.20479, -84.20479),\n",
       " (-81.9476, -81.9476),\n",
       " (-83.36026, -83.36026),\n",
       " (-80.432713, -80.432713),\n",
       " (-85.5577, -85.5577),\n",
       " (-85.14302, -85.14302),\n",
       " (-85.5577, -85.5577),\n",
       " (-85.54968, -85.54968),\n",
       " (-85.14018, -85.14018),\n",
       " (-84.52118, -84.52118),\n",
       " (-84.62527, -84.62527),\n",
       " (-84.60423, -84.60423),\n",
       " (-84.20479, -84.20479),\n",
       " (-80.137554, -80.137554),\n",
       " (-80.06859, -80.06859),\n",
       " (-84.39072, -84.39072),\n",
       " (-83.692226, -83.692226),\n",
       " (-80.00957, -80.00957),\n",
       " (-80.00957, -80.00957),\n",
       " (-82.99591, -82.99591),\n",
       " (-80.00971, -80.00971),\n",
       " (-81.730092, -81.730092),\n",
       " (-85.51659, -85.51659),\n",
       " (-85.7749, -85.7749),\n",
       " (-85.72562, -85.72562),\n",
       " (-84.290792, -84.290792),\n",
       " (-85.682047, -85.682047),\n",
       " (-85.55752, -85.55752),\n",
       " (-80.00666, -80.00666),\n",
       " (-80.00971, -80.00971),\n",
       " (-80.00666, -80.00666),\n",
       " (-80.00666, -80.00666),\n",
       " (-82.9763, -82.9763),\n",
       " (-83.04255, -83.04255),\n",
       " (-85.97372, -85.97372),\n",
       " (-85.77156, -85.77156),\n",
       " (-85.82177, -85.82177),\n",
       " (-83.02875, -83.02875),\n",
       " (-85.77702, -85.77702),\n",
       " (-85.71946, -85.71946),\n",
       " (-82.99882, -82.99882),\n",
       " (-85.32855, -85.32855),\n",
       " (-85.28893, -85.28893),\n",
       " (-83.36986, -83.36986),\n",
       " (-84.62203, -84.62203),\n",
       " (-84.61374, -84.61374),\n",
       " (-82.99882, -82.99882),\n",
       " (-84.61787, -84.61787),\n",
       " (-84.61374, -84.61374),\n",
       " (-83.57266, -83.57266),\n",
       " (-81.86113, -81.86113),\n",
       " (-85.75389, -85.75389),\n",
       " (-84.53495, -84.53495),\n",
       " (-85.34888, -85.34888),\n",
       " (-85.32291, -85.32291),\n",
       " (-81.81988, -81.81988),\n",
       " (-84.39043, -84.39043),\n",
       " (-83.180105, -83.180105),\n",
       " (-85.474495, -85.474495),\n",
       " (-85.63794, -85.63794),\n",
       " (-85.150017, -85.150017),\n",
       " (-85.150502, -85.150502),\n",
       " (-80.2374, -80.2374),\n",
       " (-85.14974, -85.14974),\n",
       " (-85.14993, -85.14993),\n",
       " (-81.55153, -81.55153),\n",
       " (-82.41127, -82.41127),\n",
       " (-83.11922, -83.11922),\n",
       " (-80.09494, -80.09494),\n",
       " (-83.00883, -83.00883),\n",
       " (-81.50372, -81.50372),\n",
       " (-85.965783, -85.965783),\n",
       " (-83.04255, -83.04255),\n",
       " (-83.00883, -83.00883),\n",
       " (-82.84695, -82.84695),\n",
       " (-85.9188, -85.9188),\n",
       " (-81.51146, -81.51146),\n",
       " (-80.69004, -80.69004),\n",
       " (-80.69242, -80.69242),\n",
       " (-83.03097, -83.03097),\n",
       " (-80.682026, -80.682026),\n",
       " (-85.760397, -85.760397),\n",
       " (-81.65055, -81.65055),\n",
       " (-80.76034, -80.76034),\n",
       " (-80.677589, -80.677589),\n",
       " (-82.94428, -82.94428),\n",
       " (-81.52228, -81.52228),\n",
       " (-83.03906, -83.03906),\n",
       " (-83.043909, -83.043909),\n",
       " (-83.03336, -83.03336),\n",
       " (-85.1612, -85.1612),\n",
       " (-85.10323, -85.10323),\n",
       " (-83.90263, -83.90263),\n",
       " (-83.54203, -83.54203),\n",
       " (-84.539381, -84.539381),\n",
       " (-85.3528, -85.3528),\n",
       " (-85.34522, -85.34522),\n",
       " (-80.64847, -80.64847),\n",
       " (-83.54107, -83.54107),\n",
       " (-82.3465, -82.3465),\n",
       " (-83.69385, -83.69385),\n",
       " (-84.52264, -84.52264),\n",
       " (-80.278075, -80.278075),\n",
       " (-81.73867, -81.73867),\n",
       " (-82.90466, -82.90466),\n",
       " (-81.64083, -81.64083),\n",
       " (-81.47454, -81.47454),\n",
       " (-82.02361, -82.02361),\n",
       " (-82.025802, -82.025802),\n",
       " (-83.071034, -83.071034),\n",
       " (-84.99082, -84.99082),\n",
       " (-84.45455, -84.45455),\n",
       " (-85.76482, -85.76482),\n",
       " (-81.65407, -81.65407),\n",
       " (-83.151457, -83.151457),\n",
       " (-83.15877, -83.15877),\n",
       " (-81.54987, -81.54987),\n",
       " (-83.151457, -83.151457),\n",
       " (-83.15877, -83.15877),\n",
       " (-81.69463, -81.69463),\n",
       " (-81.69052, -81.69052),\n",
       " (-84.346, -84.346),\n",
       " (-84.56742, -84.56742),\n",
       " (-82.22232, -82.22232),\n",
       " (-84.49031, -84.49031),\n",
       " (-84.4873, -84.4873),\n",
       " (-82.22232, -82.22232),\n",
       " (-82.22232, -82.22232),\n",
       " (-83.5678, -83.5678),\n",
       " (-83.5652, -83.5652),\n",
       " (-84.35176, -84.35176),\n",
       " (-81.69931, -81.69931),\n",
       " (-80.74006, -80.74006),\n",
       " (-80.76219, -80.76219),\n",
       " (-81.5835, -81.5835),\n",
       " (-83.11389, -83.11389),\n",
       " (-85.7622, -85.7622),\n",
       " (-85.654625, -85.654625),\n",
       " (-83.24607, -83.24607),\n",
       " (-81.62795, -81.62795),\n",
       " (-84.5227, -84.5227),\n",
       " (-85.76632, -85.76632),\n",
       " (-81.60032, -81.60032),\n",
       " (-84.50492, -84.50492),\n",
       " (-81.57421, -81.57421),\n",
       " (-80.01029, -80.01029),\n",
       " (-81.66471, -81.66471),\n",
       " (-82.94428, -82.94428),\n",
       " (-81.80859, -81.80859),\n",
       " (-81.57421, -81.57421),\n",
       " (-81.39732, -81.39732),\n",
       " (-81.81724, -81.81724),\n",
       " (-85.13584, -85.13584),\n",
       " (-85.13611, -85.13611),\n",
       " (-84.624429, -84.624429),\n",
       " (-81.6667, -81.6667),\n",
       " (-80.16652, -80.16652),\n",
       " (-84.50003, -84.50003),\n",
       " (-81.47694, -81.47694),\n",
       " (-84.44711, -84.44711),\n",
       " (-84.18908, -84.18908),\n",
       " (-84.1899, -84.1899),\n",
       " (-81.71182, -81.71182),\n",
       " (-84.47589, -84.47589),\n",
       " (-84.49754, -84.49754),\n",
       " (-81.67261, -81.67261),\n",
       " (-84.53509, -84.53509),\n",
       " (-81.699011, -81.699011),\n",
       " (-83.09654, -83.09654),\n",
       " (-84.2808, -84.2808),\n",
       " (-84.36541, -84.36541),\n",
       " (-85.58773, -85.58773),\n",
       " (-84.346, -84.346),\n",
       " (-84.31981, -84.31981),\n",
       " (-84.5395, -84.5395),\n",
       " (-81.49014, -81.49014),\n",
       " (-84.35605, -84.35605),\n",
       " (-84.35176, -84.35176),\n",
       " (-85.74846, -85.74846),\n",
       " (-82.97112, -82.97112),\n",
       " (-81.66758, -81.66758),\n",
       " (-84.52271, -84.52271),\n",
       " (-83.64064, -83.64064),\n",
       " (-82.99591, -82.99591),\n",
       " (-84.05238, -84.05238),\n",
       " (-82.293065, -82.293065),\n",
       " (-81.69893, -81.69893),\n",
       " (-81.68721, -81.68721),\n",
       " (-83.1347, -83.1347),\n",
       " (-80.679211, -80.679211),\n",
       " (-85.71902, -85.71902),\n",
       " (-85.71969, -85.71969),\n",
       " (-84.494399, -84.494399),\n",
       " (-81.52229, -81.52229),\n",
       " (-84.440978, -84.440978),\n",
       " (-82.895471, -82.895471),\n",
       " (-83.13331, -83.13331),\n",
       " (-81.81739, -81.81739),\n",
       " (-82.92089, -82.92089),\n",
       " (-80.11963, -80.11963),\n",
       " (-81.77066, -81.77066),\n",
       " (-81.70017, -81.70017),\n",
       " (-85.232647, -85.232647),\n",
       " (-85.244829, -85.244829),\n",
       " (-84.53495, -84.53495),\n",
       " (-81.15473, -81.15473),\n",
       " (-83.911307, -83.911307),\n",
       " (-83.9136, -83.9136),\n",
       " (-81.172194, -81.172194),\n",
       " (-82.98299, -82.98299),\n",
       " (-82.98432, -82.98432),\n",
       " (-84.42043, -84.42043),\n",
       " (-85.35383, -85.35383),\n",
       " (-81.49929, -81.49929),\n",
       " (-85.5577, -85.5577),\n",
       " (-85.54968, -85.54968),\n",
       " (-81.388878, -81.388878),\n",
       " (-85.778613, -85.778613),\n",
       " (-81.714434, -81.714434),\n",
       " (-81.58664, -81.58664),\n",
       " (-82.98726, -82.98726),\n",
       " (-82.99188, -82.99188),\n",
       " (-83.53682, -83.53682),\n",
       " (-84.365, -84.365),\n",
       " (-84.53539, -84.53539),\n",
       " (-83.77673, -83.77673),\n",
       " (-83.77199, -83.77199),\n",
       " (-82.90821, -82.90821),\n",
       " (-84.48312, -84.48312),\n",
       " (-80.02638, -80.02638),\n",
       " (-85.19285, -85.19285),\n",
       " (-85.159694, -85.159694),\n",
       " (-81.75909, -81.75909),\n",
       " (-84.465864, -84.465864),\n",
       " (-84.45364, -84.45364),\n",
       " (-81.499987, -81.499987),\n",
       " (-81.4999, -81.4999),\n",
       " (-84.49754, -84.49754),\n",
       " (-81.69353, -81.69353),\n",
       " (-83.45642, -83.45642),\n",
       " (-83.46344, -83.46344),\n",
       " (-81.68161, -81.68161),\n",
       " (-85.50532, -85.50532),\n",
       " (-81.41647, -81.41647),\n",
       " (-85.50111, -85.50111),\n",
       " (-84.53501, -84.53501),\n",
       " (-84.51974, -84.51974),\n",
       " (-84.19519, -84.19519),\n",
       " (-80.10368, -80.10368),\n",
       " (-81.57816, -81.57816),\n",
       " (-84.94276, -84.94276),\n",
       " (-84.94276, -84.94276),\n",
       " (-84.52341, -84.52341),\n",
       " (-84.52468, -84.52468),\n",
       " (-83.60062, -83.60062),\n",
       " (-81.35221, -81.35221),\n",
       " (-83.62276, -83.62276),\n",
       " (-81.30566, -81.30566),\n",
       " (-82.285379, -82.285379),\n",
       " (-82.261446, -82.261446),\n",
       " (-81.804429, -81.804429),\n",
       " (-80.01234, -80.01234),\n",
       " (-83.12479, -83.12479),\n",
       " (-81.50492, -81.50492),\n",
       " (-83.53046, -83.53046),\n",
       " (-83.723939, -83.723939),\n",
       " (-83.73105, -83.73105),\n",
       " (-81.49904, -81.49904),\n",
       " (-81.50595, -81.50595),\n",
       " (-82.98368, -82.98368),\n",
       " (-83.00942, -83.00942),\n",
       " (-82.807829, -82.807829),\n",
       " (-81.8184, -81.8184),\n",
       " (-84.39078, -84.39078),\n",
       " (-82.89541, -82.89541),\n",
       " (-82.99708, -82.99708),\n",
       " (-82.98568, -82.98568),\n",
       " (-85.409527, -85.409527),\n",
       " (-85.409642, -85.409642),\n",
       " (-82.78939, -82.78939),\n",
       " (-83.03336, -83.03336),\n",
       " (-82.93332, -82.93332),\n",
       " (-83.09327, -83.09327),\n",
       " (-81.49372, -81.49372),\n",
       " (-85.77702, -85.77702),\n",
       " (-81.5, -81.5),\n",
       " (-85.77896, -85.77896),\n",
       " (-81.69052, -81.69052),\n",
       " (-85.77866, -85.77866),\n",
       " (-84.061832, -84.061832),\n",
       " (-85.88893, -85.88893),\n",
       " (-83.40048, -83.40048),\n",
       " (-83.37499, -83.37499),\n",
       " (-84.39781, -84.39781),\n",
       " (-83.0354, -83.0354),\n",
       " (-85.63374, -85.63374),\n",
       " (-85.63454, -85.63454),\n",
       " (-85.72518, -85.72518),\n",
       " (-85.67459, -85.67459),\n",
       " (-84.47589, -84.47589),\n",
       " (-83.5669, -83.5669),\n",
       " (-85.03312, -85.03312),\n",
       " (-83.666, -83.666),\n",
       " (-82.9432, -82.9432),\n",
       " (-81.66036, -81.66036),\n",
       " (-84.812135, -84.812135),\n",
       " (-83.02459, -83.02459),\n",
       " (-83.35018, -83.35018),\n",
       " (-83.638931, -83.638931),\n",
       " (-83.48336, -83.48336),\n",
       " (-85.8495, -85.8495),\n",
       " (-85.839527, -85.839527),\n",
       " (-81.75909, -81.75909),\n",
       " (-84.48373, -84.48373),\n",
       " (-80.40234, -80.40234),\n",
       " (-84.310264, -84.310264),\n",
       " (-81.80342, -81.80342),\n",
       " (-82.85657, -82.85657),\n",
       " (-80.028261, -80.028261),\n",
       " (-83.15445, -83.15445),\n",
       " (-83.09654, -83.09654),\n",
       " (-83.11698, -83.11698),\n",
       " (-83.12002, -83.12002),\n",
       " (-84.36832, -84.36832),\n",
       " (-83.118881, -83.118881),\n",
       " (-84.20489, -84.20489),\n",
       " (-81.8184, -81.8184),\n",
       " (-81.66634, -81.66634),\n",
       " (-84.44835, -84.44835),\n",
       " (-83.03906, -83.03906),\n",
       " (-80.16652, -80.16652),\n",
       " (-80.16798, -80.16798),\n",
       " (-81.67554, -81.67554),\n",
       " (-80.26148, -80.26148),\n",
       " (-83.04255, -83.04255),\n",
       " (-85.14018, -85.14018),\n",
       " (-85.14406, -85.14406),\n",
       " (-85.75655, -85.75655),\n",
       " (-83.40048, -83.40048),\n",
       " (-83.39224, -83.39224),\n",
       " (-84.50003, -84.50003),\n",
       " (-81.885739, -81.885739),\n",
       " (-81.68161, -81.68161),\n",
       " (-80.227514, -80.227514),\n",
       " (-80.22581, -80.22581),\n",
       " (-81.438626, -81.438626),\n",
       " (-85.843032, -85.843032),\n",
       " (-85.842969, -85.842969),\n",
       " (-85.85673, -85.85673),\n",
       " (-82.98405, -82.98405),\n",
       " (-81.287, -81.287),\n",
       " (-81.27197, -81.27197),\n",
       " (-83.62123, -83.62123),\n",
       " (-82.83025, -82.83025),\n",
       " (-84.52264, -84.52264),\n",
       " (-84.32502, -84.32502),\n",
       " (-85.70526, -85.70526),\n",
       " (-85.58601, -85.58601),\n",
       " (-81.65326, -81.65326),\n",
       " (-81.53053, -81.53053),\n",
       " (-81.49976, -81.49976),\n",
       " (-85.67843, -85.67843),\n",
       " (-80.929665, -80.929665),\n",
       " (-85.57791, -85.57791),\n",
       " (-85.57781, -85.57781),\n",
       " (-82.89541, -82.89541),\n",
       " (-81.49326, -81.49326),\n",
       " (-80.66483, -80.66483),\n",
       " (-84.38094, -84.38094),\n",
       " (-80.127181, -80.127181),\n",
       " (-80.65729, -80.65729),\n",
       " (-83.04748, -83.04748),\n",
       " (-83.038786, -83.038786),\n",
       " (-83.03428, -83.03428),\n",
       " (-83.693727, -83.693727),\n",
       " (-85.15503, -85.15503),\n",
       " (-84.52118, -84.52118),\n",
       " (-83.62123, -83.62123),\n",
       " (-84.522724, -84.522724),\n",
       " (-82.98879, -82.98879),\n",
       " (-84.46345, -84.46345),\n",
       " (-82.96403, -82.96403),\n",
       " (-80.19247, -80.19247),\n",
       " (-80.19314, -80.19314),\n",
       " (-84.51375, -84.51375),\n",
       " (-84.51375, -84.51375),\n",
       " (-84.54061, -84.54061),\n",
       " (-85.13715, -85.13715),\n",
       " (-83.69385, -83.69385),\n",
       " (-83.69385, -83.69385),\n",
       " (-84.37462, -84.37462),\n",
       " (-83.6176, -83.6176),\n",
       " (-84.51907, -84.51907),\n",
       " (-85.752672, -85.752672),\n",
       " (-80.02821, -80.02821),\n",
       " (-80.02468, -80.02468),\n",
       " (-85.85499, -85.85499),\n",
       " (-80.13756, -80.13756),\n",
       " (-80.13836, -80.13836),\n",
       " (-85.88893, -85.88893),\n",
       " (-83.66011, -83.66011),\n",
       " (-80.92163, -80.92163),\n",
       " (-80.90579, -80.90579),\n",
       " (-84.7069, -84.7069),\n",
       " (-85.81793, -85.81793),\n",
       " (-84.86438, -84.86438),\n",
       " (-84.43731, -84.43731),\n",
       " (-84.226084, -84.226084),\n",
       " (-80.11963, -80.11963),\n",
       " (-80.149019, -80.149019),\n",
       " (-80.158605, -80.158605),\n",
       " (-85.626718, -85.626718),\n",
       " (-81.609895, -81.609895),\n",
       " (-83.1347, -83.1347),\n",
       " (-83.13046, -83.13046),\n",
       " (-83.40449, -83.40449),\n",
       " (-83.40553, -83.40553),\n",
       " (-84.46656, -84.46656),\n",
       " (-81.54525, -81.54525),\n",
       " (-85.847643, -85.847643),\n",
       " (-83.54913, -83.54913),\n",
       " (-85.733953, -85.733953),\n",
       " (-82.99355, -82.99355),\n",
       " (-84.49031, -84.49031),\n",
       " (-83.56258, -83.56258),\n",
       " (-83.5732, -83.5732),\n",
       " (-84.36493, -84.36493),\n",
       " (-85.590395, -85.590395),\n",
       " (-81.80535, -81.80535),\n",
       " (-85.74846, -85.74846),\n",
       " (-84.371079, -84.371079),\n",
       " (-83.55579, -83.55579),\n",
       " (-84.22926, -84.22926),\n",
       " (-81.70682, -81.70682),\n",
       " (-85.756847, -85.756847),\n",
       " (-84.47589, -84.47589),\n",
       " (-84.67308, -84.67308),\n",
       " (-84.53355, -84.53355),\n",
       " (-84.36541, -84.36541),\n",
       " (-81.5049, -81.5049),\n",
       " (-84.48373, -84.48373),\n",
       " (-81.50987, -81.50987),\n",
       " (-82.98568, -82.98568),\n",
       " (-83.04811, -83.04811),\n",
       " (-84.53929, -84.53929),\n",
       " (-83.84997, -83.84997),\n",
       " (-82.98517, -82.98517),\n",
       " (-82.97548, -82.97548),\n",
       " (-80.09494, -80.09494),\n",
       " (-84.27783, -84.27783),\n",
       " (-84.53355, -84.53355),\n",
       " (-81.80554, -81.80554),\n",
       " (-82.90411, -82.90411),\n",
       " (-84.51666, -84.51666),\n",
       " (-81.52405, -81.52405),\n",
       " (-84.49464, -84.49464),\n",
       " (-84.516019, -84.516019),\n",
       " (-81.51146, -81.51146),\n",
       " (-81.5139, -81.5139),\n",
       " (-80.13661, -80.13661),\n",
       " (-80.132407, -80.132407),\n",
       " (-83.1186, -83.1186),\n",
       " (-82.53893, -82.53893),\n",
       " (-84.53509, -84.53509),\n",
       " (-84.45712, -84.45712),\n",
       " (-82.90783, -82.90783),\n",
       " (-85.91697, -85.91697),\n",
       " (-84.5227, -84.5227),\n",
       " (-85.73695, -85.73695),\n",
       " (-85.70445, -85.70445),\n",
       " (-84.54283, -84.54283),\n",
       " (-81.64519, -81.64519),\n",
       " (-84.42706, -84.42706),\n",
       " (-83.61635, -83.61635),\n",
       " (-81.50987, -81.50987),\n",
       " (-81.5049, -81.5049),\n",
       " (-81.63354, -81.63354),\n",
       " (-83.03336, -83.03336),\n",
       " (-81.72196, -81.72196),\n",
       " (-84.49182, -84.49182),\n",
       " (-82.84305, -82.84305),\n",
       " (-84.49031, -84.49031),\n",
       " (-84.42104, -84.42104),\n",
       " (-80.391285, -80.391285),\n",
       " (-84.4873, -84.4873),\n",
       " (-84.47069, -84.47069),\n",
       " (-84.34894, -84.34894),\n",
       " (-81.64755, -81.64755),\n",
       " (-81.651599, -81.651599),\n",
       " (-83.62123, -83.62123),\n",
       " (-80.195782, -80.195782),\n",
       " (-82.152877, -82.152877),\n",
       " (-85.49916, -85.49916),\n",
       " (-80.13163, -80.13163),\n",
       " (-84.54392, -84.54392),\n",
       " (-84.51784, -84.51784),\n",
       " (-81.88205, -81.88205),\n",
       " (-84.48039, -84.48039),\n",
       " (-85.751, -85.751),\n",
       " (-84.42438, -84.42438),\n",
       " (-84.86438, -84.86438),\n",
       " (-81.66758, -81.66758),\n",
       " (-84.48631, -84.48631),\n",
       " (-80.00755, -80.00755),\n",
       " (-84.28557, -84.28557),\n",
       " (-81.55486, -81.55486),\n",
       " (-83.684687, -83.684687),\n",
       " (-83.94591, -83.94591),\n",
       " (-84.15159, -84.15159),\n",
       " (-85.88893, -85.88893),\n",
       " (-85.81618, -85.81618),\n",
       " (-80.72016, -80.72016),\n",
       " (-84.45455, -84.45455),\n",
       " (-81.50543, -81.50543),\n",
       " (-85.82606, -85.82606),\n",
       " (-84.14148, -84.14148),\n",
       " (-85.50792, -85.50792),\n",
       " (-84.541403, -84.541403),\n",
       " (-85.658849, -85.658849),\n",
       " (-85.68697, -85.68697),\n",
       " (-83.10678, -83.10678),\n",
       " (-83.10043, -83.10043),\n",
       " (-84.49555, -84.49555),\n",
       " (-85.7514, -85.7514),\n",
       " (-80.07815, -80.07815),\n",
       " (-84.20561, -84.20561),\n",
       " (-84.52264, -84.52264),\n",
       " (-85.839651, -85.839651),\n",
       " (-85.839651, -85.839651),\n",
       " (-81.45923, -81.45923),\n",
       " (-83.88431, -83.88431),\n",
       " (-83.882745, -83.882745),\n",
       " (-83.02845, -83.02845),\n",
       " (-81.61428, -81.61428),\n",
       " (-84.189677, -84.189677),\n",
       " (-85.95763, -85.95763),\n",
       " (-84.44835, -84.44835),\n",
       " (-84.25733, -84.25733),\n",
       " (-85.972976, -85.972976),\n",
       " (-81.65407, -81.65407),\n",
       " (-84.49464, -84.49464),\n",
       " (-83.62202, -83.62202),\n",
       " (-83.03726, -83.03726),\n",
       " (-83.289888, -83.289888),\n",
       " (-83.296608, -83.296608),\n",
       " (-82.98405, -82.98405),\n",
       " (-85.123922, -85.123922),\n",
       " (-85.110273, -85.110273),\n",
       " (-80.02554, -80.02554),\n",
       " (-80.02782, -80.02782),\n",
       " (-83.128639, -83.128639),\n",
       " (-85.363439, -85.363439),\n",
       " (-83.61635, -83.61635),\n",
       " (-85.347328, -85.347328),\n",
       " (-83.00942, -83.00942),\n",
       " (-84.53495, -84.53495),\n",
       " (-82.970316, -82.970316),\n",
       " (-82.89541, -82.89541),\n",
       " (-84.49464, -84.49464),\n",
       " (-80.4294, -80.4294),\n",
       " (-83.65977, -83.65977),\n",
       " (-83.02845, -83.02845),\n",
       " (-81.87981, -81.87981),\n",
       " (-84.50284, -84.50284),\n",
       " (-81.680728, -81.680728),\n",
       " (-85.28862, -85.28862),\n",
       " (-82.12679, -82.12679),\n",
       " (-82.01529, -82.01529),\n",
       " (-82.12679, -82.12679),\n",
       " (-83.48379, -83.48379),\n",
       " (-80.201982, -80.201982),\n",
       " (-83.13626, -83.13626),\n",
       " (-83.65402, -83.65402),\n",
       " (-84.81473, -84.81473),\n",
       " (-85.7616, -85.7616),\n",
       " (-84.36493, -84.36493),\n",
       " (-84.047183, -84.047183),\n",
       " (-84.016543, -84.016543),\n",
       " (-81.613662, -81.613662),\n",
       " (-83.35857, -83.35857),\n",
       " (-84.61808, -84.61808),\n",
       " (-80.19126, -80.19126),\n",
       " (-80.698025, -80.698025),\n",
       " (-80.693898, -80.693898),\n",
       " (-84.5395, -84.5395),\n",
       " (-85.80906, -85.80906),\n",
       " (-83.62202, -83.62202),\n",
       " (-84.26419, -84.26419),\n",
       " (-81.54054, -81.54054),\n",
       " (-81.5042, -81.5042),\n",
       " (-85.80906, -85.80906),\n",
       " (-85.77235, -85.77235),\n",
       " (-85.813143, -85.813143),\n",
       " (-85.815171, -85.815171),\n",
       " (-81.939, -81.939),\n",
       " (-80.13559, -80.13559),\n",
       " (-81.426024, -81.426024),\n",
       " (-81.424372, -81.424372),\n",
       " (-84.612615, -84.612615),\n",
       " (-85.73695, -85.73695),\n",
       " (-84.54283, -84.54283),\n",
       " (-84.361657, -84.361657),\n",
       " (-84.361652, -84.361652),\n",
       " (-83.54203, -83.54203),\n",
       " (-81.04368, -81.04368),\n",
       " (-81.80258, -81.80258),\n",
       " (-81.50348, -81.50348),\n",
       " (-81.65421, -81.65421),\n",
       " (-82.94293, -82.94293),\n",
       " (-83.5181, -83.5181),\n",
       " (-83.03906, -83.03906),\n",
       " (-81.66974, -81.66974),\n",
       " (-83.02512, -83.02512),\n",
       " (-81.692932, -81.692932),\n",
       " (-84.45364, -84.45364),\n",
       " (-82.99708, -82.99708),\n",
       " (-82.88318, -82.88318),\n",
       " (-82.524172, -82.524172),\n",
       " (-82.48212, -82.48212),\n",
       " (-81.51602, -81.51602),\n",
       " (-81.183327, -81.183327),\n",
       " (-81.175436, -81.175436),\n",
       " (-84.23004, -84.23004),\n",
       " (-82.9944, -82.9944),\n",
       " (-81.994824, -81.994824),\n",
       " (-82.004356, -82.004356),\n",
       " (-83.1347, -83.1347),\n",
       " (-83.56234, -83.56234),\n",
       " (-85.57677, -85.57677),\n",
       " (-83.1347, -83.1347),\n",
       " (-84.51907, -84.51907),\n",
       " (-81.75909, -81.75909),\n",
       " (-81.39675, -81.39675),\n",
       " (-81.39675, -81.39675),\n",
       " (-84.54283, -84.54283),\n",
       " (-84.65728, -84.65728),\n",
       " (-84.59527, -84.59527),\n",
       " (-82.99503, -82.99503),\n",
       " (-84.9305, -84.9305),\n",
       " (-84.54283, -84.54283),\n",
       " (-84.59137, -84.59137),\n",
       " (-81.61257, -81.61257),\n",
       " (-83.64875, -83.64875),\n",
       " (-83.37075, -83.37075),\n",
       " (-83.72139, -83.72139),\n",
       " (-83.723121, -83.723121),\n",
       " (-81.66758, -81.66758),\n",
       " (-84.22033, -84.22033),\n",
       " (-85.71828, -85.71828),\n",
       " (-81.23117, -81.23117),\n",
       " (-81.21375, -81.21375),\n",
       " (-85.71828, -85.71828),\n",
       " (-85.83862, -85.83862),\n",
       " (-80.19126, -80.19126),\n",
       " (-83.666, -83.666),\n",
       " (-83.00691, -83.00691),\n",
       " (-83.94191, -83.94191),\n",
       " (-85.99635, -85.99635),\n",
       " (-85.99635, -85.99635),\n",
       " (-85.97153, -85.97153),\n",
       " (-85.97153, -85.97153),\n",
       " (-83.11924, -83.11924),\n",
       " (-83.62243, -83.62243),\n",
       " (-82.995352, -82.995352),\n",
       " (-83.02875, -83.02875),\n",
       " (-81.958456, -81.958456),\n",
       " (-81.519515, -81.519515),\n",
       " (-84.39043, -84.39043),\n",
       " (-82.60271, -82.60271),\n",
       " (-81.735131, -81.735131),\n",
       " (-81.731585, -81.731585),\n",
       " (-81.479519, -81.479519),\n",
       " (-83.99871, -83.99871),\n",
       " (-85.250959, -85.250959),\n",
       " (-83.1186, -83.1186),\n",
       " (-82.93149, -82.93149),\n",
       " (-84.51666, -84.51666),\n",
       " (-81.50389, -81.50389),\n",
       " (-83.54203, -83.54203),\n",
       " (-83.03176, -83.03176),\n",
       " (-82.99884, -82.99884),\n",
       " (-83.000447, -83.000447),\n",
       " (-82.99838, -82.99838),\n",
       " (-84.861968, -84.861968),\n",
       " (-80.11634, -80.11634),\n",
       " (-84.4873, -84.4873),\n",
       " (-81.691778, -81.691778),\n",
       " (-81.62705, -81.62705),\n",
       " (-84.57498, -84.57498),\n",
       " (-84.44287, -84.44287),\n",
       " (-82.88182, -82.88182),\n",
       " (-84.21426, -84.21426),\n",
       " (-83.09486, -83.09486),\n",
       " (-84.52264, -84.52264),\n",
       " (-83.022893, -83.022893),\n",
       " (-83.0137, -83.0137),\n",
       " (-80.66107, -80.66107),\n",
       " (-84.53929, -84.53929),\n",
       " (-83.48075, -83.48075),\n",
       " (-85.9299, -85.9299),\n",
       " (-83.025012, -83.025012),\n",
       " (-80.82384, -80.82384),\n",
       " (-83.554005, -83.554005),\n",
       " (-81.63354, -81.63354),\n",
       " (-84.518869, -84.518869),\n",
       " (-85.7011, -85.7011),\n",
       " (-84.47723, -84.47723),\n",
       " (-83.1347, -83.1347),\n",
       " (-84.483618, -84.483618),\n",
       " (-80.789503, -80.789503),\n",
       " (-81.51286, -81.51286),\n",
       " (-84.27762, -84.27762),\n",
       " (-80.03531, -80.03531),\n",
       " (-82.98257, -82.98257),\n",
       " (-83.85382, -83.85382),\n",
       " (-83.85353, -83.85353),\n",
       " (-83.050567, -83.050567),\n",
       " (-81.61371, -81.61371),\n",
       " (-80.833765, -80.833765),\n",
       " (-82.94154, -82.94154),\n",
       " (-85.62212, -85.62212),\n",
       " (-81.60032, -81.60032),\n",
       " (-82.98517, -82.98517),\n",
       " (-85.58313, -85.58313),\n",
       " (-85.371049, -85.371049),\n",
       " (-85.57742, -85.57742),\n",
       " (-85.371049, -85.371049),\n",
       " (-82.88316, -82.88316),\n",
       " (-80.90504, -80.90504),\n",
       " (-80.912154, -80.912154),\n",
       " (-83.09654, -83.09654),\n",
       " (-81.72095, -81.72095),\n",
       " (-84.4307, -84.4307),\n",
       " (-85.82223, -85.82223),\n",
       " (-81.66297, -81.66297),\n",
       " (-84.51375, -84.51375),\n",
       " (-82.08322, -82.08322),\n",
       " (-83.62123, -83.62123),\n",
       " (-83.012335, -83.012335),\n",
       " (-81.48891, -81.48891),\n",
       " (-85.17116, -85.17116),\n",
       " (-85.16594, -85.16594),\n",
       " (-81.67124, -81.67124),\n",
       " (-83.09486, -83.09486),\n",
       " (-83.01962, -83.01962),\n",
       " (-82.84849, -82.84849),\n",
       " (-83.03428, -83.03428),\n",
       " (-84.22281, -84.22281),\n",
       " (-83.01644, -83.01644),\n",
       " (-85.80447, -85.80447),\n",
       " (-81.65984, -81.65984),\n",
       " (-85.84703, -85.84703),\n",
       " (-84.50389, -84.50389),\n",
       " (-83.042661, -83.042661),\n",
       " (-83.042092, -83.042092),\n",
       " (-82.53536, -82.53536),\n",
       " (-84.35176, -84.35176),\n",
       " (-83.616108, -83.616108),\n",
       " (-84.30224, -84.30224),\n",
       " (-80.079733, -80.079733),\n",
       " (-84.507843, -84.507843),\n",
       " (-80.76913, -80.76913),\n",
       " (-83.66092, -83.66092),\n",
       " (-83.65886, -83.65886),\n",
       " (-83.65465, -83.65465),\n",
       " (-83.15793, -83.15793),\n",
       " (-83.00942, -83.00942),\n",
       " (-84.50003, -84.50003),\n",
       " (-81.711522, -81.711522),\n",
       " (-84.18457, -84.18457),\n",
       " (-81.6667, -81.6667),\n",
       " (-85.69383, -85.69383),\n",
       " (-85.771118, -85.771118),\n",
       " (-84.20522, -84.20522),\n",
       " (-83.62243, -83.62243),\n",
       " (-84.462312, -84.462312),\n",
       " (-81.65974, -81.65974),\n",
       " (-81.38592, -81.38592),\n",
       " (-85.75495, -85.75495),\n",
       " (-84.61272, -84.61272),\n",
       " (-81.79765, -81.79765),\n",
       " (-81.78869, -81.78869),\n",
       " (-80.39199, -80.39199),\n",
       " (-82.913672, -82.913672),\n",
       " (-81.90626, -81.90626),\n",
       " (-82.91859, -82.91859),\n",
       " (-82.92689, -82.92689),\n",
       " (-85.81238, -85.81238),\n",
       " (-84.53565, -84.53565),\n",
       " (-84.57798, -84.57798),\n",
       " (-81.45434, -81.45434),\n",
       " (-81.46898, -81.46898),\n",
       " (-82.3483, -82.3483),\n",
       " (-85.74846, -85.74846),\n",
       " (-85.70123, -85.70123),\n",
       " (-82.92745, -82.92745),\n",
       " (-85.57436, -85.57436),\n",
       " (-80.00527, -80.00527),\n",
       " (-84.52264, -84.52264),\n",
       " (-85.99359, -85.99359),\n",
       " (-83.5732, -83.5732),\n",
       " (-80.06666, -80.06666),\n",
       " (-81.3932, -81.3932),\n",
       " (-85.88784, -85.88784),\n",
       " (-84.047499, -84.047499),\n",
       " (-84.03969, -84.03969),\n",
       " (-81.45925, -81.45925),\n",
       " (-81.45925, -81.45925),\n",
       " (-81.45925, -81.45925),\n",
       " (-81.46769, -81.46769),\n",
       " (-80.36586, -80.36586),\n",
       " (-80.366376, -80.366376),\n",
       " (-84.19668, -84.19668),\n",
       " (-84.51375, -84.51375),\n",
       " (-84.166569, -84.166569),\n",
       " (-84.167637, -84.167637),\n",
       " (-84.5395, -84.5395),\n",
       " (-85.719799, -85.719799),\n",
       " (-84.61421, -84.61421),\n",
       " (-85.719799, -85.719799),\n",
       " (-85.729429, -85.729429),\n",
       " (-85.70467, -85.70467),\n",
       " (-84.44562, -84.44562),\n",
       " (-84.48373, -84.48373),\n",
       " (-81.69322, -81.69322),\n",
       " (-84.26285, -84.26285),\n",
       " (-83.03149, -83.03149),\n",
       " (-80.75595, -80.75595),\n",
       " (-81.50012, -81.50012),\n",
       " (-81.402921, -81.402921),\n",
       " (-83.0032, -83.0032),\n",
       " (-83.01729, -83.01729),\n",
       " (-84.49975, -84.49975),\n",
       " (-84.20522, -84.20522),\n",
       " (-81.69592, -81.69592),\n",
       " (-81.69931, -81.69931),\n",
       " (-81.83577, -81.83577),\n",
       " (-82.98449, -82.98449),\n",
       " (-80.03243, -80.03243),\n",
       " (-83.56386, -83.56386),\n",
       " (-84.37507, -84.37507),\n",
       " (-83.6939, -83.6939),\n",
       " (-82.60993, -82.60993),\n",
       " (-84.603, -84.603),\n",
       " (-80.0438, -80.0438),\n",
       " (-83.347543, -83.347543),\n",
       " (-83.376561, -83.376561),\n",
       " (-82.92745, -82.92745),\n",
       " (-80.023538, -80.023538),\n",
       " (-85.9188, -85.9188),\n",
       " (-84.54283, -84.54283),\n",
       " (-85.76223, -85.76223),\n",
       " (-80.017133, -80.017133),\n",
       " (-80.01011, -80.01011),\n",
       " (-85.516394, -85.516394),\n",
       " (-85.764305, -85.764305),\n",
       " (-81.76937, -81.76937),\n",
       " (-81.66758, -81.66758),\n",
       " (-82.9763, -82.9763),\n",
       " (-80.24617, -80.24617),\n",
       " (-80.24617, -80.24617),\n",
       " (-81.72095, -81.72095),\n",
       " ...]"
      ]
     },
     "execution_count": 120,
     "metadata": {},
     "output_type": "execute_result"
    }
   ],
   "source": [
    "list(zip(list(df.Start_Lng), list(df.Start_Lng)))"
   ]
  },
  {
   "cell_type": "code",
   "execution_count": 129,
   "id": "77879211",
   "metadata": {},
   "outputs": [],
   "source": [
    "from folium.plugins import HeatMap"
   ]
  },
  {
   "cell_type": "code",
   "execution_count": 134,
   "id": "01216d62",
   "metadata": {},
   "outputs": [],
   "source": [
    "sample_df = df.sample(int(0.001 * len(df)))\n",
    "lat_lon_pairs = list(zip(list(sample_df.Start_Lat), list(sample_df.Start_Lng)))\n"
   ]
  },
  {
   "cell_type": "code",
   "execution_count": 135,
   "id": "909df6e5",
   "metadata": {},
   "outputs": [
    {
     "data": {
      "text/html": [
       "<div style=\"width:100%;\"><div style=\"position:relative;width:100%;height:0;padding-bottom:60%;\"><span style=\"color:#565656\">Make this Notebook Trusted to load map: File -> Trust Notebook</span><iframe src=\"about:blank\" style=\"position:absolute;width:100%;height:100%;left:0;top:0;border:none !important;\" data-html=%3C%21DOCTYPE%20html%3E%0A%3Chead%3E%20%20%20%20%0A%20%20%20%20%3Cmeta%20http-equiv%3D%22content-type%22%20content%3D%22text/html%3B%20charset%3DUTF-8%22%20/%3E%0A%20%20%20%20%0A%20%20%20%20%20%20%20%20%3Cscript%3E%0A%20%20%20%20%20%20%20%20%20%20%20%20L_NO_TOUCH%20%3D%20false%3B%0A%20%20%20%20%20%20%20%20%20%20%20%20L_DISABLE_3D%20%3D%20false%3B%0A%20%20%20%20%20%20%20%20%3C/script%3E%0A%20%20%20%20%0A%20%20%20%20%3Cstyle%3Ehtml%2C%20body%20%7Bwidth%3A%20100%25%3Bheight%3A%20100%25%3Bmargin%3A%200%3Bpadding%3A%200%3B%7D%3C/style%3E%0A%20%20%20%20%3Cstyle%3E%23map%20%7Bposition%3Aabsolute%3Btop%3A0%3Bbottom%3A0%3Bright%3A0%3Bleft%3A0%3B%7D%3C/style%3E%0A%20%20%20%20%3Cscript%20src%3D%22https%3A//cdn.jsdelivr.net/npm/leaflet%401.6.0/dist/leaflet.js%22%3E%3C/script%3E%0A%20%20%20%20%3Cscript%20src%3D%22https%3A//code.jquery.com/jquery-1.12.4.min.js%22%3E%3C/script%3E%0A%20%20%20%20%3Cscript%20src%3D%22https%3A//maxcdn.bootstrapcdn.com/bootstrap/3.2.0/js/bootstrap.min.js%22%3E%3C/script%3E%0A%20%20%20%20%3Cscript%20src%3D%22https%3A//cdnjs.cloudflare.com/ajax/libs/Leaflet.awesome-markers/2.0.2/leaflet.awesome-markers.js%22%3E%3C/script%3E%0A%20%20%20%20%3Clink%20rel%3D%22stylesheet%22%20href%3D%22https%3A//cdn.jsdelivr.net/npm/leaflet%401.6.0/dist/leaflet.css%22/%3E%0A%20%20%20%20%3Clink%20rel%3D%22stylesheet%22%20href%3D%22https%3A//maxcdn.bootstrapcdn.com/bootstrap/3.2.0/css/bootstrap.min.css%22/%3E%0A%20%20%20%20%3Clink%20rel%3D%22stylesheet%22%20href%3D%22https%3A//maxcdn.bootstrapcdn.com/bootstrap/3.2.0/css/bootstrap-theme.min.css%22/%3E%0A%20%20%20%20%3Clink%20rel%3D%22stylesheet%22%20href%3D%22https%3A//maxcdn.bootstrapcdn.com/font-awesome/4.6.3/css/font-awesome.min.css%22/%3E%0A%20%20%20%20%3Clink%20rel%3D%22stylesheet%22%20href%3D%22https%3A//cdnjs.cloudflare.com/ajax/libs/Leaflet.awesome-markers/2.0.2/leaflet.awesome-markers.css%22/%3E%0A%20%20%20%20%3Clink%20rel%3D%22stylesheet%22%20href%3D%22https%3A//cdn.jsdelivr.net/gh/python-visualization/folium/folium/templates/leaflet.awesome.rotate.min.css%22/%3E%0A%20%20%20%20%0A%20%20%20%20%20%20%20%20%20%20%20%20%3Cmeta%20name%3D%22viewport%22%20content%3D%22width%3Ddevice-width%2C%0A%20%20%20%20%20%20%20%20%20%20%20%20%20%20%20%20initial-scale%3D1.0%2C%20maximum-scale%3D1.0%2C%20user-scalable%3Dno%22%20/%3E%0A%20%20%20%20%20%20%20%20%20%20%20%20%3Cstyle%3E%0A%20%20%20%20%20%20%20%20%20%20%20%20%20%20%20%20%23map_b0874ba4fb344952ab6057e116f259f9%20%7B%0A%20%20%20%20%20%20%20%20%20%20%20%20%20%20%20%20%20%20%20%20position%3A%20relative%3B%0A%20%20%20%20%20%20%20%20%20%20%20%20%20%20%20%20%20%20%20%20width%3A%20100.0%25%3B%0A%20%20%20%20%20%20%20%20%20%20%20%20%20%20%20%20%20%20%20%20height%3A%20100.0%25%3B%0A%20%20%20%20%20%20%20%20%20%20%20%20%20%20%20%20%20%20%20%20left%3A%200.0%25%3B%0A%20%20%20%20%20%20%20%20%20%20%20%20%20%20%20%20%20%20%20%20top%3A%200.0%25%3B%0A%20%20%20%20%20%20%20%20%20%20%20%20%20%20%20%20%7D%0A%20%20%20%20%20%20%20%20%20%20%20%20%3C/style%3E%0A%20%20%20%20%20%20%20%20%0A%20%20%20%20%3Cscript%20src%3D%22https%3A//cdn.jsdelivr.net/gh/python-visualization/folium%40master/folium/templates/leaflet_heat.min.js%22%3E%3C/script%3E%0A%3C/head%3E%0A%3Cbody%3E%20%20%20%20%0A%20%20%20%20%0A%20%20%20%20%20%20%20%20%20%20%20%20%3Cdiv%20class%3D%22folium-map%22%20id%3D%22map_b0874ba4fb344952ab6057e116f259f9%22%20%3E%3C/div%3E%0A%20%20%20%20%20%20%20%20%0A%3C/body%3E%0A%3Cscript%3E%20%20%20%20%0A%20%20%20%20%0A%20%20%20%20%20%20%20%20%20%20%20%20var%20map_b0874ba4fb344952ab6057e116f259f9%20%3D%20L.map%28%0A%20%20%20%20%20%20%20%20%20%20%20%20%20%20%20%20%22map_b0874ba4fb344952ab6057e116f259f9%22%2C%0A%20%20%20%20%20%20%20%20%20%20%20%20%20%20%20%20%7B%0A%20%20%20%20%20%20%20%20%20%20%20%20%20%20%20%20%20%20%20%20center%3A%20%5B0%2C%200%5D%2C%0A%20%20%20%20%20%20%20%20%20%20%20%20%20%20%20%20%20%20%20%20crs%3A%20L.CRS.EPSG3857%2C%0A%20%20%20%20%20%20%20%20%20%20%20%20%20%20%20%20%20%20%20%20zoom%3A%201%2C%0A%20%20%20%20%20%20%20%20%20%20%20%20%20%20%20%20%20%20%20%20zoomControl%3A%20true%2C%0A%20%20%20%20%20%20%20%20%20%20%20%20%20%20%20%20%20%20%20%20preferCanvas%3A%20false%2C%0A%20%20%20%20%20%20%20%20%20%20%20%20%20%20%20%20%7D%0A%20%20%20%20%20%20%20%20%20%20%20%20%29%3B%0A%0A%20%20%20%20%20%20%20%20%20%20%20%20%0A%0A%20%20%20%20%20%20%20%20%0A%20%20%20%20%0A%20%20%20%20%20%20%20%20%20%20%20%20var%20tile_layer_8a6d57d6351f465eaff8e6e80e104904%20%3D%20L.tileLayer%28%0A%20%20%20%20%20%20%20%20%20%20%20%20%20%20%20%20%22https%3A//%7Bs%7D.tile.openstreetmap.org/%7Bz%7D/%7Bx%7D/%7By%7D.png%22%2C%0A%20%20%20%20%20%20%20%20%20%20%20%20%20%20%20%20%7B%22attribution%22%3A%20%22Data%20by%20%5Cu0026copy%3B%20%5Cu003ca%20href%3D%5C%22http%3A//openstreetmap.org%5C%22%5Cu003eOpenStreetMap%5Cu003c/a%5Cu003e%2C%20under%20%5Cu003ca%20href%3D%5C%22http%3A//www.openstreetmap.org/copyright%5C%22%5Cu003eODbL%5Cu003c/a%5Cu003e.%22%2C%20%22detectRetina%22%3A%20false%2C%20%22maxNativeZoom%22%3A%2018%2C%20%22maxZoom%22%3A%2018%2C%20%22minZoom%22%3A%200%2C%20%22noWrap%22%3A%20false%2C%20%22opacity%22%3A%201%2C%20%22subdomains%22%3A%20%22abc%22%2C%20%22tms%22%3A%20false%7D%0A%20%20%20%20%20%20%20%20%20%20%20%20%29.addTo%28map_b0874ba4fb344952ab6057e116f259f9%29%3B%0A%20%20%20%20%20%20%20%20%0A%20%20%20%20%0A%20%20%20%20%20%20%20%20%20%20%20%20var%20heat_map_df2d15d6c21b4a42a8c53405184df6c7%20%3D%20L.heatLayer%28%0A%20%20%20%20%20%20%20%20%20%20%20%20%20%20%20%20%5B%5B43.04804%2C%20-77.64771%5D%2C%20%5B30.02169%2C%20-90.15391%5D%2C%20%5B26.71536%2C%20-80.08528%5D%2C%20%5B29.794872%2C%20-95.066829%5D%2C%20%5B37.52466%2C%20-121.99233%5D%2C%20%5B36.990698%2C%20-122.021055%5D%2C%20%5B43.18306%2C%20-77.57603%5D%2C%20%5B41.07558%2C%20-73.95094%5D%2C%20%5B47.26091%2C%20-122.326671%5D%2C%20%5B36.207336%2C%20-119.564651%5D%2C%20%5B33.90505%2C%20-118.37054%5D%2C%20%5B35.26443%2C%20-81.13037%5D%2C%20%5B33.878598%2C%20-118.192519%5D%2C%20%5B45.168389%2C%20-122.86328%5D%2C%20%5B33.772688%2C%20-84.056332%5D%2C%20%5B36.001714%2C%20-79.815899%5D%2C%20%5B42.2405%2C%20-87.96485%5D%2C%20%5B37.952867%2C%20-122.327994%5D%2C%20%5B29.77746%2C%20-95.42557%5D%2C%20%5B41.757303%2C%20-71.434164%5D%2C%20%5B33.875215%2C%20-117.662014%5D%2C%20%5B40.747078%2C%20-114.001532%5D%2C%20%5B41.68971%2C%20-83.53046%5D%2C%20%5B42.197293%2C%20-87.986825%5D%2C%20%5B38.73689%2C%20-77.192785%5D%2C%20%5B39.959304%2C%20-75.17318%5D%2C%20%5B29.549049%2C%20-81.653142%5D%2C%20%5B46.653267%2C%20-112.021368%5D%2C%20%5B35.41528%2C%20-119.05846%5D%2C%20%5B34.791555%2C%20-120.333704%5D%2C%20%5B37.551044%2C%20-121.918298%5D%2C%20%5B37.36073%2C%20-121.84185%5D%2C%20%5B32.785075%2C%20-96.774297%5D%2C%20%5B38.22317%2C%20-122.61118%5D%2C%20%5B38.663992%2C%20-121.224674%5D%2C%20%5B37.88912%2C%20-122.05799%5D%2C%20%5B34.492467%2C%20-118.19522%5D%2C%20%5B35.31019%2C%20-80.74566%5D%2C%20%5B27.996127%2C%20-82.373076%5D%2C%20%5B33.91341%2C%20-118.119796%5D%2C%20%5B43.164631%2C%20-77.642178%5D%2C%20%5B29.72311%2C%20-95.437712%5D%2C%20%5B35.060559%2C%20-80.764671%5D%2C%20%5B33.303145%2C%20-110.477002%5D%2C%20%5B34.938548%2C%20-120.417656%5D%2C%20%5B44.82971%2C%20-85.13258%5D%2C%20%5B35.586608%2C%20-78.691292%5D%2C%20%5B39.110256%2C%20-84.53161%5D%2C%20%5B41.7344%2C%20-87.56421%5D%2C%20%5B37.62345%2C%20-122.400645%5D%2C%20%5B33.6316%2C%20-84.4109%5D%2C%20%5B42.758477%2C%20-73.765221%5D%2C%20%5B27.9813%2C%20-82.48469%5D%2C%20%5B44.83642%2C%20-93.29692%5D%2C%20%5B40.21244%2C%20-110.840511%5D%2C%20%5B33.996256%2C%20-118.416674%5D%2C%20%5B45.985089%2C%20-123.248845%5D%2C%20%5B40.422031%2C%20-120.69673%5D%2C%20%5B45.00065%2C%20-93.20598%5D%2C%20%5B36.633804%2C%20-119.785802%5D%2C%20%5B25.84702%2C%20-80.210123%5D%2C%20%5B39.095134%2C%20-75.545713%5D%2C%20%5B30.459413%2C%20-84.229639%5D%2C%20%5B40.598165%2C%20-75.564062%5D%2C%20%5B36.88231%2C%20-121.55982%5D%2C%20%5B40.75996%2C%20-73.71372%5D%2C%20%5B33.68574%2C%20-117.86347%5D%2C%20%5B39.178647%2C%20-123.703395%5D%2C%20%5B37.87534%2C%20-122.04524%5D%2C%20%5B32.22148%2C%20-110.9266%5D%2C%20%5B36.236397%2C%20-86.743744%5D%2C%20%5B34.064838%2C%20-118.013308%5D%2C%20%5B44.266338%2C%20-94.328762%5D%2C%20%5B26.51096%2C%20-80.07265%5D%2C%20%5B37.863935%2C%20-122.302816%5D%2C%20%5B40.710087%2C%20-111.953381%5D%2C%20%5B35.790687%2C%20-78.826373%5D%2C%20%5B33.7921%2C%20-117.89016%5D%2C%20%5B33.858844%2C%20-117.87653%5D%2C%20%5B34.433736%2C%20-118.385746%5D%2C%20%5B32.73498%2C%20-96.82382%5D%2C%20%5B43.84135%2C%20-95.14197%5D%2C%20%5B37.548059%2C%20-122.291315%5D%2C%20%5B34.0389%2C%20-118.43988%5D%2C%20%5B34.15239%2C%20-118.157022%5D%2C%20%5B45.00353%2C%20-93.2825%5D%2C%20%5B45.718435%2C%20-94.946154%5D%2C%20%5B37.70154%2C%20-121.86729%5D%2C%20%5B44.91386%2C%20-117.94013%5D%2C%20%5B39.10141%2C%20-77.04075%5D%2C%20%5B34.276175%2C%20-119.289011%5D%2C%20%5B34.38372%2C%20-118.56814%5D%2C%20%5B43.02795%2C%20-88.021988%5D%2C%20%5B36.10703%2C%20-115.05811%5D%2C%20%5B43.05438%2C%20-83.6004%5D%2C%20%5B34.767147%2C%20-82.470301%5D%2C%20%5B39.09611%2C%20-94.57719%5D%2C%20%5B30.31407%2C%20-81.66213%5D%2C%20%5B38.79497%2C%20-90.56894%5D%2C%20%5B39.139883%2C%20-77.133751%5D%2C%20%5B25.81139%2C%20-80.1885%5D%2C%20%5B34.035138%2C%20-118.369517%5D%2C%20%5B34.055927%2C%20-117.396405%5D%2C%20%5B28.60451%2C%20-81.30752%5D%2C%20%5B40.737226%2C%20-75.30954%5D%2C%20%5B40.085726%2C%20-111.670564%5D%2C%20%5B37.96991%2C%20-122.32048%5D%2C%20%5B37.701658%2C%20-121.769699%5D%2C%20%5B34.519592%2C%20-118.234748%5D%2C%20%5B25.595473%2C%20-80.371781%5D%2C%20%5B38.496213%2C%20-121.459502%5D%2C%20%5B43.16463%2C%20-77.65419%5D%2C%20%5B33.942603%2C%20-117.27936%5D%2C%20%5B39.93221%2C%20-82.822772%5D%2C%20%5B25.748082%2C%20-80.323643%5D%2C%20%5B33.9322%2C%20-118.36182%5D%2C%20%5B38.244255%2C%20-77.503792%5D%2C%20%5B33.844712%2C%20-117.828327%5D%2C%20%5B33.16443%2C%20-117.212587%5D%2C%20%5B33.94119%2C%20-117.23809%5D%2C%20%5B41.87366%2C%20-87.73166%5D%2C%20%5B34.003793%2C%20-118.277515%5D%2C%20%5B37.518641%2C%20-120.884011%5D%2C%20%5B33.19428%2C%20-117.25765%5D%2C%20%5B41.93555%2C%20-86.36657%5D%2C%20%5B36.158301%2C%20-86.759909%5D%2C%20%5B40.72378%2C%20-111.51477%5D%2C%20%5B44.89326%2C%20-93.42015%5D%2C%20%5B40.89769%2C%20-73.79689%5D%2C%20%5B33.96469%2C%20-118.16889%5D%2C%20%5B35.128079%2C%20-80.979987%5D%2C%20%5B25.80919%2C%20-80.206091%5D%2C%20%5B33.87157%2C%20-117.68663%5D%2C%20%5B44.86107%2C%20-93.16702%5D%2C%20%5B36.297145%2C%20-120.271338%5D%2C%20%5B41.71152%2C%20-72.58689%5D%2C%20%5B36.385553%2C%20-119.44423%5D%2C%20%5B42.34663%2C%20-83.10943%5D%2C%20%5B36.406302%2C%20-86.78395%5D%2C%20%5B33.941957%2C%20-117.555404%5D%2C%20%5B33.24966%2C%20-84.465129%5D%2C%20%5B30.38875%2C%20-97.71037%5D%2C%20%5B40.541752%2C%20-80.410923%5D%2C%20%5B33.65286%2C%20-84.396%5D%2C%20%5B35.113993%2C%20-85.13035%5D%2C%20%5B37.37434%2C%20-121.9308%5D%2C%20%5B29.60014%2C%20-95.33236%5D%2C%20%5B33.620305%2C%20-84.467429%5D%2C%20%5B41.77296%2C%20-71.25583%5D%2C%20%5B40.55011%2C%20-111.89631%5D%2C%20%5B35.69295%2C%20-119.7101%5D%2C%20%5B42.841674%2C%20-123.252677%5D%2C%20%5B29.94177%2C%20-90.09621%5D%2C%20%5B45.296324%2C%20-93.78817%5D%2C%20%5B25.73261%2C%20-80.253886%5D%2C%20%5B28.48275%2C%20-81.44472%5D%2C%20%5B45.04334%2C%20-123.95273%5D%2C%20%5B40.207564%2C%20-79.572561%5D%2C%20%5B42.73654%2C%20-73.78545%5D%2C%20%5B36.794233%2C%20-76.213577%5D%2C%20%5B33.38417%2C%20-117.57939%5D%2C%20%5B33.346382%2C%20-117.242427%5D%2C%20%5B38.9002%2C%20-76.994937%5D%2C%20%5B33.854437%2C%20-117.79064%5D%2C%20%5B34.262642%2C%20-118.332467%5D%2C%20%5B45.60079%2C%20-121.17483%5D%2C%20%5B34.201012%2C%20-118.47363%5D%2C%20%5B38.67108%2C%20-121.59607%5D%2C%20%5B34.010352%2C%20-117.895986%5D%2C%20%5B43.23137%2C%20-86.20463%5D%2C%20%5B45.53161%2C%20-122.25304%5D%2C%20%5B40.439617%2C%20-80.009719%5D%2C%20%5B25.1573%2C%20-80.38596%5D%2C%20%5B34.0316%2C%20-118.22274%5D%2C%20%5B40.83659%2C%20-73.87681%5D%2C%20%5B39.09668%2C%20-94.65318%5D%2C%20%5B37.420943%2C%20-121.153197%5D%2C%20%5B34.06567%2C%20-118.2427%5D%2C%20%5B34.17317%2C%20-118.15898%5D%2C%20%5B34.049561%2C%20-118.213986%5D%2C%20%5B44.32218%2C%20-94.60884%5D%2C%20%5B39.12384%2C%20-104.86495%5D%2C%20%5B25.924676%2C%20-80.211986%5D%2C%20%5B37.340008%2C%20-119.674361%5D%2C%20%5B34.121764%2C%20-117.30228%5D%2C%20%5B38.012101%2C%20-121.869239%5D%2C%20%5B38.996089%2C%20-76.877077%5D%2C%20%5B32.99758%2C%20-96.831898%5D%2C%20%5B36.972523%2C%20-120.073955%5D%2C%20%5B33.94094%2C%20-117.2699%5D%2C%20%5B37.52537%2C%20-77.34358%5D%2C%20%5B25.644281%2C%20-80.318205%5D%2C%20%5B47.630999%2C%20-122.325091%5D%2C%20%5B30.405872%2C%20-91.051439%5D%2C%20%5B33.780731%2C%20-84.391209%5D%2C%20%5B37.53456%2C%20-77.43035%5D%2C%20%5B40.80871%2C%20-111.40765%5D%2C%20%5B38.671352%2C%20-121.586093%5D%2C%20%5B33.881247%2C%20-117.618211%5D%2C%20%5B38.250375%2C%20-122.270547%5D%2C%20%5B37.382491%2C%20-120.708705%5D%2C%20%5B33.876543%2C%20-118.077256%5D%2C%20%5B28.193776%2C%20-82.39252%5D%2C%20%5B34.988747%2C%20-85.068985%5D%2C%20%5B33.7829%2C%20-84.39085%5D%2C%20%5B33.96647%2C%20-84.17735%5D%2C%20%5B44.9552%2C%20-93.18935%5D%2C%20%5B41.103252%2C%20-78.184152%5D%2C%20%5B42.338997%2C%20-71.266238%5D%2C%20%5B40.674752%2C%20-73.801408%5D%2C%20%5B38.55937%2C%20-121.51396%5D%2C%20%5B27.99898%2C%20-82.45384%5D%2C%20%5B42.398634%2C%20-82.983286%5D%2C%20%5B34.053294%2C%20-118.258298%5D%2C%20%5B34.628535%2C%20-82.915443%5D%2C%20%5B39.22606%2C%20-84.55328%5D%2C%20%5B33.67799%2C%20-117.75821%5D%2C%20%5B39.99771%2C%20-74.73382%5D%2C%20%5B28.44868%2C%20-81.28077%5D%2C%20%5B36.102599%2C%20-118.859005%5D%2C%20%5B39.11607%2C%20-77.84551%5D%2C%20%5B28.42127%2C%20-81.43622%5D%2C%20%5B40.172039%2C%20-75.975187%5D%2C%20%5B40.72847%2C%20-73.88568%5D%2C%20%5B43.11252%2C%20-87.91769%5D%2C%20%5B40.73547%2C%20-73.85982%5D%2C%20%5B26.01106%2C%20-80.16625%5D%2C%20%5B34.2742%2C%20-118.59523%5D%2C%20%5B28.20265%2C%20-80.66092%5D%2C%20%5B35.3254%2C%20-80.94464%5D%2C%20%5B42.05523%2C%20-87.79872%5D%2C%20%5B38.364284%2C%20-120.800441%5D%2C%20%5B29.79121%2C%20-95.08309%5D%2C%20%5B45.17137%2C%20-122.45134%5D%2C%20%5B39.79959%2C%20-86.02419%5D%2C%20%5B26.169332%2C%20-81.040344%5D%2C%20%5B26.121042%2C%20-80.202039%5D%2C%20%5B41.236632%2C%20-111.94631%5D%2C%20%5B37.881049%2C%20-121.775892%5D%2C%20%5B32.320039%2C%20-111.012287%5D%2C%20%5B43.04819%2C%20-89.47773%5D%2C%20%5B41.76093%2C%20-87.87301%5D%2C%20%5B37.49617%2C%20-121.067428%5D%2C%20%5B40.52995%2C%20-89.47717%5D%2C%20%5B38.92005%2C%20-94.52765%5D%2C%20%5B40.747932%2C%20-74.171839%5D%2C%20%5B40.428664%2C%20-79.88912%5D%2C%20%5B40.04705%2C%20-74.83194%5D%2C%20%5B35.09225%2C%20-78.779953%5D%2C%20%5B39.307121%2C%20-76.788562%5D%2C%20%5B40.81047%2C%20-74.09784%5D%2C%20%5B34.15428%2C%20-118.8198%5D%2C%20%5B41.860591%2C%20-87.992749%5D%2C%20%5B45.194882%2C%20-93.552598%5D%2C%20%5B39.783931%2C%20-104.98937%5D%2C%20%5B33.47395%2C%20-117.67456%5D%2C%20%5B38.19237%2C%20-85.64752%5D%2C%20%5B36.051482%2C%20-119.02616%5D%2C%20%5B36.95983%2C%20-81.06149%5D%2C%20%5B39.1609%2C%20-76.72099%5D%2C%20%5B40.11184%2C%20-83.00883%5D%2C%20%5B43.767058%2C%20-118.203203%5D%2C%20%5B39.44863%2C%20-77.38663%5D%2C%20%5B39.591099%2C%20-75.679561%5D%2C%20%5B33.951898%2C%20-118.291544%5D%2C%20%5B33.01956%2C%20-96.70947%5D%2C%20%5B45.297821%2C%20-93.552457%5D%2C%20%5B35.76909%2C%20-78.72669%5D%2C%20%5B44.99254%2C%20-93.23733%5D%2C%20%5B34.067914%2C%20-117.406368%5D%2C%20%5B47.52892%2C%20-122.19769%5D%2C%20%5B34.06764%2C%20-117.57107%5D%2C%20%5B38.76095%2C%20-104.77101%5D%2C%20%5B36.77992%2C%20-121.70358%5D%2C%20%5B38.55195%2C%20-90.43022%5D%2C%20%5B32.89439%2C%20-96.71144%5D%2C%20%5B34.26658%2C%20-118.639294%5D%2C%20%5B34.256683%2C%20-118.434866%5D%2C%20%5B25.626028%2C%20-80.422765%5D%2C%20%5B38.694817%2C%20-120.813363%5D%2C%20%5B39.02319%2C%20-84.51919%5D%2C%20%5B33.268082%2C%20-117.436683%5D%2C%20%5B45.57396%2C%20-122.63813%5D%2C%20%5B34.07122%2C%20-117.80858%5D%2C%20%5B25.72695%2C%20-80.38375%5D%2C%20%5B35.761111%2C%20-119.248889%5D%2C%20%5B47.63058%2C%20-95.01433%5D%2C%20%5B44.082351%2C%20-121.301304%5D%2C%20%5B33.77758%2C%20-84.39076%5D%2C%20%5B40.82448%2C%20-81.39652%5D%2C%20%5B45.83335%2C%20-119.61939%5D%2C%20%5B41.873135%2C%20-72.12172%5D%2C%20%5B45.535338%2C%20-122.561312%5D%2C%20%5B40.36768%2C%20-76.93854%5D%2C%20%5B29.752423%2C%20-95.360574%5D%2C%20%5B29.73679%2C%20-95.36907%5D%2C%20%5B34.319432%2C%20-118.494404%5D%2C%20%5B43.15219%2C%20-76.12444%5D%2C%20%5B39.76452%2C%20-105.1433%5D%2C%20%5B38.966006%2C%20-123.343623%5D%2C%20%5B30.312341%2C%20-81.81732%5D%2C%20%5B33.810223%2C%20-118.081586%5D%2C%20%5B25.939192%2C%20-80.192797%5D%2C%20%5B45.51186%2C%20-122.66723%5D%2C%20%5B45.61602%2C%20-123.11445%5D%2C%20%5B39.18242%2C%20-84.26487%5D%2C%20%5B41.77184%2C%20-87.90709%5D%2C%20%5B37.0873%2C%20-76.45722%5D%2C%20%5B41.17876%2C%20-85.10496%5D%2C%20%5B40.384278%2C%20-78.805137%5D%2C%20%5B35.762898%2C%20-78.714419%5D%2C%20%5B45.574647%2C%20-122.545934%5D%2C%20%5B32.780948%2C%20-117.113678%5D%2C%20%5B36.154779%2C%20-119.332266%5D%2C%20%5B35.670231%2C%20-78.927533%5D%2C%20%5B38.246909%2C%20-122.084458%5D%2C%20%5B35.18904%2C%20-85.18991%5D%2C%20%5B25.941563%2C%20-80.189584%5D%2C%20%5B34.078362%2C%20-117.741556%5D%2C%20%5B40.4523%2C%20-79.98222%5D%2C%20%5B35.018209%2C%20-81.94916%5D%2C%20%5B42.30267%2C%20-88.07424%5D%2C%20%5B33.695962%2C%20-117.935478%5D%2C%20%5B28.06547%2C%20-82.50466%5D%2C%20%5B38.05529%2C%20-122.12987%5D%2C%20%5B35.190321%2C%20-113.330014%5D%2C%20%5B28.318075%2C%20-81.544283%5D%2C%20%5B37.96489%2C%20-122.51453%5D%2C%20%5B37.75848%2C%20-121.49223%5D%2C%20%5B36.965163%2C%20-76.515022%5D%2C%20%5B27.916765%2C%20-82.787668%5D%2C%20%5B39.90841%2C%20-74.93964%5D%2C%20%5B38.591926%2C%20-121.415281%5D%2C%20%5B41.89023%2C%20-87.9619%5D%2C%20%5B40.215536%2C%20-81.553282%5D%2C%20%5B37.165494%2C%20-113.263136%5D%2C%20%5B38.86575%2C%20-76.97955%5D%2C%20%5B39.74286%2C%20-105.15581%5D%2C%20%5B35.89043%2C%20-78.561738%5D%2C%20%5B33.46223%2C%20-112.0477%5D%2C%20%5B33.8668%2C%20-98.548219%5D%2C%20%5B34.05226%2C%20-117.30095%5D%2C%20%5B33.60585%2C%20-84.47158%5D%2C%20%5B32.745454%2C%20-96.768415%5D%2C%20%5B36.205169%2C%20-86.768796%5D%2C%20%5B39.721017%2C%20-86.264339%5D%2C%20%5B25.889474%2C%20-80.209251%5D%2C%20%5B34.075432%2C%20-117.544992%5D%2C%20%5B34.104667%2C%20-118.325247%5D%2C%20%5B39.055457%2C%20-76.942599%5D%2C%20%5B34.047075%2C%20-81.10254%5D%2C%20%5B38.779518%2C%20-121.543362%5D%2C%20%5B34.444511%2C%20-118.626069%5D%2C%20%5B39.121573%2C%20-121.572191%5D%2C%20%5B44.785991%2C%20-93.219498%5D%2C%20%5B29.81312%2C%20-95.37673%5D%2C%20%5B37.572907%2C%20-122.31636%5D%2C%20%5B34.134431%2C%20-117.957005%5D%2C%20%5B42.34584%2C%20-122.87502%5D%2C%20%5B42.38672%2C%20-83.21755%5D%2C%20%5B41.90605%2C%20-113.10339%5D%2C%20%5B39.01887%2C%20-77.10289%5D%2C%20%5B32.766315%2C%20-96.857078%5D%2C%20%5B28.639749%2C%20-80.831367%5D%2C%20%5B34.003778%2C%20-118.280931%5D%2C%20%5B34.490407%2C%20-86.898282%5D%2C%20%5B39.582329%2C%20-105.14378%5D%2C%20%5B39.3816%2C%20-77.2655%5D%2C%20%5B25.82457%2C%20-80.377913%5D%2C%20%5B33.995176%2C%20-117.361739%5D%2C%20%5B37.32328%2C%20-121.94056%5D%2C%20%5B38.772752%2C%20-77.182502%5D%2C%20%5B25.898412%2C%20-80.339981%5D%2C%20%5B37.260829%2C%20-77.314857%5D%2C%20%5B25.7307%2C%20-80.317718%5D%2C%20%5B41.67833%2C%20-72.87377%5D%2C%20%5B32.19232%2C%20-86.11699%5D%2C%20%5B39.74757%2C%20-110.88445%5D%2C%20%5B40.73233%2C%20-73.74671%5D%2C%20%5B34.08284%2C%20-118.227379%5D%2C%20%5B30.655943%2C%20-88.124095%5D%2C%20%5B28.449935%2C%20-81.478525%5D%2C%20%5B32.58016%2C%20-117.08581%5D%2C%20%5B42.102374%2C%20-88.386763%5D%2C%20%5B42.81164%2C%20-71.49824%5D%2C%20%5B30.05571%2C%20-95.43261%5D%2C%20%5B43.619469%2C%20-116.323677%5D%2C%20%5B32.79006%2C%20-97.25266%5D%2C%20%5B33.83892%2C%20-117.83422%5D%2C%20%5B33.77332%2C%20-118.03904%5D%2C%20%5B38.033395%2C%20-110.574942%5D%2C%20%5B45.35021%2C%20-122.65848%5D%2C%20%5B33.98669%2C%20-117.869901%5D%2C%20%5B45.374703%2C%20-122.203696%5D%2C%20%5B42.007808%2C%20-71.969498%5D%2C%20%5B34.15643%2C%20-118.244436%5D%2C%20%5B33.92741%2C%20-117.2886%5D%2C%20%5B30.59027%2C%20-88.15754%5D%2C%20%5B35.52909%2C%20-76.782642%5D%2C%20%5B37.73456%2C%20-122.47512%5D%2C%20%5B35.49656%2C%20-119.15999%5D%2C%20%5B38.55615%2C%20-121.44319%5D%2C%20%5B39.282026%2C%20-120.988555%5D%2C%20%5B34.068983%2C%20-80.929415%5D%2C%20%5B45.354852%2C%20-118.020192%5D%2C%20%5B38.28337%2C%20-104.57339%5D%2C%20%5B34.01647%2C%20-118.48782%5D%2C%20%5B40.6531%2C%20-111.95788%5D%2C%20%5B25.598549%2C%20-80.355736%5D%2C%20%5B33.77877%2C%20-117.88533%5D%2C%20%5B35.816066%2C%20-78.601644%5D%2C%20%5B32.543743%2C%20-83.570416%5D%2C%20%5B29.68454%2C%20-95.513048%5D%2C%20%5B37.146679%2C%20-121.987286%5D%2C%20%5B34.072608%2C%20-118.059869%5D%2C%20%5B36.227806%2C%20-119.336366%5D%2C%20%5B45.036642%2C%20-93.006816%5D%2C%20%5B38.148576%2C%20-121.261414%5D%2C%20%5B33.85907%2C%20-118.28964%5D%2C%20%5B38.93972%2C%20-94.56397%5D%2C%20%5B40.85318%2C%20-73.96068%5D%2C%20%5B33.512645%2C%20-86.874099%5D%2C%20%5B44.891197%2C%20-93.443233%5D%2C%20%5B30.46211%2C%20-91.03801%5D%2C%20%5B40.08717%2C%20-106.86378%5D%2C%20%5B40.08321%2C%20-86.82394%5D%2C%20%5B39.032997%2C%20-76.943418%5D%2C%20%5B38.034894%2C%20-84.508321%5D%2C%20%5B33.99814%2C%20-118.14721%5D%2C%20%5B26.677857%2C%20-80.06952%5D%2C%20%5B32.811988%2C%20-96.861769%5D%2C%20%5B32.970585%2C%20-117.249409%5D%2C%20%5B37.358788%2C%20-122.39762%5D%2C%20%5B35.06309%2C%20-82.190637%5D%2C%20%5B42.212632%2C%20-88.141047%5D%2C%20%5B34.312896%2C%20-81.572481%5D%2C%20%5B28.518646%2C%20-81.289229%5D%2C%20%5B41.87101%2C%20-87.76894%5D%2C%20%5B37.25037%2C%20-93.26624%5D%2C%20%5B30.317381%2C%20-81.677598%5D%2C%20%5B28.6979%2C%20-81.32725%5D%2C%20%5B45.038122%2C%20-93.040905%5D%2C%20%5B43.307764%2C%20-84.142259%5D%2C%20%5B33.17515%2C%20-87.40232%5D%2C%20%5B40.636721%2C%20-111.976743%5D%2C%20%5B35.732172%2C%20-80.099093%5D%2C%20%5B40.522067%2C%20-122.238479%5D%2C%20%5B32.752915%2C%20-117.157591%5D%2C%20%5B33.89272%2C%20-118.283021%5D%2C%20%5B32.92467%2C%20-96.788659%5D%2C%20%5B32.3478%2C%20-95.265521%5D%2C%20%5B41.049314%2C%20-111.61076%5D%2C%20%5B44.549799%2C%20-123.002772%5D%2C%20%5B40.75414%2C%20-73.89872%5D%2C%20%5B37.150426%2C%20-80.399727%5D%2C%20%5B45.24262%2C%20-93.66839%5D%2C%20%5B40.986009%2C%20-78.184901%5D%2C%20%5B32.87535%2C%20-96.7701%5D%2C%20%5B43.820384%2C%20-123.046677%5D%2C%20%5B38.485705%2C%20-90.7642%5D%2C%20%5B33.606976%2C%20-117.894144%5D%2C%20%5B47.66734%2C%20-122.121994%5D%2C%20%5B36.849061%2C%20-121.452589%5D%2C%20%5B39.05186%2C%20-104.84837%5D%2C%20%5B39.09875%2C%20-84.52119%5D%2C%20%5B35.45624%2C%20-80.34057%5D%2C%20%5B34.145019%2C%20-117.278682%5D%2C%20%5B32.235948%2C%20-110.926817%5D%2C%20%5B40.699284%2C%20-112.02488%5D%2C%20%5B33.94195%2C%20-117.55541%5D%2C%20%5B43.13007%2C%20-77.47588%5D%2C%20%5B36.258119%2C%20-86.685105%5D%2C%20%5B35.79544%2C%20-78.53515%5D%2C%20%5B38.24555%2C%20-122.07974%5D%2C%20%5B37.48487%2C%20-122.18554%5D%2C%20%5B38.975769%2C%20-94.71454%5D%2C%20%5B42.05057%2C%20-73.95724%5D%2C%20%5B41.49692%2C%20-88.19776%5D%2C%20%5B42.34277%2C%20-71.08491%5D%2C%20%5B33.87717%2C%20-118.14815%5D%2C%20%5B25.823117%2C%20-80.206385%5D%2C%20%5B44.14324%2C%20-93.78118%5D%2C%20%5B39.82997%2C%20-105.0029%5D%2C%20%5B36.794169%2C%20-119.78506%5D%2C%20%5B37.815578%2C%20-121.993489%5D%2C%20%5B39.100411%2C%20-111.81976%5D%2C%20%5B32.12928%2C%20-110.88175%5D%2C%20%5B30.3162%2C%20-81.76545%5D%2C%20%5B25.835713%2C%20-80.206214%5D%2C%20%5B34.23105%2C%20-118.266182%5D%2C%20%5B35.44215%2C%20-80.86547%5D%2C%20%5B34.040194%2C%20-118.017156%5D%2C%20%5B40.61919%2C%20-80.58587%5D%2C%20%5B30.261485%2C%20-97.717512%5D%2C%20%5B41.88574%2C%20-88.27718%5D%2C%20%5B42.6402%2C%20-73.79597%5D%2C%20%5B46.673301%2C%20-92.29214%5D%2C%20%5B38.934613%2C%20-94.405978%5D%2C%20%5B37.84797%2C%20-122.02766%5D%2C%20%5B37.549323%2C%20-122.292495%5D%2C%20%5B43.62229%2C%20-70.35433%5D%2C%20%5B39.58424%2C%20-77.63593%5D%2C%20%5B40.76873%2C%20-73.94898%5D%2C%20%5B45.7802%2C%20-122.87521%5D%2C%20%5B44.80391%2C%20-124.06131%5D%2C%20%5B33.74566%2C%20-84.34585%5D%2C%20%5B40.87223%2C%20-73.45433%5D%2C%20%5B25.499471%2C%20-80.417786%5D%2C%20%5B33.489023%2C%20-82.250124%5D%2C%20%5B38.49501%2C%20-122.350434%5D%2C%20%5B36.055094%2C%20-119.232382%5D%2C%20%5B45.54042%2C%20-122.3371%5D%2C%20%5B45.075539%2C%20-93.32592%5D%2C%20%5B36.30072%2C%20-86.71116%5D%2C%20%5B38.243767%2C%20-122.284793%5D%2C%20%5B44.70451%2C%20-117.71701%5D%2C%20%5B32.98306%2C%20-96.91714%5D%2C%20%5B38.101914%2C%20-121.15089%5D%2C%20%5B34.417344%2C%20-92.802125%5D%2C%20%5B40.428617%2C%20-79.929316%5D%2C%20%5B38.71572%2C%20-90.294%5D%2C%20%5B34.03117%2C%20-117.75905%5D%2C%20%5B37.931459%2C%20-122.516065%5D%2C%20%5B37.71863%2C%20-112.38609%5D%2C%20%5B41.13611%2C%20-81.71533%5D%2C%20%5B43.14998%2C%20-77.64862%5D%2C%20%5B34.291646%2C%20-118.468024%5D%2C%20%5B38.77277%2C%20-90.34079%5D%2C%20%5B37.651265%2C%20-77.611717%5D%2C%20%5B34.619233%2C%20-118.716453%5D%2C%20%5B40.13357%2C%20-74.97135%5D%2C%20%5B41.199006%2C%20-111.94874%5D%2C%20%5B39.725568%2C%20-105.062654%5D%2C%20%5B39.44198%2C%20-76.356858%5D%2C%20%5B33.559343%2C%20-117.672864%5D%2C%20%5B33.82075%2C%20-118.20684%5D%2C%20%5B42.50168%2C%20-82.91806%5D%2C%20%5B37.435811%2C%20-77.43109%5D%2C%20%5B34.053134%2C%20-118.963097%5D%2C%20%5B27.208803%2C%20-82.490208%5D%2C%20%5B40.68371%2C%20-74.19285%5D%2C%20%5B41.30367%2C%20-73.03427%5D%2C%20%5B34.068137%2C%20-117.387809%5D%2C%20%5B29.77799%2C%20-95.43449%5D%2C%20%5B34.134789%2C%20-117.656224%5D%2C%20%5B40.72644%2C%20-112.21778%5D%2C%20%5B39.12996%2C%20-121.585983%5D%2C%20%5B42.32376%2C%20-71.05525%5D%2C%20%5B34.441128%2C%20-117.225142%5D%2C%20%5B38.51945%2C%20-121.521695%5D%2C%20%5B29.98271%2C%20-90.05811%5D%2C%20%5B30.21708%2C%20-97.75111%5D%2C%20%5B46.10669%2C%20-123.206723%5D%2C%20%5B43.04425%2C%20-76.14511%5D%2C%20%5B32.272261%2C%20-110.926779%5D%2C%20%5B34.054203%2C%20-118.203196%5D%2C%20%5B44.299246%2C%20-121.168824%5D%2C%20%5B34.07221%2C%20-117.90351%5D%2C%20%5B40.66808%2C%20-111.49087%5D%2C%20%5B41.685491%2C%20-91.557827%5D%2C%20%5B27.822414%2C%20-80.554665%5D%2C%20%5B30.162812%2C%20-81.747532%5D%2C%20%5B35.17122%2C%20-80.80829%5D%2C%20%5B38.6419%2C%20-121.149549%5D%2C%20%5B43.023028%2C%20-85.775886%5D%2C%20%5B34.08328%2C%20-118.221652%5D%2C%20%5B34.00801%2C%20-117.96824%5D%2C%20%5B45.16567%2C%20-93.39131%5D%2C%20%5B32.95732%2C%20-117.09978%5D%2C%20%5B35.967936%2C%20-78.499295%5D%2C%20%5B25.68417%2C%20-80.35398%5D%2C%20%5B42.17769%2C%20-73.75896%5D%2C%20%5B33.875902%2C%20-118.164664%5D%2C%20%5B44.97942%2C%20-93.28747%5D%2C%20%5B43.153729%2C%20-77.619927%5D%2C%20%5B33.941025%2C%20-117.235246%5D%2C%20%5B33.6286%2C%20-112.24017%5D%2C%20%5B36.76071%2C%20-121.75126%5D%2C%20%5B34.09331%2C%20-118.206352%5D%2C%20%5B43.579849%2C%20-121.486949%5D%2C%20%5B47.01715%2C%20-114.64145%5D%2C%20%5B34.07907%2C%20-118.28938%5D%2C%20%5B34.035454%2C%20-118.054427%5D%2C%20%5B42.17899%2C%20-121.76487%5D%2C%20%5B26.591233%2C%20-81.7123%5D%2C%20%5B34.202004%2C%20-114.229121%5D%2C%20%5B35.49313%2C%20-97.1946%5D%2C%20%5B37.842972%2C%20-122.256764%5D%2C%20%5B40.69987%2C%20-111.868363%5D%2C%20%5B29.4636%2C%20-98.51576%5D%2C%20%5B40.641364%2C%20-89.535915%5D%2C%20%5B35.150125%2C%20-80.786713%5D%2C%20%5B34.079375%2C%20-117.952285%5D%2C%20%5B35.07483%2C%20-90.02748%5D%2C%20%5B44.89426%2C%20-93.27514%5D%2C%20%5B40.323265%2C%20-111.260886%5D%2C%20%5B33.089456%2C%20-117.301621%5D%2C%20%5B33.99824%2C%20-117.36937%5D%2C%20%5B45.747765%2C%20-123.962062%5D%2C%20%5B44.069994%2C%20-121.30636%5D%2C%20%5B39.31434%2C%20-76.57312%5D%2C%20%5B32.66137%2C%20-97.25814%5D%2C%20%5B34.382912%2C%20-117.415565%5D%2C%20%5B40.04685%2C%20-74.831668%5D%2C%20%5B34.068321%2C%20-118.037618%5D%2C%20%5B38.651145%2C%20-78.67404%5D%2C%20%5B25.89509%2C%20-80.20942%5D%2C%20%5B39.829484%2C%20-79.598296%5D%2C%20%5B38.19651%2C%20-85.73375%5D%2C%20%5B39.08578%2C%20-94.59224%5D%2C%20%5B44.308328%2C%20-121.1724%5D%2C%20%5B25.642258%2C%20-80.334766%5D%2C%20%5B34.23235%2C%20-117.41907%5D%2C%20%5B39.065332%2C%20-94.503159%5D%2C%20%5B35.02367%2C%20-80.9675%5D%2C%20%5B30.2814%2C%20-81.52149%5D%2C%20%5B33.39742%2C%20-86.7785%5D%2C%20%5B43.33622%2C%20-124.19852%5D%2C%20%5B42.821387%2C%20-96.17462%5D%2C%20%5B30.438403%2C%20-91.007511%5D%2C%20%5B44.27158%2C%20-121.17428%5D%2C%20%5B34.121188%2C%20-117.887036%5D%2C%20%5B37.893684%2C%20-122.066867%5D%2C%20%5B37.73005%2C%20-122.4397%5D%2C%20%5B35.528422%2C%20-82.599302%5D%2C%20%5B36.860945%2C%20-121.53641%5D%2C%20%5B33.543393%2C%20-86.568819%5D%2C%20%5B33.65442%2C%20-112.168845%5D%2C%20%5B30.44046%2C%20-91.21484%5D%2C%20%5B34.016418%2C%20-118.239655%5D%2C%20%5B34.253934%2C%20-118.47239%5D%2C%20%5B35.27011%2C%20-80.85417%5D%2C%20%5B43.1708%2C%20-77.60081%5D%2C%20%5B37.530203%2C%20-122.002774%5D%2C%20%5B33.895%2C%20-117.558399%5D%2C%20%5B35.37849%2C%20-119.04455%5D%2C%20%5B40.7449%2C%20-73.84745%5D%2C%20%5B25.783827%2C%20-80.368553%5D%2C%20%5B28.55012%2C%20-81.46217%5D%2C%20%5B34.06393%2C%20-117.27173%5D%2C%20%5B41.86873%2C%20-71.05638%5D%2C%20%5B32.945184%2C%20-117.242611%5D%2C%20%5B42.21372%2C%20-122.7048%5D%2C%20%5B37.55214%2C%20-122.30846%5D%2C%20%5B34.15235%2C%20-118.106461%5D%2C%20%5B44.85221%2C%20-122.86561%5D%2C%20%5B40.852899%2C%20-111.92969%5D%2C%20%5B41.55559%2C%20-73.77853%5D%2C%20%5B33.968167%2C%20-118.167854%5D%2C%20%5B34.121335%2C%20-118.479405%5D%2C%20%5B39.7257%2C%20-105.06052%5D%2C%20%5B37.591361%2C%20-122.363419%5D%2C%20%5B45.58486%2C%20-122.67959%5D%2C%20%5B32.911101%2C%20-117.227994%5D%2C%20%5B34.15316%2C%20-118.3583%5D%2C%20%5B40.776003%2C%20-73.625253%5D%2C%20%5B34.119554%2C%20-117.766238%5D%2C%20%5B43.521188%2C%20-121.647461%5D%2C%20%5B42.26595%2C%20-83.22893%5D%2C%20%5B35.01359%2C%20-85.53662%5D%2C%20%5B35.249425%2C%20-80.781129%5D%2C%20%5B27.90532%2C%20-82.17046%5D%2C%20%5B44.720854%2C%20-121.216455%5D%2C%20%5B37.185718%2C%20-93.539691%5D%2C%20%5B25.88582%2C%20-80.20896%5D%2C%20%5B39.961491%2C%20-76.720353%5D%2C%20%5B40.04968%2C%20-78.11623%5D%2C%20%5B45.69488%2C%20-121.675595%5D%2C%20%5B45.504991%2C%20-122.67361%5D%2C%20%5B34.06757%2C%20-117.565224%5D%2C%20%5B30.371711%2C%20-81.551749%5D%2C%20%5B37.694117%2C%20-77.711316%5D%2C%20%5B33.85532%2C%20-84.24665%5D%2C%20%5B35.05231%2C%20-89.81294%5D%2C%20%5B38.68204%2C%20-121.07612%5D%2C%20%5B44.7781%2C%20-93.21741%5D%2C%20%5B28.334646%2C%20-81.228396%5D%2C%20%5B42.960998%2C%20-85.669173%5D%2C%20%5B32.79135%2C%20-96.81363%5D%2C%20%5B32.76368%2C%20-117.12774%5D%2C%20%5B38.541002%2C%20-121.473938%5D%2C%20%5B40.9493%2C%20-73.85238%5D%2C%20%5B40.85153%2C%20-73.95234%5D%2C%20%5B45.784428%2C%20-93.651023%5D%2C%20%5B29.59645%2C%20-95.44194%5D%2C%20%5B35.13402%2C%20-93.33827%5D%2C%20%5B40.258282%2C%20-74.83937%5D%2C%20%5B40.67369%2C%20-73.84334%5D%2C%20%5B38.9859%2C%20-76.98817%5D%2C%20%5B38.59603%2C%20-121.4015%5D%2C%20%5B45.53767%2C%20-122.37873%5D%2C%20%5B40.59561%2C%20-95.67285%5D%2C%20%5B44.966702%2C%20-93.272657%5D%2C%20%5B29.958982%2C%20-90.078003%5D%2C%20%5B40.76283%2C%20-111.88823%5D%2C%20%5B32.69456%2C%20-117.12898%5D%2C%20%5B43.09398%2C%20-77.63309%5D%2C%20%5B33.462192%2C%20-112.232512%5D%2C%20%5B34.052711%2C%20-118.227216%5D%2C%20%5B44.96123%2C%20-93.09035%5D%2C%20%5B38.73877%2C%20-104.74681%5D%2C%20%5B36.2136%2C%20-115.12692%5D%2C%20%5B44.97033%2C%20-93.35116%5D%2C%20%5B39.631145%2C%20-105.899431%5D%2C%20%5B40.199082%2C%20-76.108473%5D%2C%20%5B46.4787%2C%20-92.71242%5D%2C%20%5B47.10379%2C%20-119.83096%5D%2C%20%5B38.17281%2C%20-85.76471%5D%2C%20%5B36.831481%2C%20-76.296989%5D%2C%20%5B42.920109%2C%20-121.828714%5D%2C%20%5B32.997851%2C%20-117.083486%5D%2C%20%5B47.66325%2C%20-122.68909%5D%2C%20%5B35.585285%2C%20-105.769168%5D%2C%20%5B33.91294%2C%20-118.13128%5D%2C%20%5B35.46006%2C%20-97.62283%5D%2C%20%5B44.212611%2C%20-123.20424%5D%2C%20%5B38.19859%2C%20-85.78276%5D%2C%20%5B35.835011%2C%20-78.582374%5D%2C%20%5B25.967315%2C%20-80.328453%5D%2C%20%5B41.801796%2C%20-87.63096%5D%2C%20%5B39.60927%2C%20-86.07189%5D%2C%20%5B40.6019%2C%20-79.75726%5D%2C%20%5B42.93844%2C%20-78.76626%5D%2C%20%5B39.096983%2C%20-84.521781%5D%2C%20%5B38.27715%2C%20-85.805293%5D%2C%20%5B38.794001%2C%20-77.02123%5D%2C%20%5B38.705841%2C%20-121.3269%5D%2C%20%5B42.914828%2C%20-78.76631%5D%2C%20%5B38.957487%2C%20-76.905552%5D%2C%20%5B30.260071%2C%20-97.736168%5D%2C%20%5B33.91006%2C%20-84.35671%5D%2C%20%5B42.76073%2C%20-73.757733%5D%2C%20%5B35.133195%2C%20-119.458643%5D%2C%20%5B28.176519%2C%20-82.391421%5D%2C%20%5B45.061576%2C%20-123.572199%5D%2C%20%5B41.86101%2C%20-87.95383%5D%2C%20%5B29.87115%2C%20-95.550209%5D%2C%20%5B28.59768%2C%20-81.20764%5D%2C%20%5B42.925726%2C%20-78.83983%5D%2C%20%5B34.01665%2C%20-118.373685%5D%2C%20%5B34.02172%2C%20-117.10424%5D%2C%20%5B42.26317%2C%20-85.6522%5D%2C%20%5B34.201728%2C%20-118.189242%5D%2C%20%5B34.231821%2C%20-93.010715%5D%2C%20%5B39.482728%2C%20-76.257187%5D%2C%20%5B38.25922%2C%20-85.76632%5D%2C%20%5B33.999839%2C%20-117.372831%5D%2C%20%5B36.12247%2C%20-115.16403%5D%2C%20%5B33.858331%2C%20-118.298422%5D%2C%20%5B34.1199%2C%20-117.80276%5D%2C%20%5B44.72192%2C%20-122.187803%5D%2C%20%5B48.1752%2C%20-122.19273%5D%2C%20%5B28.00283%2C%20-82.320438%5D%2C%20%5B42.358316%2C%20-122.903819%5D%2C%20%5B45.511442%2C%20-122.705554%5D%2C%20%5B40.58777%2C%20-111.9588%5D%2C%20%5B33.327047%2C%20-84.178495%5D%2C%20%5B41.88524%2C%20-122.555646%5D%2C%20%5B38.390489%2C%20-121.950763%5D%2C%20%5B40.029062%2C%20-75.593115%5D%2C%20%5B34.118749%2C%20-117.841112%5D%2C%20%5B42.99682%2C%20-85.67583%5D%2C%20%5B33.53861%2C%20-112.1862%5D%2C%20%5B40.71893%2C%20-112.23309%5D%2C%20%5B38.464218%2C%20-122.726844%5D%2C%20%5B34.00826%2C%20-117.86161%5D%2C%20%5B41.8485%2C%20-87.64321%5D%2C%20%5B41.74693%2C%20-87.62529%5D%2C%20%5B34.044989%2C%20-118.444772%5D%2C%20%5B45.18197%2C%20-123.920276%5D%2C%20%5B33.955019%2C%20-118.36931%5D%2C%20%5B30.471397%2C%20-87.230271%5D%2C%20%5B33.88751%2C%20-117.55188%5D%2C%20%5B44.52783%2C%20-119.63346%5D%2C%20%5B45.52301%2C%20-122.66543%5D%2C%20%5B39.442764%2C%20-76.634703%5D%2C%20%5B40.7947%2C%20-77.62525%5D%2C%20%5B42.35942%2C%20-87.87419%5D%2C%20%5B30.29086%2C%20-81.62937%5D%2C%20%5B33.94094%2C%20-117.24911%5D%2C%20%5B34.11917%2C%20-118.16051%5D%2C%20%5B44.93371%2C%20-92.214389%5D%2C%20%5B44.547068%2C%20-120.352948%5D%2C%20%5B34.619689%2C%20-79.677276%5D%2C%20%5B40.844751%2C%20-73.904575%5D%2C%20%5B39.52976%2C%20-119.78474%5D%2C%20%5B37.742832%2C%20-122.406528%5D%2C%20%5B30.416733%2C%20-91.143139%5D%2C%20%5B29.732699%2C%20-95.378856%5D%2C%20%5B40.27424%2C%20-74.70712%5D%2C%20%5B34.0048%2C%20-84.5646%5D%2C%20%5B39.55571%2C%20-83.72252%5D%2C%20%5B36.81018%2C%20-76.28021%5D%2C%20%5B39.33318%2C%20-83.022707%5D%2C%20%5B37.498247%2C%20-77.048884%5D%2C%20%5B38.383703%2C%20-122.810934%5D%2C%20%5B28.651877%2C%20-80.842445%5D%2C%20%5B35.60627%2C%20-97.53171%5D%2C%20%5B39.085218%2C%20-85.933908%5D%2C%20%5B33.774556%2C%20-118.089635%5D%2C%20%5B30.43974%2C%20-81.72271%5D%2C%20%5B37.9426%2C%20-122.47761%5D%2C%20%5B38.502423%2C%20-121.222777%5D%2C%20%5B45.50365%2C%20-122.67455%5D%2C%20%5B34.067196%2C%20-117.427894%5D%2C%20%5B34.869586%2C%20-82.230745%5D%2C%20%5B39.82194%2C%20-84.18933%5D%2C%20%5B38.737267%2C%20-77.192484%5D%2C%20%5B38.98895%2C%20-76.88352%5D%2C%20%5B38.866034%2C%20-76.991554%5D%2C%20%5B34.303383%2C%20-118.479548%5D%2C%20%5B36.693174%2C%20-121.569434%5D%2C%20%5B25.87242%2C%20-80.20888%5D%2C%20%5B38.338884%2C%20-81.609266%5D%2C%20%5B40.281361%2C%20-79.596623%5D%2C%20%5B33.805779%2C%20-117.233766%5D%2C%20%5B40.11458%2C%20-75.12179%5D%2C%20%5B44.548339%2C%20-93.849306%5D%2C%20%5B27.31643%2C%20-82.52973%5D%2C%20%5B44.06349%2C%20-123.101%5D%2C%20%5B41.658471%2C%20-93.575781%5D%2C%20%5B25.698854%2C%20-80.296404%5D%2C%20%5B33.83784%2C%20-117.8762%5D%2C%20%5B39.971453%2C%20-76.573843%5D%2C%20%5B33.415059%2C%20-111.891509%5D%2C%20%5B34.0244%2C%20-117.75582%5D%2C%20%5B44.781417%2C%20-93.212596%5D%2C%20%5B34.0411%2C%20-118.06084%5D%2C%20%5B45.638332%2C%20-111.124962%5D%2C%20%5B25.828264%2C%20-80.249134%5D%2C%20%5B39.93647%2C%20-83.00944%5D%2C%20%5B34.23465%2C%20-117.42176%5D%2C%20%5B40.616842%2C%20-74.025838%5D%2C%20%5B32.852976%2C%20-96.886392%5D%2C%20%5B40.80966%2C%20-73.90284%5D%2C%20%5B43.17601%2C%20-77.6832%5D%2C%20%5B40.88681%2C%20-73.81482%5D%2C%20%5B38.629154%2C%20-121.215842%5D%2C%20%5B33.92853%2C%20-118.23042%5D%2C%20%5B33.545399%2C%20-117.633213%5D%2C%20%5B27.95249%2C%20-82.54204%5D%2C%20%5B42.183493%2C%20-87.965468%5D%2C%20%5B33.84145%2C%20-118.28613%5D%2C%20%5B33.9136%2C%20-84.20464%5D%2C%20%5B32.787774%2C%20-96.804491%5D%2C%20%5B33.925735%2C%20-118.309318%5D%2C%20%5B33.922102%2C%20-118.291796%5D%2C%20%5B40.67435%2C%20-111.8883%5D%2C%20%5B45.39758%2C%20-122.57417%5D%2C%20%5B25.769483%2C%20-80.337494%5D%2C%20%5B33.74345%2C%20-84.38338%5D%2C%20%5B40.105924%2C%20-76.329198%5D%2C%20%5B37.789998%2C%20-120.866039%5D%2C%20%5B44.651301%2C%20-123.830912%5D%2C%20%5B37.245952%2C%20-121.961386%5D%2C%20%5B33.64914%2C%20-84.36925%5D%2C%20%5B30.350108%2C%20-97.657523%5D%2C%20%5B29.590356%2C%20-95.484062%5D%2C%20%5B32.760137%2C%20-96.682719%5D%2C%20%5B34.08599%2C%20-118.21589%5D%2C%20%5B36.14789%2C%20-95.86155%5D%2C%20%5B43.059487%2C%20-76.18578%5D%2C%20%5B25.91399%2C%20-80.324875%5D%2C%20%5B42.912728%2C%20-85.637247%5D%2C%20%5B36.75171%2C%20-119.7911%5D%2C%20%5B27.9606%2C%20-82.735884%5D%2C%20%5B33.89277%2C%20-118.36408%5D%2C%20%5B40.850574%2C%20-73.946809%5D%2C%20%5B43.815384%2C%20-122.589325%5D%2C%20%5B40.73634%2C%20-73.85621%5D%2C%20%5B33.966306%2C%20-118.28101%5D%2C%20%5B35.703346%2C%20-78.588858%5D%2C%20%5B34.14474%2C%20-118.27866%5D%2C%20%5B45.40404%2C%20-118.33825%5D%2C%20%5B38.93325%2C%20-104.60862%5D%2C%20%5B32.446006%2C%20-93.701823%5D%2C%20%5B26.17252%2C%20-80.88024%5D%2C%20%5B37.025742%2C%20-79.880481%5D%2C%20%5B42.377589%2C%20-83.037832%5D%2C%20%5B35.816448%2C%20-86.987782%5D%2C%20%5B42.113371%2C%20-93.553623%5D%2C%20%5B33.87157%2C%20-117.68663%5D%2C%20%5B36.76245%2C%20-119.775385%5D%2C%20%5B34.08591%2C%20-80.93554%5D%2C%20%5B41.87619%2C%20-87.65703%5D%2C%20%5B40.84694%2C%20-73.93365%5D%2C%20%5B40.696738%2C%20-111.95917%5D%2C%20%5B40.366388%2C%20-121.535974%5D%2C%20%5B38.522782%2C%20-122.78714%5D%2C%20%5B40.74751%2C%20-73.64609%5D%2C%20%5B37.565227%2C%20-111.990905%5D%2C%20%5B34.1504%2C%20-117.32292%5D%2C%20%5B43.15167%2C%20-124.17585%5D%2C%20%5B38.289065%2C%20-122.490157%5D%2C%20%5B40.113716%2C%20-75.342375%5D%2C%20%5B41.98424%2C%20-87.867108%5D%2C%20%5B30.069564%2C%20-95.246882%5D%2C%20%5B35.00633%2C%20-85.20756%5D%2C%20%5B38.080683%2C%20-84.44746%5D%2C%20%5B38.368152%2C%20-121.959432%5D%2C%20%5B35.084164%2C%20-118.11953%5D%2C%20%5B38.62907%2C%20-121.51861%5D%2C%20%5B28.342531%2C%20-81.351399%5D%2C%20%5B29.603373%2C%20-82.375151%5D%2C%20%5B38.89772%2C%20-77.17768%5D%2C%20%5B25.99597%2C%20-80.16709%5D%2C%20%5B41.26303%2C%20-96.14221%5D%2C%20%5B41.137061%2C%20-73.777444%5D%2C%20%5B37.452853%2C%20-121.922514%5D%2C%20%5B39.9231%2C%20-84.18845%5D%2C%20%5B32.788736%2C%20-96.856405%5D%2C%20%5B29.34675%2C%20-98.42425%5D%2C%20%5B29.603235%2C%20-95.209022%5D%2C%20%5B39.256521%2C%20-76.676512%5D%2C%20%5B33.63745%2C%20-112.27387%5D%2C%20%5B28.5327%2C%20-81.52565%5D%2C%20%5B39.019309%2C%20-76.976973%5D%2C%20%5B33.871726%2C%20-117.665948%5D%2C%20%5B33.384775%2C%20-81.38836%5D%2C%20%5B35.87898%2C%20-78.64574%5D%2C%20%5B41.87448%2C%20-87.64504%5D%2C%20%5B38.743382%2C%20-77.18772%5D%2C%20%5B47.215431%2C%20-122.462883%5D%2C%20%5B26.53273%2C%20-80.17276%5D%2C%20%5B34.07168%2C%20-117.87072%5D%2C%20%5B44.398354%2C%20-123.06114%5D%2C%20%5B38.9957%2C%20-76.87787%5D%2C%20%5B34.111265%2C%20-118.250294%5D%2C%20%5B37.217042%2C%20-112.976099%5D%2C%20%5B33.810374%2C%20-118.081584%5D%2C%20%5B44.732841%2C%20-94.294785%5D%2C%20%5B27.803222%2C%20-82.744135%5D%2C%20%5B38.370941%2C%20-77.465769%5D%2C%20%5B34.219535%2C%20-118.588515%5D%2C%20%5B42.849771%2C%20-85.691243%5D%2C%20%5B34.13606%2C%20-117.33544%5D%2C%20%5B35.888088%2C%20-78.845059%5D%2C%20%5B40.85601%2C%20-73.971816%5D%2C%20%5B43.42145%2C%20-83.89091%5D%2C%20%5B38.97609%2C%20-119.89341%5D%2C%20%5B45.533904%2C%20-122.6262%5D%2C%20%5B39.988592%2C%20-75.790446%5D%2C%20%5B28.665444%2C%20-81.419128%5D%2C%20%5B32.758351%2C%20-96.773072%5D%2C%20%5B38.353151%2C%20-81.650023%5D%2C%20%5B45.37036%2C%20-122.6013%5D%2C%20%5B42.969894%2C%20-85.688986%5D%2C%20%5B41.75649%2C%20-72.649229%5D%2C%20%5B30.441356%2C%20-97.66824%5D%2C%20%5B40.85002%2C%20-73.94399%5D%2C%20%5B27.981386%2C%20-82.490337%5D%2C%20%5B37.68999%2C%20-122.13676%5D%2C%20%5B36.17528%2C%20-86.79267%5D%2C%20%5B40.01199%2C%20-82.99159%5D%2C%20%5B25.774043%2C%20-80.320647%5D%2C%20%5B38.37296%2C%20-121.35842%5D%2C%20%5B33.34905%2C%20-111.9112%5D%2C%20%5B39.106403%2C%20-94.573885%5D%2C%20%5B33.97465%2C%20-118.28062%5D%2C%20%5B25.595961%2C%20-80.364519%5D%2C%20%5B37.97967%2C%20-122.31737%5D%2C%20%5B43.93495%2C%20-95.622774%5D%2C%20%5B40.72556%2C%20-112.037389%5D%2C%20%5B33.88325%2C%20-117.54282%5D%2C%20%5B34.019539%2C%20-117.988035%5D%2C%20%5B38.91306%2C%20-77.1154%5D%2C%20%5B40.630459%2C%20-111.876063%5D%2C%20%5B33.9237%2C%20-118.10439%5D%2C%20%5B39.15318%2C%20-76.64037%5D%2C%20%5B43.861891%2C%20-121.4087%5D%2C%20%5B44.555788%2C%20-123.06202%5D%2C%20%5B33.972891%2C%20-118.168033%5D%2C%20%5B41.717891%2C%20-74.394649%5D%2C%20%5B39.954756%2C%20-78.024629%5D%2C%20%5B43.01966%2C%20-85.73106%5D%2C%20%5B32.195512%2C%20-81.029588%5D%2C%20%5B39.870426%2C%20-121.966766%5D%2C%20%5B37.18606%2C%20-93.565189%5D%2C%20%5B38.15097%2C%20-122.449378%5D%2C%20%5B37.775851%2C%20-122.405458%5D%2C%20%5B34.025517%2C%20-118.20569%5D%2C%20%5B42.275592%2C%20-121.901983%5D%2C%20%5B39.42597%2C%20-119.75557%5D%2C%20%5B40.06617%2C%20-111.72214%5D%2C%20%5B35.430582%2C%20-82.530038%5D%2C%20%5B45.46951%2C%20-117.95519%5D%2C%20%5B39.369446%2C%20-119.352554%5D%2C%20%5B26.6349%2C%20-81.80308%5D%2C%20%5B33.94408%2C%20-80.90286%5D%2C%20%5B40.825497%2C%20-76.907514%5D%2C%20%5B25.747794%2C%20-80.332968%5D%2C%20%5B41.597343%2C%20-93.593456%5D%2C%20%5B30.438757%2C%20-84.286936%5D%2C%20%5B39.472085%2C%20-123.363172%5D%2C%20%5B39.0712%2C%20-94.58995%5D%2C%20%5B45.6128%2C%20-122.67823%5D%2C%20%5B38.113296%2C%20-120.908306%5D%2C%20%5B25.98899%2C%20-80.16585%5D%2C%20%5B33.856567%2C%20-117.980544%5D%2C%20%5B41.96635%2C%20-87.75287%5D%2C%20%5B34.015034%2C%20-117.086778%5D%2C%20%5B41.78623%2C%20-85.867048%5D%2C%20%5B43.824071%2C%20-124.147845%5D%2C%20%5B45.51999%2C%20-123.011063%5D%2C%20%5B32.83895%2C%20-96.63328%5D%2C%20%5B34.120505%2C%20-117.835735%5D%2C%20%5B33.71791%2C%20-84.238668%5D%2C%20%5B32.34687%2C%20-86.09498%5D%2C%20%5B33.737442%2C%20-117.989489%5D%2C%20%5B33.92559%2C%20-117.42281%5D%2C%20%5B35.30601%2C%20-80.85908%5D%2C%20%5B33.94453%2C%20-84.51029%5D%2C%20%5B33.756458%2C%20-78.965946%5D%2C%20%5B40.88744%2C%20-74.13187%5D%2C%20%5B33.757671%2C%20-117.858077%5D%2C%20%5B42.30593%2C%20-83.10777%5D%2C%20%5B41.76284%2C%20-72.63504%5D%2C%20%5B34.173157%2C%20-118.535976%5D%2C%20%5B38.648655%2C%20-121.373293%5D%2C%20%5B39.63803%2C%20-84.34849%5D%2C%20%5B41.06356%2C%20-81.48996%5D%2C%20%5B41.87575%2C%20-87.68822%5D%2C%20%5B45.675305%2C%20-121.275275%5D%2C%20%5B40.356688%2C%20-75.974011%5D%2C%20%5B37.375492%2C%20-122.06799%5D%2C%20%5B39.297876%2C%20-80.613739%5D%2C%20%5B25.75486%2C%20-80.338219%5D%2C%20%5B37.10999%2C%20-113.589683%5D%2C%20%5B35.532499%2C%20-118.63081%5D%2C%20%5B35.52232%2C%20-97.61%5D%2C%20%5B32.969155%2C%20-117.248872%5D%2C%20%5B41.502951%2C%20-111.945866%5D%2C%20%5B41.89748%2C%20-87.6589%5D%2C%20%5B34.68751%2C%20-86.95295%5D%2C%20%5B34.07221%2C%20-117.90351%5D%2C%20%5B38.636532%2C%20-121.495514%5D%2C%20%5B38.207625%2C%20-122.158095%5D%2C%20%5B38.553088%2C%20-121.375116%5D%2C%20%5B37.478748%2C%20-122.190998%5D%2C%20%5B28.3642%2C%20-82.69318%5D%2C%20%5B40.48099%2C%20-104.69979%5D%2C%20%5B44.793253%2C%20-93.288806%5D%2C%20%5B33.96747%2C%20-118.232838%5D%2C%20%5B34.764151%2C%20-82.203023%5D%2C%20%5B43.412501%2C%20-121.721044%5D%2C%20%5B26.286839%2C%20-80.297001%5D%2C%20%5B33.876705%2C%20-118.187816%5D%2C%20%5B48.04893%2C%20-122.18373%5D%2C%20%5B33.823218%2C%20-118.207005%5D%2C%20%5B40.03314%2C%20-75.76375%5D%2C%20%5B34.057258%2C%20-118.002491%5D%2C%20%5B32.74298%2C%20-96.91893%5D%2C%20%5B43.07448%2C%20-87.92075%5D%2C%20%5B41.874%2C%20-72.6624%5D%2C%20%5B27.46228%2C%20-82.5749%5D%2C%20%5B45.239769%2C%20-123.144676%5D%2C%20%5B34.136283%2C%20-117.427328%5D%2C%20%5B33.88037%2C%20-117.56958%5D%2C%20%5B37.146052%2C%20-121.985868%5D%2C%20%5B37.566281%2C%20-122.041265%5D%2C%20%5B39.259606%2C%20-77.202467%5D%2C%20%5B32.402365%2C%20-90.174023%5D%2C%20%5B36.158897%2C%20-86.782115%5D%2C%20%5B42.42396%2C%20-123.16329%5D%2C%20%5B33.257771%2C%20-117.237285%5D%2C%20%5B35.14087%2C%20-80.81917%5D%2C%20%5B40.17103%2C%20-75.07122%5D%2C%20%5B41.507905%2C%20-73.681096%5D%2C%20%5B39.505948%2C%20-119.780283%5D%2C%20%5B25.70048%2C%20-80.292269%5D%2C%20%5B34.190974%2C%20-117.361065%5D%2C%20%5B27.94477%2C%20-82.542%5D%2C%20%5B35.2231%2C%20-80.9461%5D%2C%20%5B40.71958%2C%20-111.85692%5D%2C%20%5B34.07105%2C%20-118.26451%5D%2C%20%5B42.91265%2C%20-85.62804%5D%2C%20%5B42.975265%2C%20-85.693886%5D%2C%20%5B33.901609%2C%20-117.467397%5D%2C%20%5B45.5699%2C%20-122.5509%5D%2C%20%5B41.22254%2C%20-95.99309%5D%2C%20%5B33.927917%2C%20-118.25428%5D%2C%20%5B34.11853%2C%20-117.84169%5D%2C%20%5B43.794088%2C%20-91.144541%5D%2C%20%5B34.030054%2C%20-117.703045%5D%2C%20%5B44.93683%2C%20-117.84029%5D%2C%20%5B41.62772%2C%20-87.02159%5D%2C%20%5B40.744131%2C%20-73.971398%5D%2C%20%5B37.352514%2C%20-121.864098%5D%2C%20%5B34.115193%2C%20-118.482111%5D%2C%20%5B34.154523%2C%20-118.395776%5D%2C%20%5B39.64518%2C%20-104.91407%5D%2C%20%5B36.837384%2C%20-119.633529%5D%2C%20%5B38.94208%2C%20-94.754472%5D%2C%20%5B35.22876%2C%20-80.84083%5D%2C%20%5B38.01335%2C%20-122.09093%5D%2C%20%5B35.689406%2C%20-78.582029%5D%2C%20%5B44.86026%2C%20-93.1032%5D%2C%20%5B38.27009%2C%20-122.05232%5D%2C%20%5B38.453192%2C%20-120.917959%5D%2C%20%5B37.87288%2C%20-122.51192%5D%2C%20%5B28.523036%2C%20-82.235423%5D%2C%20%5B42.408159%2C%20-122.948137%5D%2C%20%5B26.007663%2C%20-80.214005%5D%2C%20%5B33.913284%2C%20-118.127713%5D%2C%20%5B33.915825%2C%20-117.29194%5D%2C%20%5B41.161689%2C%20-112.032006%5D%2C%20%5B34.048302%2C%20-117.306656%5D%2C%20%5B37.996773%2C%20-121.789698%5D%2C%20%5B34.190795%2C%20-118.941853%5D%2C%20%5B37.357726%2C%20-120.46862%5D%2C%20%5B37.68511%2C%20-122.13005%5D%2C%20%5B32.717446%2C%20-117.117809%5D%2C%20%5B28.510294%2C%20-81.584203%5D%2C%20%5B42.26635%2C%20-88.07915%5D%2C%20%5B34.342274%2C%20-118.505506%5D%2C%20%5B34.083054%2C%20-117.544943%5D%2C%20%5B42.16631%2C%20-88.06276%5D%2C%20%5B33.66821%2C%20-117.81934%5D%2C%20%5B25.798603%2C%20-80.260493%5D%2C%20%5B41.581329%2C%20-71.503503%5D%2C%20%5B34.218333%2C%20-119.060556%5D%2C%20%5B34.06701%2C%20-117.59493%5D%2C%20%5B25.806552%2C%20-80.231941%5D%2C%20%5B34.15933%2C%20-118.46386%5D%2C%20%5B32.74828%2C%20-96.76929%5D%2C%20%5B38.62128%2C%20-76.91561%5D%2C%20%5B41.722329%2C%20-72.7907%5D%2C%20%5B44.528982%2C%20-123.061943%5D%2C%20%5B34.042952%2C%20-118.272653%5D%2C%20%5B40.43942%2C%20-122.407256%5D%2C%20%5B37.709258%2C%20-122.134294%5D%2C%20%5B40.90182%2C%20-74.13623%5D%2C%20%5B42.34582%2C%20-71.05958%5D%2C%20%5B38.408959%2C%20-121.392469%5D%2C%20%5B37.4911%2C%20-122.21863%5D%2C%20%5B42.119799%2C%20-75.950329%5D%2C%20%5B41.66924%2C%20-72.83078%5D%2C%20%5B40.02037%2C%20-75.62365%5D%2C%20%5B34.330629%2C%20-92.159579%5D%2C%20%5B35.775715%2C%20-80.863599%5D%2C%20%5B33.85408%2C%20-117.91634%5D%2C%20%5B34.8801%2C%20-82.3594%5D%2C%20%5B44.033352%2C%20-123.031332%5D%2C%20%5B45.056679%2C%20-93.134301%5D%2C%20%5B40.552057%2C%20-79.699187%5D%2C%20%5B33.81472%2C%20-118.18347%5D%2C%20%5B39.338069%2C%20-120.349214%5D%2C%20%5B40.738951%2C%20-73.847007%5D%2C%20%5B38.494442%2C%20-121.45836%5D%2C%20%5B34.276751%2C%20-118.453033%5D%2C%20%5B34.16813%2C%20-118.58373%5D%2C%20%5B45.162562%2C%20-93.521528%5D%2C%20%5B41.6314%2C%20-87.69646%5D%2C%20%5B41.418889%2C%20-79.70279%5D%2C%20%5B37.3172%2C%20-121.93203%5D%2C%20%5B40.47805%2C%20-74.40928%5D%2C%20%5B36.079562%2C%20-86.960102%5D%2C%20%5B34.912%2C%20-79.7908%5D%2C%20%5B37.881131%2C%20-122.52652%5D%2C%20%5B39.099736%2C%20-84.505026%5D%2C%20%5B32.73402%2C%20-96.64844%5D%2C%20%5B38.878646%2C%20-77.221463%5D%2C%20%5B25.686705%2C%20-80.376529%5D%2C%20%5B40.67846%2C%20-75.34182%5D%2C%20%5B39.03579%2C%20-77.049828%5D%2C%20%5B33.3947%2C%20-111.89131%5D%2C%20%5B33.875911%2C%20-118.168782%5D%2C%20%5B45.50651%2C%20-122.714186%5D%2C%20%5B28.87614%2C%20-81.28299%5D%2C%20%5B33.03514%2C%20-80.14535%5D%2C%20%5B45.486005%2C%20-117.42785%5D%2C%20%5B36.770733%2C%20-121.765267%5D%2C%20%5B44.86238%2C%20-93.48612%5D%2C%20%5B36.900713%2C%20-121.597811%5D%2C%20%5B45.5075%2C%20-122.72064%5D%2C%20%5B40.93815%2C%20-121.606611%5D%2C%20%5B42.01885%2C%20-87.94437%5D%2C%20%5B34.09595%2C%20-118.24477%5D%2C%20%5B37.074444%2C%20-121.988056%5D%2C%20%5B37.916062%2C%20-122.317523%5D%2C%20%5B40.867627%2C%20-74.446266%5D%2C%20%5B35.14363%2C%20-80.73064%5D%2C%20%5B34.239067%2C%20-119.125712%5D%2C%20%5B34.001848%2C%20-118.056334%5D%2C%20%5B27.77721%2C%20-82.71433%5D%2C%20%5B33.397017%2C%20-84.603835%5D%2C%20%5B42.466477%2C%20-88.080629%5D%2C%20%5B33.789922%2C%20-118.207925%5D%2C%20%5B40.848441%2C%20-73.936973%5D%2C%20%5B37.568982%2C%20-77.478772%5D%2C%20%5B45.13636%2C%20-122.83632%5D%2C%20%5B36.84552%2C%20-76.25585%5D%2C%20%5B39.94153%2C%20-76.73882%5D%2C%20%5B35.14714%2C%20-80.72443%5D%2C%20%5B40.27385%2C%20-83.21484%5D%2C%20%5B38.568481%2C%20-81.132284%5D%2C%20%5B47.56951%2C%20-92.54523%5D%2C%20%5B45.981%2C%20-95.67133%5D%2C%20%5B32.39981%2C%20-86.21257%5D%2C%20%5B30.519004%2C%20-84.360296%5D%2C%20%5B41.06187%2C%20-81.54486%5D%2C%20%5B29.77193%2C%20-95.26417%5D%2C%20%5B27.93757%2C%20-82.12112%5D%2C%20%5B33.847514%2C%20-117.875865%5D%2C%20%5B40.66617%2C%20-73.492965%5D%2C%20%5B33.58017%2C%20-117.6716%5D%2C%20%5B38.211462%2C%20-122.25645%5D%2C%20%5B43.442102%2C%20-71.598129%5D%2C%20%5B36.10918%2C%20-80.08645%5D%2C%20%5B38.685554%2C%20-77.22791%5D%2C%20%5B34.25727%2C%20-118.472339%5D%2C%20%5B33.38563%2C%20-111.95325%5D%2C%20%5B38.41482%2C%20-82.01848%5D%2C%20%5B45.976897%2C%20-94.408942%5D%2C%20%5B37.76432%2C%20-122.21711%5D%2C%20%5B32.66784%2C%20-97.29841%5D%2C%20%5B41.346001%2C%20-72.86864%5D%2C%20%5B30.01619%2C%20-90.02149%5D%2C%20%5B36.064481%2C%20-79.521492%5D%2C%20%5B45.27003%2C%20-93.54248%5D%2C%20%5B40.04373%2C%20-75.0027%5D%2C%20%5B45.54259%2C%20-122.67366%5D%2C%20%5B38.42245%2C%20-121.48642%5D%2C%20%5B32.779029%2C%20-117.102938%5D%2C%20%5B35.70347%2C%20-78.58232%5D%2C%20%5B25.673904%2C%20-80.320279%5D%2C%20%5B35.295933%2C%20-119.030645%5D%2C%20%5B45.63761%2C%20-93.6184%5D%2C%20%5B37.41766%2C%20-121.97332%5D%2C%20%5B26.3979%2C%20-81.81052%5D%2C%20%5B41.89446%2C%20-87.6563%5D%2C%20%5B41.450909%2C%20-85.720263%5D%2C%20%5B46.32544%2C%20-95.09494%5D%2C%20%5B34.020212%2C%20-117.814998%5D%2C%20%5B34.311844%2C%20-117.474694%5D%2C%20%5B35.0488%2C%20-85.277155%5D%2C%20%5B35.810456%2C%20-78.693709%5D%2C%20%5B34.00404%2C%20-85.27955%5D%2C%20%5B32.188817%2C%20-111.096538%5D%2C%20%5B41.88608%2C%20-87.92061%5D%2C%20%5B38.353826%2C%20-81.737518%5D%2C%20%5B43.110751%2C%20-123.518112%5D%2C%20%5B39.102029%2C%20-77.077042%5D%2C%20%5B33.8541%2C%20-117.79493%5D%2C%20%5B42.92998%2C%20-78.85431%5D%2C%20%5B34.22656%2C%20-118.37737%5D%2C%20%5B41.09678%2C%20-74.04393%5D%2C%20%5B32.92391%2C%20-96.77672%5D%2C%20%5B47.068573%2C%20-122.711931%5D%2C%20%5B35.207271%2C%20-86.080204%5D%2C%20%5B38.272468%2C%20-122.488533%5D%2C%20%5B41.01308%2C%20-73.84972%5D%2C%20%5B47.639502%2C%20-122.186356%5D%2C%20%5B40.63525%2C%20-111.90483%5D%2C%20%5B41.98234%2C%20-87.7926%5D%2C%20%5B37.24619%2C%20-121.96152%5D%2C%20%5B43.971116%2C%20-123.012119%5D%2C%20%5B44.97163%2C%20-93.2507%5D%2C%20%5B37.42528%2C%20-122.09804%5D%2C%20%5B41.815365%2C%20-87.629819%5D%2C%20%5B38.928729%2C%20-77.118723%5D%2C%20%5B37.6917%2C%20-77.45103%5D%2C%20%5B35.89022%2C%20-78.84798%5D%2C%20%5B44.563941%2C%20-123.23484%5D%2C%20%5B38.91681%2C%20-76.9323%5D%2C%20%5B32.94446%2C%20-117.10845%5D%2C%20%5B33.88901%2C%20-117.880695%5D%2C%20%5B41.30897%2C%20-81.80953%5D%2C%20%5B34.03441%2C%20-118.43763%5D%2C%20%5B36.739718%2C%20-119.811499%5D%2C%20%5B33.91685%2C%20-117.287415%5D%2C%20%5B38.44816%2C%20-121.8559%5D%2C%20%5B26.19993%2C%20-80.29613%5D%2C%20%5B30.40156%2C%20-86.879727%5D%2C%20%5B29.73046%2C%20-95.41911%5D%2C%20%5B33.476686%2C%20-112.11306%5D%2C%20%5B32.861235%2C%20-117.111007%5D%2C%20%5B34.03049%2C%20-117.66272%5D%2C%20%5B26.166388%2C%20-80.151555%5D%2C%20%5B40.13726%2C%20-79.007849%5D%2C%20%5B32.93429%2C%20-80.04735%5D%2C%20%5B34.048302%2C%20-117.306656%5D%2C%20%5B33.703204%2C%20-117.353616%5D%2C%20%5B42.322295%2C%20-123.59743%5D%2C%20%5B45.982943%2C%20-92.951513%5D%2C%20%5B34.135533%2C%20-117.977475%5D%2C%20%5B25.657368%2C%20-80.41592%5D%2C%20%5B35.814919%2C%20-78.605377%5D%2C%20%5B35.500066%2C%20-119.350308%5D%2C%20%5B37.663405%2C%20-77.486545%5D%2C%20%5B39.74739%2C%20-84.23953%5D%2C%20%5B33.691439%2C%20-85.09761%5D%2C%20%5B37.30875%2C%20-77.39608%5D%2C%20%5B35.135409%2C%20-80.892534%5D%2C%20%5B34.136219%2C%20-117.441194%5D%2C%20%5B32.89213%2C%20-117.22738%5D%2C%20%5B32.68644%2C%20-96.62372%5D%2C%20%5B41.87563%2C%20-87.63964%5D%2C%20%5B33.93525%2C%20-118.016796%5D%2C%20%5B47.67505%2C%20-117.316189%5D%2C%20%5B39.06057%2C%20-77.15573%5D%2C%20%5B35.033111%2C%20-85.277897%5D%2C%20%5B34.412752%2C%20-118.578368%5D%2C%20%5B35.214219%2C%20-80.862368%5D%2C%20%5B42.86381%2C%20-73.76531%5D%2C%20%5B33.94085%2C%20-118.09671%5D%2C%20%5B45.37542%2C%20-122.75555%5D%2C%20%5B27.93795%2C%20-82.244905%5D%2C%20%5B36.677631%2C%20-80.711499%5D%2C%20%5B36.66672%2C%20-121.81476%5D%2C%20%5B29.43628%2C%20-95.06616%5D%2C%20%5B34.024878%2C%20-117.731454%5D%2C%20%5B29.677542%2C%20-95.555668%5D%2C%20%5B32.84613%2C%20-117.23598%5D%2C%20%5B36.32564%2C%20-86.70604%5D%2C%20%5B33.87897%2C%20-117.55805%5D%2C%20%5B38.672152%2C%20-104.708201%5D%2C%20%5B39.937303%2C%20-86.021998%5D%2C%20%5B40.58776%2C%20-111.96732%5D%2C%20%5B37.822777%2C%20-122.319627%5D%2C%20%5B28.62192%2C%20-81.43871%5D%2C%20%5B37.771896%2C%20-122.223924%5D%2C%20%5B41.17902%2C%20-73.18119%5D%2C%20%5B45.46377%2C%20-122.63846%5D%2C%20%5B45.662838%2C%20-108.769122%5D%2C%20%5B39.508258%2C%20-107.880853%5D%2C%20%5B34.03899%2C%20-118.43995%5D%2C%20%5B33.78524%2C%20-117.83088%5D%2C%20%5B41.7567%2C%20-71.43506%5D%2C%20%5B47.57446%2C%20-122.17556%5D%2C%20%5B34.07288%2C%20-117.77604%5D%2C%20%5B33.504135%2C%20-117.15312%5D%2C%20%5B30.444233%2C%20-91.036124%5D%2C%20%5B40.600158%2C%20-112.2942%5D%2C%20%5B33.795623%2C%20-79.001214%5D%2C%20%5B42.812388%2C%20-121.834803%5D%2C%20%5B33.53869%2C%20-111.9257%5D%2C%20%5B40.11302%2C%20-75.32576%5D%2C%20%5B25.733243%2C%20-80.333047%5D%2C%20%5B42.49334%2C%20-83.30003%5D%2C%20%5B33.86876%2C%20-118.19536%5D%2C%20%5B40.82%2C%20-73.8904%5D%2C%20%5B36.26868%2C%20-121.14484%5D%2C%20%5B32.577709%2C%20-97.319704%5D%2C%20%5B39.91745%2C%20-75.251415%5D%2C%20%5B41.867474%2C%20-89.174461%5D%2C%20%5B40.945519%2C%20-73.848713%5D%2C%20%5B44.95556%2C%20-93.34757%5D%2C%20%5B40.03484%2C%20-76.24273%5D%2C%20%5B42.39459%2C%20-71.08772%5D%2C%20%5B42.890694%2C%20-83.625298%5D%2C%20%5B33.79798%2C%20-84.39578%5D%2C%20%5B40.29716%2C%20-111.73407%5D%2C%20%5B29.99571%2C%20-90.11608%5D%2C%20%5B29.87547%2C%20-95.3272%5D%2C%20%5B43.608244%2C%20-116.354632%5D%2C%20%5B40.03472%2C%20-75.35943%5D%2C%20%5B39.19335%2C%20-76.76246%5D%2C%20%5B32.170326%2C%20-111.075107%5D%2C%20%5B32.87024%2C%20-96.81097%5D%2C%20%5B38.602915%2C%20-121.355219%5D%2C%20%5B34.134101%2C%20-117.957133%5D%2C%20%5B42.46559%2C%20-87.96384%5D%2C%20%5B38.819836%2C%20-77.151693%5D%2C%20%5B33.99223%2C%20-80.95534%5D%2C%20%5B35.333307%2C%20-120.742739%5D%2C%20%5B33.719775%2C%20-117.795048%5D%2C%20%5B42.23356%2C%20-71.12218%5D%2C%20%5B32.25058%2C%20-110.8579%5D%2C%20%5B42.045277%2C%20-124.253648%5D%2C%20%5B37.5403%2C%20-121.92476%5D%2C%20%5B34.01462%2C%20-117.5505%5D%2C%20%5B35.145209%2C%20-80.84982%5D%2C%20%5B37.17026%2C%20-121.9898%5D%2C%20%5B46.609608%2C%20-111.935806%5D%2C%20%5B25.928039%2C%20-80.208594%5D%2C%20%5B33.930913%2C%20-118.17868%5D%2C%20%5B39.00617%2C%20-76.89825%5D%2C%20%5B40.70357%2C%20-73.47945%5D%2C%20%5B44.8612%2C%20-93.10589%5D%2C%20%5B41.81244%2C%20-71.40697%5D%2C%20%5B34.086509%2C%20-118.30313%5D%2C%20%5B33.95966%2C%20-81.22747%5D%2C%20%5B32.897768%2C%20-96.714138%5D%2C%20%5B29.41427%2C%20-98.479316%5D%2C%20%5B39.10096%2C%20-77.538559%5D%2C%20%5B37.792623%2C%20-121.189947%5D%2C%20%5B39.08914%2C%20-76.62509%5D%2C%20%5B39.04606%2C%20-94.41796%5D%2C%20%5B25.684798%2C%20-80.431106%5D%2C%20%5B37.621437%2C%20-122.077315%5D%2C%20%5B33.874272%2C%20-118.195735%5D%2C%20%5B33.996265%2C%20-117.92668%5D%2C%20%5B38.452532%2C%20-121.378165%5D%2C%20%5B28.576866%2C%20-81.700977%5D%2C%20%5B38.61778%2C%20-90.19109%5D%2C%20%5B38.877513%2C%20-121.131673%5D%2C%20%5B34.037393%2C%20-117.321056%5D%2C%20%5B33.934096%2C%20-117.40783%5D%2C%20%5B41.48653%2C%20-112.01203%5D%2C%20%5B29.75965%2C%20-95.40845%5D%2C%20%5B34.103689%2C%20-81.151991%5D%2C%20%5B38.10629%2C%20-85.67366%5D%2C%20%5B47.00878%2C%20-122.90693%5D%2C%20%5B34.171267%2C%20-118.515003%5D%2C%20%5B37.76095%2C%20-122.40623%5D%2C%20%5B27.43403%2C%20-82.459355%5D%2C%20%5B33.75014%2C%20-117.83201%5D%2C%20%5B34.135936%2C%20-117.302549%5D%2C%20%5B29.73335%2C%20-95.37172%5D%2C%20%5B40.74976%2C%20-111.90975%5D%2C%20%5B41.99927%2C%20-87.67743%5D%2C%20%5B30.447224%2C%20-97.789725%5D%2C%20%5B37.7809%2C%20-122.23868%5D%2C%20%5B35.59122%2C%20-80.85919%5D%2C%20%5B41.92451%2C%20-87.96655%5D%2C%20%5B42.87955%2C%20-89.06209%5D%2C%20%5B43.0357%2C%20-87.9705%5D%2C%20%5B38.05912%2C%20-85.69882%5D%2C%20%5B34.02185%2C%20-117.8136%5D%2C%20%5B33.84656%2C%20-117.86203%5D%2C%20%5B41.232537%2C%20-95.858706%5D%2C%20%5B33.659931%2C%20-84.497748%5D%2C%20%5B35.749565%2C%20-80.352061%5D%2C%20%5B37.612323%2C%20-79.083294%5D%2C%20%5B33.946541%2C%20-118.228579%5D%2C%20%5B39.157856%2C%20-76.516918%5D%2C%20%5B27.77979%2C%20-82.66044%5D%2C%20%5B47.15828%2C%20-122.43461%5D%2C%20%5B42.98613%2C%20-82.76485%5D%2C%20%5B42.479249%2C%20-83.088172%5D%2C%20%5B35.09473%2C%20-89.87019%5D%2C%20%5B43.275802%2C%20-122.455388%5D%2C%20%5B33.8544%2C%20-117.7908%5D%2C%20%5B37.86722%2C%20-122.20103%5D%2C%20%5B34.118417%2C%20-117.841404%5D%2C%20%5B30.248296%2C%20-81.759595%5D%2C%20%5B32.509068%2C%20-93.761055%5D%2C%20%5B25.896554%2C%20-80.324541%5D%2C%20%5B36.750583%2C%20-119.796502%5D%2C%20%5B35.1436%2C%20-80.89485%5D%2C%20%5B44.629205%2C%20-117.518831%5D%2C%20%5B28.51472%2C%20-81.38989%5D%2C%20%5B39.23489%2C%20-120.75429%5D%2C%20%5B40.68203%2C%20-73.69159%5D%2C%20%5B41.309788%2C%20-72.91465%5D%2C%20%5B41.501852%2C%20-87.319904%5D%2C%20%5B38.790693%2C%20-121.292277%5D%2C%20%5B32.7991%2C%20-117.21071%5D%2C%20%5B39.723177%2C%20-105.011196%5D%2C%20%5B40.547578%2C%20-124.096712%5D%2C%20%5B33.36743%2C%20-84.62917%5D%2C%20%5B38.34362%2C%20-77.4888%5D%2C%20%5B47.15929%2C%20-122.43424%5D%2C%20%5B40.682685%2C%20-73.666897%5D%2C%20%5B33.193359%2C%20-117.246379%5D%2C%20%5B38.85949%2C%20-77.070186%5D%2C%20%5B37.15749%2C%20-121.982095%5D%2C%20%5B35.343416%2C%20-78.582086%5D%2C%20%5B34.14999%2C%20-118.088729%5D%2C%20%5B48.50404%2C%20-122.33706%5D%2C%20%5B43.07061%2C%20-123.35435%5D%2C%20%5B37.789969%2C%20-121.291099%5D%2C%20%5B42.27904%2C%20-83.67643%5D%2C%20%5B46.18922%2C%20-123.84921%5D%2C%20%5B35.44209%2C%20-80.864562%5D%2C%20%5B35.924981%2C%20-89.874504%5D%2C%20%5B33.974652%2C%20-118.280597%5D%2C%20%5B38.09697%2C%20-84.48027%5D%2C%20%5B25.73279%2C%20-80.25387%5D%2C%20%5B45.09333%2C%20-93.00614%5D%2C%20%5B45.814566%2C%20-119.923321%5D%2C%20%5B38.03279%2C%20-78.864444%5D%2C%20%5B33.818107%2C%20-117.876179%5D%2C%20%5B40.62088%2C%20-111.90761%5D%2C%20%5B45.51913%2C%20-122.4552%5D%2C%20%5B33.79927%2C%20-112.03052%5D%2C%20%5B34.01246%2C%20-118.49052%5D%2C%20%5B25.6952%2C%20-80.31725%5D%2C%20%5B40.90249%2C%20-74.40751%5D%2C%20%5B39.378036%2C%20-76.744018%5D%2C%20%5B36.728189%2C%20-121.616184%5D%2C%20%5B42.47844%2C%20-123.35296%5D%2C%20%5B41.06245%2C%20-81.51383%5D%2C%20%5B40.68391%2C%20-74.276123%5D%2C%20%5B32.250762%2C%20-110.883523%5D%2C%20%5B37.94095%2C%20-122.05988%5D%2C%20%5B38.486805%2C%20-121.80384%5D%2C%20%5B40.7213%2C%20-73.39518%5D%2C%20%5B32.606655%2C%20-93.876358%5D%2C%20%5B41.67043%2C%20-72.82332%5D%2C%20%5B45.109667%2C%20-122.638441%5D%2C%20%5B36.059653%2C%20-90.545164%5D%2C%20%5B42.31141%2C%20-87.90267%5D%2C%20%5B44.24764%2C%20-121.027911%5D%2C%20%5B29.665713%2C%20-95.259622%5D%2C%20%5B33.96907%2C%20-117.328625%5D%2C%20%5B45.477106%2C%20-122.678779%5D%2C%20%5B25.871186%2C%20-80.2427%5D%2C%20%5B36.153947%2C%20-86.758278%5D%2C%20%5B44.448342%2C%20-89.599239%5D%2C%20%5B34.078632%2C%20-117.740792%5D%2C%20%5B33.928023%2C%20-118.237041%5D%2C%20%5B36.57342%2C%20-121.51827%5D%2C%20%5B33.965836%2C%20-118.370496%5D%2C%20%5B37.90503%2C%20-121.1473%5D%2C%20%5B39.631601%2C%20-79.317779%5D%2C%20%5B33.48524%2C%20-112.04093%5D%2C%20%5B37.55941%2C%20-77.4426%5D%2C%20%5B30.89709%2C%20-88.03862%5D%2C%20%5B43.49455%2C%20-89.4967%5D%2C%20%5B45.50292%2C%20-122.67337%5D%2C%20%5B29.713077%2C%20-95.503854%5D%2C%20%5B38.854471%2C%20-121.143908%5D%2C%20%5B33.57138%2C%20-112.06522%5D%2C%20%5B37.16695%2C%20-113.45176%5D%5D%2C%0A%20%20%20%20%20%20%20%20%20%20%20%20%20%20%20%20%7B%22blur%22%3A%2015%2C%20%22maxZoom%22%3A%2018%2C%20%22minOpacity%22%3A%200.5%2C%20%22radius%22%3A%2025%7D%0A%20%20%20%20%20%20%20%20%20%20%20%20%29.addTo%28map_b0874ba4fb344952ab6057e116f259f9%29%3B%0A%20%20%20%20%20%20%20%20%0A%3C/script%3E onload=\"this.contentDocument.open();this.contentDocument.write(    decodeURIComponent(this.getAttribute('data-html')));this.contentDocument.close();\" allowfullscreen webkitallowfullscreen mozallowfullscreen></iframe></div></div>"
      ],
      "text/plain": [
       "<folium.folium.Map at 0x28354a70c40>"
      ]
     },
     "execution_count": 135,
     "metadata": {},
     "output_type": "execute_result"
    }
   ],
   "source": [
    "map = folium.Map()\n",
    "HeatMap(lat_lon_pairs).add_to(map)\n",
    "map"
   ]
  },
  {
   "cell_type": "markdown",
   "id": "cf1ee0a6",
   "metadata": {},
   "source": [
    "## Ask & Answer Questions\n",
    "* Are there more accidents in warmer or colder areas\n",
    "* which states have the highest no. of accidents? How about per capita?\n",
    "* Does NY show up in the data? If yes why is the count lower if it is the most populated city?\n",
    "* Among top 100 cities in no. of accidents, which states do they belong to most frequently\n",
    "* What time of the da are accidents most frequent in -- DONE\n",
    "* Which days of the week have the most accidents \n",
    "* Which months have the most accidents\n",
    "* how safe is your state\n",
    "* When is accidents per unit of traffic the highest"
   ]
  },
  {
   "cell_type": "markdown",
   "id": "fa24f63a",
   "metadata": {},
   "source": [
    "## Summary & Conclusion\n",
    "* No data from Newyork\n",
    "* Less than 2% of cities have more than 1000 yearly accidents\n",
    "* Over 1000 cities have reported just one accident(Need to investigate)\n",
    "* No. of accidents per city decreases exponentially\n",
    "* From the heatmap we see that most of the accidents occur near/at the coast, with very little accidents occuring at Central USA(Need to investigate why)\n"
   ]
  }
 ],
 "metadata": {
  "kernelspec": {
   "display_name": "Python 3 (ipykernel)",
   "language": "python",
   "name": "python3"
  },
  "language_info": {
   "codemirror_mode": {
    "name": "ipython",
    "version": 3
   },
   "file_extension": ".py",
   "mimetype": "text/x-python",
   "name": "python",
   "nbconvert_exporter": "python",
   "pygments_lexer": "ipython3",
   "version": "3.9.7"
  }
 },
 "nbformat": 4,
 "nbformat_minor": 5
}
